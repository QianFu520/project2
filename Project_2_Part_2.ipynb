{
  "nbformat": 4,
  "nbformat_minor": 0,
  "metadata": {
    "colab": {
      "name": "Project 2 - Part 2.ipynb",
      "provenance": [],
      "collapsed_sections": [],
      "authorship_tag": "ABX9TyMz23Wts4HIgYtWFUrK/6/j",
      "include_colab_link": true
    },
    "kernelspec": {
      "name": "python3",
      "display_name": "Python 3"
    },
    "language_info": {
      "name": "python"
    }
  },
  "cells": [
    {
      "cell_type": "markdown",
      "metadata": {
        "id": "view-in-github",
        "colab_type": "text"
      },
      "source": [
        "<a href=\"https://colab.research.google.com/github/QianFu520/project2/blob/main/Project_2_Part_2.ipynb\" target=\"_parent\"><img src=\"https://colab.research.google.com/assets/colab-badge.svg\" alt=\"Open In Colab\"/></a>"
      ]
    },
    {
      "cell_type": "code",
      "execution_count": 1,
      "metadata": {
        "id": "DwHmStTCG7Nx"
      },
      "outputs": [],
      "source": [
        "import pandas as pd\n",
        "import numpy as np\n",
        "import matplotlib.pyplot as plt\n",
        "import seaborn as sns"
      ]
    },
    {
      "cell_type": "code",
      "source": [
        "df = pd.read_csv(\"/content/Wine.csv\")\n",
        "df.head()"
      ],
      "metadata": {
        "colab": {
          "base_uri": "https://localhost:8080/",
          "height": 206
        },
        "id": "NWevPHx5JO1A",
        "outputId": "3947e1fa-0b27-4620-d00c-d152b560eb16"
      },
      "execution_count": 2,
      "outputs": [
        {
          "output_type": "execute_result",
          "data": {
            "text/plain": [
              "          winery           wine  year  rating  num_reviews country  \\\n",
              "0  Teso La Monja          Tinto  2013     4.9           58  Espana   \n",
              "1         Artadi  Vina El Pison  2018     4.9           31  Espana   \n",
              "2   Vega Sicilia          Unico  2009     4.8         1793  Espana   \n",
              "3   Vega Sicilia          Unico  1999     4.8         1705  Espana   \n",
              "4   Vega Sicilia          Unico  1996     4.8         1309  Espana   \n",
              "\n",
              "             region   price                  type  body  acidity  \n",
              "0              Toro  995.00              Toro Red   5.0      3.0  \n",
              "1    Vino de Espana  313.50           Tempranillo   4.0      2.0  \n",
              "2  Ribera del Duero  324.95  Ribera Del Duero Red   5.0      3.0  \n",
              "3  Ribera del Duero  692.96  Ribera Del Duero Red   5.0      3.0  \n",
              "4  Ribera del Duero  778.06  Ribera Del Duero Red   5.0      3.0  "
            ],
            "text/html": [
              "\n",
              "  <div id=\"df-2be22f4e-e985-48e1-a281-db059e5f6a4a\">\n",
              "    <div class=\"colab-df-container\">\n",
              "      <div>\n",
              "<style scoped>\n",
              "    .dataframe tbody tr th:only-of-type {\n",
              "        vertical-align: middle;\n",
              "    }\n",
              "\n",
              "    .dataframe tbody tr th {\n",
              "        vertical-align: top;\n",
              "    }\n",
              "\n",
              "    .dataframe thead th {\n",
              "        text-align: right;\n",
              "    }\n",
              "</style>\n",
              "<table border=\"1\" class=\"dataframe\">\n",
              "  <thead>\n",
              "    <tr style=\"text-align: right;\">\n",
              "      <th></th>\n",
              "      <th>winery</th>\n",
              "      <th>wine</th>\n",
              "      <th>year</th>\n",
              "      <th>rating</th>\n",
              "      <th>num_reviews</th>\n",
              "      <th>country</th>\n",
              "      <th>region</th>\n",
              "      <th>price</th>\n",
              "      <th>type</th>\n",
              "      <th>body</th>\n",
              "      <th>acidity</th>\n",
              "    </tr>\n",
              "  </thead>\n",
              "  <tbody>\n",
              "    <tr>\n",
              "      <th>0</th>\n",
              "      <td>Teso La Monja</td>\n",
              "      <td>Tinto</td>\n",
              "      <td>2013</td>\n",
              "      <td>4.9</td>\n",
              "      <td>58</td>\n",
              "      <td>Espana</td>\n",
              "      <td>Toro</td>\n",
              "      <td>995.00</td>\n",
              "      <td>Toro Red</td>\n",
              "      <td>5.0</td>\n",
              "      <td>3.0</td>\n",
              "    </tr>\n",
              "    <tr>\n",
              "      <th>1</th>\n",
              "      <td>Artadi</td>\n",
              "      <td>Vina El Pison</td>\n",
              "      <td>2018</td>\n",
              "      <td>4.9</td>\n",
              "      <td>31</td>\n",
              "      <td>Espana</td>\n",
              "      <td>Vino de Espana</td>\n",
              "      <td>313.50</td>\n",
              "      <td>Tempranillo</td>\n",
              "      <td>4.0</td>\n",
              "      <td>2.0</td>\n",
              "    </tr>\n",
              "    <tr>\n",
              "      <th>2</th>\n",
              "      <td>Vega Sicilia</td>\n",
              "      <td>Unico</td>\n",
              "      <td>2009</td>\n",
              "      <td>4.8</td>\n",
              "      <td>1793</td>\n",
              "      <td>Espana</td>\n",
              "      <td>Ribera del Duero</td>\n",
              "      <td>324.95</td>\n",
              "      <td>Ribera Del Duero Red</td>\n",
              "      <td>5.0</td>\n",
              "      <td>3.0</td>\n",
              "    </tr>\n",
              "    <tr>\n",
              "      <th>3</th>\n",
              "      <td>Vega Sicilia</td>\n",
              "      <td>Unico</td>\n",
              "      <td>1999</td>\n",
              "      <td>4.8</td>\n",
              "      <td>1705</td>\n",
              "      <td>Espana</td>\n",
              "      <td>Ribera del Duero</td>\n",
              "      <td>692.96</td>\n",
              "      <td>Ribera Del Duero Red</td>\n",
              "      <td>5.0</td>\n",
              "      <td>3.0</td>\n",
              "    </tr>\n",
              "    <tr>\n",
              "      <th>4</th>\n",
              "      <td>Vega Sicilia</td>\n",
              "      <td>Unico</td>\n",
              "      <td>1996</td>\n",
              "      <td>4.8</td>\n",
              "      <td>1309</td>\n",
              "      <td>Espana</td>\n",
              "      <td>Ribera del Duero</td>\n",
              "      <td>778.06</td>\n",
              "      <td>Ribera Del Duero Red</td>\n",
              "      <td>5.0</td>\n",
              "      <td>3.0</td>\n",
              "    </tr>\n",
              "  </tbody>\n",
              "</table>\n",
              "</div>\n",
              "      <button class=\"colab-df-convert\" onclick=\"convertToInteractive('df-2be22f4e-e985-48e1-a281-db059e5f6a4a')\"\n",
              "              title=\"Convert this dataframe to an interactive table.\"\n",
              "              style=\"display:none;\">\n",
              "        \n",
              "  <svg xmlns=\"http://www.w3.org/2000/svg\" height=\"24px\"viewBox=\"0 0 24 24\"\n",
              "       width=\"24px\">\n",
              "    <path d=\"M0 0h24v24H0V0z\" fill=\"none\"/>\n",
              "    <path d=\"M18.56 5.44l.94 2.06.94-2.06 2.06-.94-2.06-.94-.94-2.06-.94 2.06-2.06.94zm-11 1L8.5 8.5l.94-2.06 2.06-.94-2.06-.94L8.5 2.5l-.94 2.06-2.06.94zm10 10l.94 2.06.94-2.06 2.06-.94-2.06-.94-.94-2.06-.94 2.06-2.06.94z\"/><path d=\"M17.41 7.96l-1.37-1.37c-.4-.4-.92-.59-1.43-.59-.52 0-1.04.2-1.43.59L10.3 9.45l-7.72 7.72c-.78.78-.78 2.05 0 2.83L4 21.41c.39.39.9.59 1.41.59.51 0 1.02-.2 1.41-.59l7.78-7.78 2.81-2.81c.8-.78.8-2.07 0-2.86zM5.41 20L4 18.59l7.72-7.72 1.47 1.35L5.41 20z\"/>\n",
              "  </svg>\n",
              "      </button>\n",
              "      \n",
              "  <style>\n",
              "    .colab-df-container {\n",
              "      display:flex;\n",
              "      flex-wrap:wrap;\n",
              "      gap: 12px;\n",
              "    }\n",
              "\n",
              "    .colab-df-convert {\n",
              "      background-color: #E8F0FE;\n",
              "      border: none;\n",
              "      border-radius: 50%;\n",
              "      cursor: pointer;\n",
              "      display: none;\n",
              "      fill: #1967D2;\n",
              "      height: 32px;\n",
              "      padding: 0 0 0 0;\n",
              "      width: 32px;\n",
              "    }\n",
              "\n",
              "    .colab-df-convert:hover {\n",
              "      background-color: #E2EBFA;\n",
              "      box-shadow: 0px 1px 2px rgba(60, 64, 67, 0.3), 0px 1px 3px 1px rgba(60, 64, 67, 0.15);\n",
              "      fill: #174EA6;\n",
              "    }\n",
              "\n",
              "    [theme=dark] .colab-df-convert {\n",
              "      background-color: #3B4455;\n",
              "      fill: #D2E3FC;\n",
              "    }\n",
              "\n",
              "    [theme=dark] .colab-df-convert:hover {\n",
              "      background-color: #434B5C;\n",
              "      box-shadow: 0px 1px 3px 1px rgba(0, 0, 0, 0.15);\n",
              "      filter: drop-shadow(0px 1px 2px rgba(0, 0, 0, 0.3));\n",
              "      fill: #FFFFFF;\n",
              "    }\n",
              "  </style>\n",
              "\n",
              "      <script>\n",
              "        const buttonEl =\n",
              "          document.querySelector('#df-2be22f4e-e985-48e1-a281-db059e5f6a4a button.colab-df-convert');\n",
              "        buttonEl.style.display =\n",
              "          google.colab.kernel.accessAllowed ? 'block' : 'none';\n",
              "\n",
              "        async function convertToInteractive(key) {\n",
              "          const element = document.querySelector('#df-2be22f4e-e985-48e1-a281-db059e5f6a4a');\n",
              "          const dataTable =\n",
              "            await google.colab.kernel.invokeFunction('convertToInteractive',\n",
              "                                                     [key], {});\n",
              "          if (!dataTable) return;\n",
              "\n",
              "          const docLinkHtml = 'Like what you see? Visit the ' +\n",
              "            '<a target=\"_blank\" href=https://colab.research.google.com/notebooks/data_table.ipynb>data table notebook</a>'\n",
              "            + ' to learn more about interactive tables.';\n",
              "          element.innerHTML = '';\n",
              "          dataTable['output_type'] = 'display_data';\n",
              "          await google.colab.output.renderOutput(dataTable, element);\n",
              "          const docLink = document.createElement('div');\n",
              "          docLink.innerHTML = docLinkHtml;\n",
              "          element.appendChild(docLink);\n",
              "        }\n",
              "      </script>\n",
              "    </div>\n",
              "  </div>\n",
              "  "
            ]
          },
          "metadata": {},
          "execution_count": 2
        }
      ]
    },
    {
      "cell_type": "markdown",
      "source": [
        "# Data Cleaning"
      ],
      "metadata": {
        "id": "18sgrTlNJr8Y"
      }
    },
    {
      "cell_type": "markdown",
      "source": [
        "**Deleted unnecessary columns**"
      ],
      "metadata": {
        "id": "ycbGfxRQfby7"
      }
    },
    {
      "cell_type": "code",
      "source": [
        "#I decided to delete country column, because there is only one country: Espana, it doesn't make impact on predicting the wine price.\n",
        "df.drop(columns=\"country\", inplace= True)"
      ],
      "metadata": {
        "id": "Fnjlu7A9gtf0"
      },
      "execution_count": 3,
      "outputs": []
    },
    {
      "cell_type": "markdown",
      "source": [
        "**Check and drop any duplicates**"
      ],
      "metadata": {
        "id": "EBYu00-qK30P"
      }
    },
    {
      "cell_type": "code",
      "source": [
        "#check for duplicates\n",
        "df.duplicated().sum()"
      ],
      "metadata": {
        "colab": {
          "base_uri": "https://localhost:8080/"
        },
        "id": "zLDjkN4YKi27",
        "outputId": "01b5d159-1b80-4927-f5b0-80e97eefbd6a"
      },
      "execution_count": 4,
      "outputs": [
        {
          "output_type": "execute_result",
          "data": {
            "text/plain": [
              "5452"
            ]
          },
          "metadata": {},
          "execution_count": 4
        }
      ]
    },
    {
      "cell_type": "code",
      "source": [
        "#Drop all the duplicates\n",
        "df.drop_duplicates(inplace=True)\n",
        "df.duplicated().sum()"
      ],
      "metadata": {
        "colab": {
          "base_uri": "https://localhost:8080/"
        },
        "id": "8C3alzvpKs3I",
        "outputId": "5a005483-196c-4ff0-ea02-5808e6ffb28d"
      },
      "execution_count": 5,
      "outputs": [
        {
          "output_type": "execute_result",
          "data": {
            "text/plain": [
              "0"
            ]
          },
          "metadata": {},
          "execution_count": 5
        }
      ]
    },
    {
      "cell_type": "code",
      "source": [
        "df.shape"
      ],
      "metadata": {
        "colab": {
          "base_uri": "https://localhost:8080/"
        },
        "id": "suWqjnN-Qwqu",
        "outputId": "6b2ae0f2-7362-415b-d1ef-f3131ce19d51"
      },
      "execution_count": 6,
      "outputs": [
        {
          "output_type": "execute_result",
          "data": {
            "text/plain": [
              "(2048, 10)"
            ]
          },
          "metadata": {},
          "execution_count": 6
        }
      ]
    },
    {
      "cell_type": "markdown",
      "source": [
        "# **Identify and address any missing values in this dataset.**\n"
      ],
      "metadata": {
        "id": "WzdGGPDBK-WO"
      }
    },
    {
      "cell_type": "code",
      "source": [
        "df.isna().sum()"
      ],
      "metadata": {
        "colab": {
          "base_uri": "https://localhost:8080/"
        },
        "id": "yyx-Sa-eLBpI",
        "outputId": "f0311595-01c6-4148-a59c-1c0887aa0132"
      },
      "execution_count": 7,
      "outputs": [
        {
          "output_type": "execute_result",
          "data": {
            "text/plain": [
              "winery           0\n",
              "wine             0\n",
              "year             2\n",
              "rating           0\n",
              "num_reviews      0\n",
              "region           0\n",
              "price            0\n",
              "type           106\n",
              "body           271\n",
              "acidity        271\n",
              "dtype: int64"
            ]
          },
          "metadata": {},
          "execution_count": 7
        }
      ]
    },
    {
      "cell_type": "markdown",
      "source": [
        "I can see that there are 2 missing values in 'year' column, 106 missing values in \"type\" column, 271 missing values in \"body\" column, and 271 missing values in \"acidity\" column."
      ],
      "metadata": {
        "id": "a9aR5kP5LHl5"
      }
    },
    {
      "cell_type": "markdown",
      "source": [
        "**Figure out the method for dealing with the missing values in type column**"
      ],
      "metadata": {
        "id": "OHcnzNKJR6GJ"
      }
    },
    {
      "cell_type": "code",
      "source": [
        "#check the value count in type column\n",
        "df[\"type\"].value_counts()"
      ],
      "metadata": {
        "colab": {
          "base_uri": "https://localhost:8080/"
        },
        "id": "y83lPo6fRSPi",
        "outputId": "6d5cf590-7cf8-474e-866b-23340fb10516"
      },
      "execution_count": 8,
      "outputs": [
        {
          "output_type": "execute_result",
          "data": {
            "text/plain": [
              "Ribera Del Duero Red    535\n",
              "Rioja Red               451\n",
              "Priorat Red             238\n",
              "Red                     210\n",
              "Toro Red                 78\n",
              "Tempranillo              73\n",
              "Sherry                   56\n",
              "Rioja White              37\n",
              "Pedro Ximenez            35\n",
              "Grenache                 35\n",
              "Albarino                 34\n",
              "Cava                     33\n",
              "Verdejo                  27\n",
              "Monastrell               18\n",
              "Mencia                   17\n",
              "Montsant Red             17\n",
              "Syrah                    15\n",
              "Chardonnay               13\n",
              "Cabernet Sauvignon       11\n",
              "Sparkling                 5\n",
              "Sauvignon Blanc           4\n",
              "Name: type, dtype: int64"
            ]
          },
          "metadata": {},
          "execution_count": 8
        }
      ]
    },
    {
      "cell_type": "code",
      "source": [
        "df[\"type\"].mode() #find out the most frequent type"
      ],
      "metadata": {
        "colab": {
          "base_uri": "https://localhost:8080/"
        },
        "id": "Gi6bOz4cSkKD",
        "outputId": "772da077-aa07-4495-ceac-dc1f4d704bf3"
      },
      "execution_count": 9,
      "outputs": [
        {
          "output_type": "execute_result",
          "data": {
            "text/plain": [
              "0    Ribera Del Duero Red\n",
              "dtype: object"
            ]
          },
          "metadata": {},
          "execution_count": 9
        }
      ]
    },
    {
      "cell_type": "markdown",
      "source": [
        "The most frequent type is Ribera Del Duero Red, I will fill the missing values with Del Duero Red. I will address this after the data split."
      ],
      "metadata": {
        "id": "vWWoGezOS-wb"
      }
    },
    {
      "cell_type": "markdown",
      "source": [
        "**Figure out the method for dealing with the missing values in body and acidity column**"
      ],
      "metadata": {
        "id": "c4YV5_7FTXbJ"
      }
    },
    {
      "cell_type": "code",
      "source": [
        "#check the stats information of body column\n",
        "df[\"body\"].describe().round(1)"
      ],
      "metadata": {
        "colab": {
          "base_uri": "https://localhost:8080/"
        },
        "id": "1Q208GGdTWw-",
        "outputId": "42809830-9e91-47d8-9b41-09c0ba0377ef"
      },
      "execution_count": 10,
      "outputs": [
        {
          "output_type": "execute_result",
          "data": {
            "text/plain": [
              "count    1777.0\n",
              "mean        4.3\n",
              "std         0.7\n",
              "min         2.0\n",
              "25%         4.0\n",
              "50%         4.0\n",
              "75%         5.0\n",
              "max         5.0\n",
              "Name: body, dtype: float64"
            ]
          },
          "metadata": {},
          "execution_count": 10
        }
      ]
    },
    {
      "cell_type": "code",
      "source": [
        "#check the most frequent value \n",
        "df[\"body\"].value_counts()"
      ],
      "metadata": {
        "colab": {
          "base_uri": "https://localhost:8080/"
        },
        "id": "ButC8uU1WNu-",
        "outputId": "1378a0b6-161e-414c-ef93-75d466c87bb8"
      },
      "execution_count": 11,
      "outputs": [
        {
          "output_type": "execute_result",
          "data": {
            "text/plain": [
              "4.0    1003\n",
              "5.0     634\n",
              "3.0     106\n",
              "2.0      34\n",
              "Name: body, dtype: int64"
            ]
          },
          "metadata": {},
          "execution_count": 11
        }
      ]
    },
    {
      "cell_type": "markdown",
      "source": [
        "I can see that the most frequent body value is 4.0, the mean value of the body is around 4.3. I can use the SimpleImputer(strategy= 'mean') method to fill in the missing values in body column.I will address this after the data split"
      ],
      "metadata": {
        "id": "E5ELYNjdVA9G"
      }
    },
    {
      "cell_type": "code",
      "source": [
        "#check the stats information of acidity column\n",
        "df[\"acidity\"].describe().round(1)"
      ],
      "metadata": {
        "colab": {
          "base_uri": "https://localhost:8080/"
        },
        "id": "5n43UrqIVdCM",
        "outputId": "49d882b2-e91f-410f-ce1c-f16058cb2131"
      },
      "execution_count": 12,
      "outputs": [
        {
          "output_type": "execute_result",
          "data": {
            "text/plain": [
              "count    1777.0\n",
              "mean        2.9\n",
              "std         0.3\n",
              "min         1.0\n",
              "25%         3.0\n",
              "50%         3.0\n",
              "75%         3.0\n",
              "max         3.0\n",
              "Name: acidity, dtype: float64"
            ]
          },
          "metadata": {},
          "execution_count": 12
        }
      ]
    },
    {
      "cell_type": "code",
      "source": [
        "#check the most frequent value\n",
        "df[\"acidity\"].value_counts()"
      ],
      "metadata": {
        "colab": {
          "base_uri": "https://localhost:8080/"
        },
        "id": "HRTUI9jtXaZ0",
        "outputId": "8c940428-24aa-477e-8792-4d18071292fe"
      },
      "execution_count": 13,
      "outputs": [
        {
          "output_type": "execute_result",
          "data": {
            "text/plain": [
              "3.0    1672\n",
              "2.0      70\n",
              "1.0      35\n",
              "Name: acidity, dtype: int64"
            ]
          },
          "metadata": {},
          "execution_count": 13
        }
      ]
    },
    {
      "cell_type": "markdown",
      "source": [
        "I can see that the most frequent acidity value is 3.0, the mean value of the body is around 2.9. I can use the SimpleImputer(strategy= 'mean') method to fill in the missing values in acidity column.I will address this after the data split"
      ],
      "metadata": {
        "id": "-vwD96vwV6ED"
      }
    },
    {
      "cell_type": "markdown",
      "source": [
        "# Identified and corrected inconsistencies in data for categorical values"
      ],
      "metadata": {
        "id": "_ZM5ltwvWBj-"
      }
    },
    {
      "cell_type": "code",
      "source": [
        "dtypes = df.dtypes\n",
        "str_cols = dtypes[dtypes==\"object\"].index\n",
        "for col in str_cols:\n",
        "  print(f'-Column={col}')\n",
        "  print(df[col].value_counts(dropna=False))\n",
        "  print('\\n\\n')"
      ],
      "metadata": {
        "colab": {
          "base_uri": "https://localhost:8080/"
        },
        "id": "3GnpP3h-bqcM",
        "outputId": "53ae1e8b-1047-4b21-ddad-6289d1513a7a"
      },
      "execution_count": 14,
      "outputs": [
        {
          "output_type": "stream",
          "name": "stdout",
          "text": [
            "-Column=winery\n",
            "Vega Sicilia                            97\n",
            "Alvaro Palacios                         48\n",
            "Artadi                                  43\n",
            "La Rioja Alta                           36\n",
            "Marques de Murrieta                     33\n",
            "                                        ..\n",
            "Valdelosfrailes                          1\n",
            "Briego                                   1\n",
            "Guillem Carol - Cellers Carol Valles     1\n",
            "Particular                               1\n",
            "Binigrau                                 1\n",
            "Name: winery, Length: 480, dtype: int64\n",
            "\n",
            "\n",
            "\n",
            "-Column=wine\n",
            "Tinto                                                 56\n",
            "Unico                                                 41\n",
            "Valbuena 5o                                           32\n",
            "Reserva                                               31\n",
            "Priorat                                               26\n",
            "                                                      ..\n",
            "San Valentin Parellada                                 1\n",
            "Silvanus Edicion Limitada Ribera del Duero             1\n",
            "El Jardin de las Iguales Vinedo Historico Garnacha     1\n",
            "Garnacha Vinas Centenarias                             1\n",
            "Capricho Crianza                                       1\n",
            "Name: wine, Length: 847, dtype: int64\n",
            "\n",
            "\n",
            "\n",
            "-Column=year\n",
            "2016    243\n",
            "2017    240\n",
            "2015    206\n",
            "2018    196\n",
            "2014    158\n",
            "       ... \n",
            "1953      1\n",
            "1972      1\n",
            "1974      1\n",
            "1931      1\n",
            "1925      1\n",
            "Name: year, Length: 72, dtype: int64\n",
            "\n",
            "\n",
            "\n",
            "-Column=region\n",
            "Ribera del Duero                   541\n",
            "Rioja                              479\n",
            "Priorato                           250\n",
            "Toro                                82\n",
            "Castilla y Leon                     51\n",
            "                                  ... \n",
            "Ribera del Gallego-Cinco Villas      1\n",
            "Monterrei                            1\n",
            "Jerez Cream                          1\n",
            "Condado de Huelva                    1\n",
            "Abona                                1\n",
            "Name: region, Length: 76, dtype: int64\n",
            "\n",
            "\n",
            "\n",
            "-Column=type\n",
            "Ribera Del Duero Red    535\n",
            "Rioja Red               451\n",
            "Priorat Red             238\n",
            "Red                     210\n",
            "NaN                     106\n",
            "Toro Red                 78\n",
            "Tempranillo              73\n",
            "Sherry                   56\n",
            "Rioja White              37\n",
            "Pedro Ximenez            35\n",
            "Grenache                 35\n",
            "Albarino                 34\n",
            "Cava                     33\n",
            "Verdejo                  27\n",
            "Monastrell               18\n",
            "Mencia                   17\n",
            "Montsant Red             17\n",
            "Syrah                    15\n",
            "Chardonnay               13\n",
            "Cabernet Sauvignon       11\n",
            "Sparkling                 5\n",
            "Sauvignon Blanc           4\n",
            "Name: type, dtype: int64\n",
            "\n",
            "\n",
            "\n"
          ]
        }
      ]
    },
    {
      "cell_type": "markdown",
      "source": [
        "I can't tell there are inconsistencies in data for categorical values"
      ],
      "metadata": {
        "id": "tR1dTG7qc1Wj"
      }
    },
    {
      "cell_type": "markdown",
      "source": [
        "# Ensure all columns data types are correct"
      ],
      "metadata": {
        "id": "e7M779LxbsbL"
      }
    },
    {
      "cell_type": "code",
      "source": [
        "df.info()"
      ],
      "metadata": {
        "colab": {
          "base_uri": "https://localhost:8080/"
        },
        "id": "5sPQfZtab52S",
        "outputId": "04d49fc6-4f5e-4934-db82-4965ae79f36d"
      },
      "execution_count": 15,
      "outputs": [
        {
          "output_type": "stream",
          "name": "stdout",
          "text": [
            "<class 'pandas.core.frame.DataFrame'>\n",
            "Int64Index: 2048 entries, 0 to 6100\n",
            "Data columns (total 10 columns):\n",
            " #   Column       Non-Null Count  Dtype  \n",
            "---  ------       --------------  -----  \n",
            " 0   winery       2048 non-null   object \n",
            " 1   wine         2048 non-null   object \n",
            " 2   year         2046 non-null   object \n",
            " 3   rating       2048 non-null   float64\n",
            " 4   num_reviews  2048 non-null   int64  \n",
            " 5   region       2048 non-null   object \n",
            " 6   price        2048 non-null   float64\n",
            " 7   type         1942 non-null   object \n",
            " 8   body         1777 non-null   float64\n",
            " 9   acidity      1777 non-null   float64\n",
            "dtypes: float64(4), int64(1), object(5)\n",
            "memory usage: 176.0+ KB\n"
          ]
        }
      ]
    },
    {
      "cell_type": "markdown",
      "source": [
        "I can see that the data type of \"year\" column is not correct. I will change it from object to inter."
      ],
      "metadata": {
        "id": "XwpcjoBHcKpw"
      }
    },
    {
      "cell_type": "code",
      "source": [
        "df[\"year\"] = df[\"year\"].astype(int)\n",
        "df.dtypes"
      ],
      "metadata": {
        "colab": {
          "base_uri": "https://localhost:8080/",
          "height": 241
        },
        "id": "MeeNk7SKcVeR",
        "outputId": "029444fe-0c87-4775-a0f2-b7fb145ee4e2"
      },
      "execution_count": 16,
      "outputs": [
        {
          "output_type": "error",
          "ename": "ValueError",
          "evalue": "ignored",
          "traceback": [
            "\u001b[0;31m---------------------------------------------------------------------------\u001b[0m",
            "\u001b[0;31mValueError\u001b[0m                                Traceback (most recent call last)",
            "\u001b[0;32m<ipython-input-16-f0122209df96>\u001b[0m in \u001b[0;36m<module>\u001b[0;34m()\u001b[0m\n\u001b[0;32m----> 1\u001b[0;31m \u001b[0mdf\u001b[0m\u001b[0;34m[\u001b[0m\u001b[0;34m\"year\"\u001b[0m\u001b[0;34m]\u001b[0m \u001b[0;34m=\u001b[0m \u001b[0mdf\u001b[0m\u001b[0;34m[\u001b[0m\u001b[0;34m\"year\"\u001b[0m\u001b[0;34m]\u001b[0m\u001b[0;34m.\u001b[0m\u001b[0mastype\u001b[0m\u001b[0;34m(\u001b[0m\u001b[0mint\u001b[0m\u001b[0;34m)\u001b[0m\u001b[0;34m\u001b[0m\u001b[0;34m\u001b[0m\u001b[0m\n\u001b[0m\u001b[1;32m      2\u001b[0m \u001b[0mdf\u001b[0m\u001b[0;34m.\u001b[0m\u001b[0mdtypes\u001b[0m\u001b[0;34m\u001b[0m\u001b[0;34m\u001b[0m\u001b[0m\n",
            "\u001b[0;32m/usr/local/lib/python3.7/dist-packages/pandas/core/generic.py\u001b[0m in \u001b[0;36mastype\u001b[0;34m(self, dtype, copy, errors)\u001b[0m\n\u001b[1;32m   5813\u001b[0m         \u001b[0;32melse\u001b[0m\u001b[0;34m:\u001b[0m\u001b[0;34m\u001b[0m\u001b[0;34m\u001b[0m\u001b[0m\n\u001b[1;32m   5814\u001b[0m             \u001b[0;31m# else, only a single dtype is given\u001b[0m\u001b[0;34m\u001b[0m\u001b[0;34m\u001b[0m\u001b[0;34m\u001b[0m\u001b[0m\n\u001b[0;32m-> 5815\u001b[0;31m             \u001b[0mnew_data\u001b[0m \u001b[0;34m=\u001b[0m \u001b[0mself\u001b[0m\u001b[0;34m.\u001b[0m\u001b[0m_mgr\u001b[0m\u001b[0;34m.\u001b[0m\u001b[0mastype\u001b[0m\u001b[0;34m(\u001b[0m\u001b[0mdtype\u001b[0m\u001b[0;34m=\u001b[0m\u001b[0mdtype\u001b[0m\u001b[0;34m,\u001b[0m \u001b[0mcopy\u001b[0m\u001b[0;34m=\u001b[0m\u001b[0mcopy\u001b[0m\u001b[0;34m,\u001b[0m \u001b[0merrors\u001b[0m\u001b[0;34m=\u001b[0m\u001b[0merrors\u001b[0m\u001b[0;34m)\u001b[0m\u001b[0;34m\u001b[0m\u001b[0;34m\u001b[0m\u001b[0m\n\u001b[0m\u001b[1;32m   5816\u001b[0m             \u001b[0;32mreturn\u001b[0m \u001b[0mself\u001b[0m\u001b[0;34m.\u001b[0m\u001b[0m_constructor\u001b[0m\u001b[0;34m(\u001b[0m\u001b[0mnew_data\u001b[0m\u001b[0;34m)\u001b[0m\u001b[0;34m.\u001b[0m\u001b[0m__finalize__\u001b[0m\u001b[0;34m(\u001b[0m\u001b[0mself\u001b[0m\u001b[0;34m,\u001b[0m \u001b[0mmethod\u001b[0m\u001b[0;34m=\u001b[0m\u001b[0;34m\"astype\"\u001b[0m\u001b[0;34m)\u001b[0m\u001b[0;34m\u001b[0m\u001b[0;34m\u001b[0m\u001b[0m\n\u001b[1;32m   5817\u001b[0m \u001b[0;34m\u001b[0m\u001b[0m\n",
            "\u001b[0;32m/usr/local/lib/python3.7/dist-packages/pandas/core/internals/managers.py\u001b[0m in \u001b[0;36mastype\u001b[0;34m(self, dtype, copy, errors)\u001b[0m\n\u001b[1;32m    416\u001b[0m \u001b[0;34m\u001b[0m\u001b[0m\n\u001b[1;32m    417\u001b[0m     \u001b[0;32mdef\u001b[0m \u001b[0mastype\u001b[0m\u001b[0;34m(\u001b[0m\u001b[0mself\u001b[0m\u001b[0;34m:\u001b[0m \u001b[0mT\u001b[0m\u001b[0;34m,\u001b[0m \u001b[0mdtype\u001b[0m\u001b[0;34m,\u001b[0m \u001b[0mcopy\u001b[0m\u001b[0;34m:\u001b[0m \u001b[0mbool\u001b[0m \u001b[0;34m=\u001b[0m \u001b[0;32mFalse\u001b[0m\u001b[0;34m,\u001b[0m \u001b[0merrors\u001b[0m\u001b[0;34m:\u001b[0m \u001b[0mstr\u001b[0m \u001b[0;34m=\u001b[0m \u001b[0;34m\"raise\"\u001b[0m\u001b[0;34m)\u001b[0m \u001b[0;34m->\u001b[0m \u001b[0mT\u001b[0m\u001b[0;34m:\u001b[0m\u001b[0;34m\u001b[0m\u001b[0;34m\u001b[0m\u001b[0m\n\u001b[0;32m--> 418\u001b[0;31m         \u001b[0;32mreturn\u001b[0m \u001b[0mself\u001b[0m\u001b[0;34m.\u001b[0m\u001b[0mapply\u001b[0m\u001b[0;34m(\u001b[0m\u001b[0;34m\"astype\"\u001b[0m\u001b[0;34m,\u001b[0m \u001b[0mdtype\u001b[0m\u001b[0;34m=\u001b[0m\u001b[0mdtype\u001b[0m\u001b[0;34m,\u001b[0m \u001b[0mcopy\u001b[0m\u001b[0;34m=\u001b[0m\u001b[0mcopy\u001b[0m\u001b[0;34m,\u001b[0m \u001b[0merrors\u001b[0m\u001b[0;34m=\u001b[0m\u001b[0merrors\u001b[0m\u001b[0;34m)\u001b[0m\u001b[0;34m\u001b[0m\u001b[0;34m\u001b[0m\u001b[0m\n\u001b[0m\u001b[1;32m    419\u001b[0m \u001b[0;34m\u001b[0m\u001b[0m\n\u001b[1;32m    420\u001b[0m     def convert(\n",
            "\u001b[0;32m/usr/local/lib/python3.7/dist-packages/pandas/core/internals/managers.py\u001b[0m in \u001b[0;36mapply\u001b[0;34m(self, f, align_keys, ignore_failures, **kwargs)\u001b[0m\n\u001b[1;32m    325\u001b[0m                     \u001b[0mapplied\u001b[0m \u001b[0;34m=\u001b[0m \u001b[0mb\u001b[0m\u001b[0;34m.\u001b[0m\u001b[0mapply\u001b[0m\u001b[0;34m(\u001b[0m\u001b[0mf\u001b[0m\u001b[0;34m,\u001b[0m \u001b[0;34m**\u001b[0m\u001b[0mkwargs\u001b[0m\u001b[0;34m)\u001b[0m\u001b[0;34m\u001b[0m\u001b[0;34m\u001b[0m\u001b[0m\n\u001b[1;32m    326\u001b[0m                 \u001b[0;32melse\u001b[0m\u001b[0;34m:\u001b[0m\u001b[0;34m\u001b[0m\u001b[0;34m\u001b[0m\u001b[0m\n\u001b[0;32m--> 327\u001b[0;31m                     \u001b[0mapplied\u001b[0m \u001b[0;34m=\u001b[0m \u001b[0mgetattr\u001b[0m\u001b[0;34m(\u001b[0m\u001b[0mb\u001b[0m\u001b[0;34m,\u001b[0m \u001b[0mf\u001b[0m\u001b[0;34m)\u001b[0m\u001b[0;34m(\u001b[0m\u001b[0;34m**\u001b[0m\u001b[0mkwargs\u001b[0m\u001b[0;34m)\u001b[0m\u001b[0;34m\u001b[0m\u001b[0;34m\u001b[0m\u001b[0m\n\u001b[0m\u001b[1;32m    328\u001b[0m             \u001b[0;32mexcept\u001b[0m \u001b[0;34m(\u001b[0m\u001b[0mTypeError\u001b[0m\u001b[0;34m,\u001b[0m \u001b[0mNotImplementedError\u001b[0m\u001b[0;34m)\u001b[0m\u001b[0;34m:\u001b[0m\u001b[0;34m\u001b[0m\u001b[0;34m\u001b[0m\u001b[0m\n\u001b[1;32m    329\u001b[0m                 \u001b[0;32mif\u001b[0m \u001b[0;32mnot\u001b[0m \u001b[0mignore_failures\u001b[0m\u001b[0;34m:\u001b[0m\u001b[0;34m\u001b[0m\u001b[0;34m\u001b[0m\u001b[0m\n",
            "\u001b[0;32m/usr/local/lib/python3.7/dist-packages/pandas/core/internals/blocks.py\u001b[0m in \u001b[0;36mastype\u001b[0;34m(self, dtype, copy, errors)\u001b[0m\n\u001b[1;32m    589\u001b[0m         \u001b[0mvalues\u001b[0m \u001b[0;34m=\u001b[0m \u001b[0mself\u001b[0m\u001b[0;34m.\u001b[0m\u001b[0mvalues\u001b[0m\u001b[0;34m\u001b[0m\u001b[0;34m\u001b[0m\u001b[0m\n\u001b[1;32m    590\u001b[0m \u001b[0;34m\u001b[0m\u001b[0m\n\u001b[0;32m--> 591\u001b[0;31m         \u001b[0mnew_values\u001b[0m \u001b[0;34m=\u001b[0m \u001b[0mastype_array_safe\u001b[0m\u001b[0;34m(\u001b[0m\u001b[0mvalues\u001b[0m\u001b[0;34m,\u001b[0m \u001b[0mdtype\u001b[0m\u001b[0;34m,\u001b[0m \u001b[0mcopy\u001b[0m\u001b[0;34m=\u001b[0m\u001b[0mcopy\u001b[0m\u001b[0;34m,\u001b[0m \u001b[0merrors\u001b[0m\u001b[0;34m=\u001b[0m\u001b[0merrors\u001b[0m\u001b[0;34m)\u001b[0m\u001b[0;34m\u001b[0m\u001b[0;34m\u001b[0m\u001b[0m\n\u001b[0m\u001b[1;32m    592\u001b[0m \u001b[0;34m\u001b[0m\u001b[0m\n\u001b[1;32m    593\u001b[0m         \u001b[0mnew_values\u001b[0m \u001b[0;34m=\u001b[0m \u001b[0mmaybe_coerce_values\u001b[0m\u001b[0;34m(\u001b[0m\u001b[0mnew_values\u001b[0m\u001b[0;34m)\u001b[0m\u001b[0;34m\u001b[0m\u001b[0;34m\u001b[0m\u001b[0m\n",
            "\u001b[0;32m/usr/local/lib/python3.7/dist-packages/pandas/core/dtypes/cast.py\u001b[0m in \u001b[0;36mastype_array_safe\u001b[0;34m(values, dtype, copy, errors)\u001b[0m\n\u001b[1;32m   1307\u001b[0m \u001b[0;34m\u001b[0m\u001b[0m\n\u001b[1;32m   1308\u001b[0m     \u001b[0;32mtry\u001b[0m\u001b[0;34m:\u001b[0m\u001b[0;34m\u001b[0m\u001b[0;34m\u001b[0m\u001b[0m\n\u001b[0;32m-> 1309\u001b[0;31m         \u001b[0mnew_values\u001b[0m \u001b[0;34m=\u001b[0m \u001b[0mastype_array\u001b[0m\u001b[0;34m(\u001b[0m\u001b[0mvalues\u001b[0m\u001b[0;34m,\u001b[0m \u001b[0mdtype\u001b[0m\u001b[0;34m,\u001b[0m \u001b[0mcopy\u001b[0m\u001b[0;34m=\u001b[0m\u001b[0mcopy\u001b[0m\u001b[0;34m)\u001b[0m\u001b[0;34m\u001b[0m\u001b[0;34m\u001b[0m\u001b[0m\n\u001b[0m\u001b[1;32m   1310\u001b[0m     \u001b[0;32mexcept\u001b[0m \u001b[0;34m(\u001b[0m\u001b[0mValueError\u001b[0m\u001b[0;34m,\u001b[0m \u001b[0mTypeError\u001b[0m\u001b[0;34m)\u001b[0m\u001b[0;34m:\u001b[0m\u001b[0;34m\u001b[0m\u001b[0;34m\u001b[0m\u001b[0m\n\u001b[1;32m   1311\u001b[0m         \u001b[0;31m# e.g. astype_nansafe can fail on object-dtype of strings\u001b[0m\u001b[0;34m\u001b[0m\u001b[0;34m\u001b[0m\u001b[0;34m\u001b[0m\u001b[0m\n",
            "\u001b[0;32m/usr/local/lib/python3.7/dist-packages/pandas/core/dtypes/cast.py\u001b[0m in \u001b[0;36mastype_array\u001b[0;34m(values, dtype, copy)\u001b[0m\n\u001b[1;32m   1255\u001b[0m \u001b[0;34m\u001b[0m\u001b[0m\n\u001b[1;32m   1256\u001b[0m     \u001b[0;32melse\u001b[0m\u001b[0;34m:\u001b[0m\u001b[0;34m\u001b[0m\u001b[0;34m\u001b[0m\u001b[0m\n\u001b[0;32m-> 1257\u001b[0;31m         \u001b[0mvalues\u001b[0m \u001b[0;34m=\u001b[0m \u001b[0mastype_nansafe\u001b[0m\u001b[0;34m(\u001b[0m\u001b[0mvalues\u001b[0m\u001b[0;34m,\u001b[0m \u001b[0mdtype\u001b[0m\u001b[0;34m,\u001b[0m \u001b[0mcopy\u001b[0m\u001b[0;34m=\u001b[0m\u001b[0mcopy\u001b[0m\u001b[0;34m)\u001b[0m\u001b[0;34m\u001b[0m\u001b[0;34m\u001b[0m\u001b[0m\n\u001b[0m\u001b[1;32m   1258\u001b[0m \u001b[0;34m\u001b[0m\u001b[0m\n\u001b[1;32m   1259\u001b[0m     \u001b[0;31m# in pandas we don't store numpy str dtypes, so convert to object\u001b[0m\u001b[0;34m\u001b[0m\u001b[0;34m\u001b[0m\u001b[0;34m\u001b[0m\u001b[0m\n",
            "\u001b[0;32m/usr/local/lib/python3.7/dist-packages/pandas/core/dtypes/cast.py\u001b[0m in \u001b[0;36mastype_nansafe\u001b[0;34m(arr, dtype, copy, skipna)\u001b[0m\n\u001b[1;32m   1172\u001b[0m         \u001b[0;31m# work around NumPy brokenness, #1987\u001b[0m\u001b[0;34m\u001b[0m\u001b[0;34m\u001b[0m\u001b[0;34m\u001b[0m\u001b[0m\n\u001b[1;32m   1173\u001b[0m         \u001b[0;32mif\u001b[0m \u001b[0mnp\u001b[0m\u001b[0;34m.\u001b[0m\u001b[0missubdtype\u001b[0m\u001b[0;34m(\u001b[0m\u001b[0mdtype\u001b[0m\u001b[0;34m.\u001b[0m\u001b[0mtype\u001b[0m\u001b[0;34m,\u001b[0m \u001b[0mnp\u001b[0m\u001b[0;34m.\u001b[0m\u001b[0minteger\u001b[0m\u001b[0;34m)\u001b[0m\u001b[0;34m:\u001b[0m\u001b[0;34m\u001b[0m\u001b[0;34m\u001b[0m\u001b[0m\n\u001b[0;32m-> 1174\u001b[0;31m             \u001b[0;32mreturn\u001b[0m \u001b[0mlib\u001b[0m\u001b[0;34m.\u001b[0m\u001b[0mastype_intsafe\u001b[0m\u001b[0;34m(\u001b[0m\u001b[0marr\u001b[0m\u001b[0;34m,\u001b[0m \u001b[0mdtype\u001b[0m\u001b[0;34m)\u001b[0m\u001b[0;34m\u001b[0m\u001b[0;34m\u001b[0m\u001b[0m\n\u001b[0m\u001b[1;32m   1175\u001b[0m \u001b[0;34m\u001b[0m\u001b[0m\n\u001b[1;32m   1176\u001b[0m         \u001b[0;31m# if we have a datetime/timedelta array of objects\u001b[0m\u001b[0;34m\u001b[0m\u001b[0;34m\u001b[0m\u001b[0;34m\u001b[0m\u001b[0m\n",
            "\u001b[0;32m/usr/local/lib/python3.7/dist-packages/pandas/_libs/lib.pyx\u001b[0m in \u001b[0;36mpandas._libs.lib.astype_intsafe\u001b[0;34m()\u001b[0m\n",
            "\u001b[0;31mValueError\u001b[0m: invalid literal for int() with base 10: 'N.V.'"
          ]
        }
      ]
    },
    {
      "cell_type": "code",
      "source": [
        "df.loc[df[\"year\"]==\"N.V.\", :]"
      ],
      "metadata": {
        "colab": {
          "base_uri": "https://localhost:8080/",
          "height": 624
        },
        "id": "bRZUCtIKc861",
        "outputId": "8799f879-d956-4ec2-8ce2-07079f1c2d25"
      },
      "execution_count": 17,
      "outputs": [
        {
          "output_type": "execute_result",
          "data": {
            "text/plain": [
              "                    winery                                               wine  \\\n",
              "20              Valdespino                                   Toneles Moscatel   \n",
              "133             Barbadillo                       Reliquia Palo Cortado Sherry   \n",
              "142                 Alvear                          Abuelo Diego Palo Cortado   \n",
              "143         Equipo Navazos                              La Bota 78 de Oloroso   \n",
              "267                Osborne                   Solera India Oloroso Rare Sherry   \n",
              "...                    ...                                                ...   \n",
              "1942    Williams & Humbert  Dos Cortados Palo Cortado Solera Especial Aged...   \n",
              "1971  Fernando de Castilla                               Antique Palo Cortado   \n",
              "1979    Williams & Humbert  Jalifa Amontillado Rare Old Dry Solera Especia...   \n",
              "2012                Lustau                          Candela Cream Dulce Sweet   \n",
              "2037                Lustau                          Candela Cream Dulce Sweet   \n",
              "\n",
              "      year  rating  num_reviews              region   price           type  \\\n",
              "20    N.V.     4.8          174  Jerez-Xeres-Sherry  253.00         Sherry   \n",
              "133   N.V.     4.7           58  Jerez Palo Cortado  380.00         Sherry   \n",
              "142   N.V.     4.7           42    Montilla-Moriles  114.28  Pedro Ximenez   \n",
              "143   N.V.     4.7           41          Manzanilla   95.57         Sherry   \n",
              "267   N.V.     4.6           74  Jerez-Xeres-Sherry  189.99         Sherry   \n",
              "...    ...     ...          ...                 ...     ...            ...   \n",
              "1942  N.V.     4.2          666  Jerez Palo Cortado   32.16         Sherry   \n",
              "1971  N.V.     4.2          519  Jerez Palo Cortado   36.90         Sherry   \n",
              "1979  N.V.     4.2          487   Jerez Amontillado   33.50         Sherry   \n",
              "2012  N.V.     4.2          405  Jerez-Xeres-Sherry    7.10         Sherry   \n",
              "2037  N.V.     4.2          405  Jerez-Xeres-Sherry    7.10         Sherry   \n",
              "\n",
              "      body  acidity  \n",
              "20     4.0      3.0  \n",
              "133    4.0      3.0  \n",
              "142    5.0      1.0  \n",
              "143    4.0      3.0  \n",
              "267    4.0      3.0  \n",
              "...    ...      ...  \n",
              "1942   4.0      3.0  \n",
              "1971   4.0      3.0  \n",
              "1979   4.0      3.0  \n",
              "2012   NaN      NaN  \n",
              "2037   4.0      3.0  \n",
              "\n",
              "[70 rows x 10 columns]"
            ],
            "text/html": [
              "\n",
              "  <div id=\"df-9686d243-9ae1-4db4-845a-5a117c496fcf\">\n",
              "    <div class=\"colab-df-container\">\n",
              "      <div>\n",
              "<style scoped>\n",
              "    .dataframe tbody tr th:only-of-type {\n",
              "        vertical-align: middle;\n",
              "    }\n",
              "\n",
              "    .dataframe tbody tr th {\n",
              "        vertical-align: top;\n",
              "    }\n",
              "\n",
              "    .dataframe thead th {\n",
              "        text-align: right;\n",
              "    }\n",
              "</style>\n",
              "<table border=\"1\" class=\"dataframe\">\n",
              "  <thead>\n",
              "    <tr style=\"text-align: right;\">\n",
              "      <th></th>\n",
              "      <th>winery</th>\n",
              "      <th>wine</th>\n",
              "      <th>year</th>\n",
              "      <th>rating</th>\n",
              "      <th>num_reviews</th>\n",
              "      <th>region</th>\n",
              "      <th>price</th>\n",
              "      <th>type</th>\n",
              "      <th>body</th>\n",
              "      <th>acidity</th>\n",
              "    </tr>\n",
              "  </thead>\n",
              "  <tbody>\n",
              "    <tr>\n",
              "      <th>20</th>\n",
              "      <td>Valdespino</td>\n",
              "      <td>Toneles Moscatel</td>\n",
              "      <td>N.V.</td>\n",
              "      <td>4.8</td>\n",
              "      <td>174</td>\n",
              "      <td>Jerez-Xeres-Sherry</td>\n",
              "      <td>253.00</td>\n",
              "      <td>Sherry</td>\n",
              "      <td>4.0</td>\n",
              "      <td>3.0</td>\n",
              "    </tr>\n",
              "    <tr>\n",
              "      <th>133</th>\n",
              "      <td>Barbadillo</td>\n",
              "      <td>Reliquia Palo Cortado Sherry</td>\n",
              "      <td>N.V.</td>\n",
              "      <td>4.7</td>\n",
              "      <td>58</td>\n",
              "      <td>Jerez Palo Cortado</td>\n",
              "      <td>380.00</td>\n",
              "      <td>Sherry</td>\n",
              "      <td>4.0</td>\n",
              "      <td>3.0</td>\n",
              "    </tr>\n",
              "    <tr>\n",
              "      <th>142</th>\n",
              "      <td>Alvear</td>\n",
              "      <td>Abuelo Diego Palo Cortado</td>\n",
              "      <td>N.V.</td>\n",
              "      <td>4.7</td>\n",
              "      <td>42</td>\n",
              "      <td>Montilla-Moriles</td>\n",
              "      <td>114.28</td>\n",
              "      <td>Pedro Ximenez</td>\n",
              "      <td>5.0</td>\n",
              "      <td>1.0</td>\n",
              "    </tr>\n",
              "    <tr>\n",
              "      <th>143</th>\n",
              "      <td>Equipo Navazos</td>\n",
              "      <td>La Bota 78 de Oloroso</td>\n",
              "      <td>N.V.</td>\n",
              "      <td>4.7</td>\n",
              "      <td>41</td>\n",
              "      <td>Manzanilla</td>\n",
              "      <td>95.57</td>\n",
              "      <td>Sherry</td>\n",
              "      <td>4.0</td>\n",
              "      <td>3.0</td>\n",
              "    </tr>\n",
              "    <tr>\n",
              "      <th>267</th>\n",
              "      <td>Osborne</td>\n",
              "      <td>Solera India Oloroso Rare Sherry</td>\n",
              "      <td>N.V.</td>\n",
              "      <td>4.6</td>\n",
              "      <td>74</td>\n",
              "      <td>Jerez-Xeres-Sherry</td>\n",
              "      <td>189.99</td>\n",
              "      <td>Sherry</td>\n",
              "      <td>4.0</td>\n",
              "      <td>3.0</td>\n",
              "    </tr>\n",
              "    <tr>\n",
              "      <th>...</th>\n",
              "      <td>...</td>\n",
              "      <td>...</td>\n",
              "      <td>...</td>\n",
              "      <td>...</td>\n",
              "      <td>...</td>\n",
              "      <td>...</td>\n",
              "      <td>...</td>\n",
              "      <td>...</td>\n",
              "      <td>...</td>\n",
              "      <td>...</td>\n",
              "    </tr>\n",
              "    <tr>\n",
              "      <th>1942</th>\n",
              "      <td>Williams &amp; Humbert</td>\n",
              "      <td>Dos Cortados Palo Cortado Solera Especial Aged...</td>\n",
              "      <td>N.V.</td>\n",
              "      <td>4.2</td>\n",
              "      <td>666</td>\n",
              "      <td>Jerez Palo Cortado</td>\n",
              "      <td>32.16</td>\n",
              "      <td>Sherry</td>\n",
              "      <td>4.0</td>\n",
              "      <td>3.0</td>\n",
              "    </tr>\n",
              "    <tr>\n",
              "      <th>1971</th>\n",
              "      <td>Fernando de Castilla</td>\n",
              "      <td>Antique Palo Cortado</td>\n",
              "      <td>N.V.</td>\n",
              "      <td>4.2</td>\n",
              "      <td>519</td>\n",
              "      <td>Jerez Palo Cortado</td>\n",
              "      <td>36.90</td>\n",
              "      <td>Sherry</td>\n",
              "      <td>4.0</td>\n",
              "      <td>3.0</td>\n",
              "    </tr>\n",
              "    <tr>\n",
              "      <th>1979</th>\n",
              "      <td>Williams &amp; Humbert</td>\n",
              "      <td>Jalifa Amontillado Rare Old Dry Solera Especia...</td>\n",
              "      <td>N.V.</td>\n",
              "      <td>4.2</td>\n",
              "      <td>487</td>\n",
              "      <td>Jerez Amontillado</td>\n",
              "      <td>33.50</td>\n",
              "      <td>Sherry</td>\n",
              "      <td>4.0</td>\n",
              "      <td>3.0</td>\n",
              "    </tr>\n",
              "    <tr>\n",
              "      <th>2012</th>\n",
              "      <td>Lustau</td>\n",
              "      <td>Candela Cream Dulce Sweet</td>\n",
              "      <td>N.V.</td>\n",
              "      <td>4.2</td>\n",
              "      <td>405</td>\n",
              "      <td>Jerez-Xeres-Sherry</td>\n",
              "      <td>7.10</td>\n",
              "      <td>Sherry</td>\n",
              "      <td>NaN</td>\n",
              "      <td>NaN</td>\n",
              "    </tr>\n",
              "    <tr>\n",
              "      <th>2037</th>\n",
              "      <td>Lustau</td>\n",
              "      <td>Candela Cream Dulce Sweet</td>\n",
              "      <td>N.V.</td>\n",
              "      <td>4.2</td>\n",
              "      <td>405</td>\n",
              "      <td>Jerez-Xeres-Sherry</td>\n",
              "      <td>7.10</td>\n",
              "      <td>Sherry</td>\n",
              "      <td>4.0</td>\n",
              "      <td>3.0</td>\n",
              "    </tr>\n",
              "  </tbody>\n",
              "</table>\n",
              "<p>70 rows × 10 columns</p>\n",
              "</div>\n",
              "      <button class=\"colab-df-convert\" onclick=\"convertToInteractive('df-9686d243-9ae1-4db4-845a-5a117c496fcf')\"\n",
              "              title=\"Convert this dataframe to an interactive table.\"\n",
              "              style=\"display:none;\">\n",
              "        \n",
              "  <svg xmlns=\"http://www.w3.org/2000/svg\" height=\"24px\"viewBox=\"0 0 24 24\"\n",
              "       width=\"24px\">\n",
              "    <path d=\"M0 0h24v24H0V0z\" fill=\"none\"/>\n",
              "    <path d=\"M18.56 5.44l.94 2.06.94-2.06 2.06-.94-2.06-.94-.94-2.06-.94 2.06-2.06.94zm-11 1L8.5 8.5l.94-2.06 2.06-.94-2.06-.94L8.5 2.5l-.94 2.06-2.06.94zm10 10l.94 2.06.94-2.06 2.06-.94-2.06-.94-.94-2.06-.94 2.06-2.06.94z\"/><path d=\"M17.41 7.96l-1.37-1.37c-.4-.4-.92-.59-1.43-.59-.52 0-1.04.2-1.43.59L10.3 9.45l-7.72 7.72c-.78.78-.78 2.05 0 2.83L4 21.41c.39.39.9.59 1.41.59.51 0 1.02-.2 1.41-.59l7.78-7.78 2.81-2.81c.8-.78.8-2.07 0-2.86zM5.41 20L4 18.59l7.72-7.72 1.47 1.35L5.41 20z\"/>\n",
              "  </svg>\n",
              "      </button>\n",
              "      \n",
              "  <style>\n",
              "    .colab-df-container {\n",
              "      display:flex;\n",
              "      flex-wrap:wrap;\n",
              "      gap: 12px;\n",
              "    }\n",
              "\n",
              "    .colab-df-convert {\n",
              "      background-color: #E8F0FE;\n",
              "      border: none;\n",
              "      border-radius: 50%;\n",
              "      cursor: pointer;\n",
              "      display: none;\n",
              "      fill: #1967D2;\n",
              "      height: 32px;\n",
              "      padding: 0 0 0 0;\n",
              "      width: 32px;\n",
              "    }\n",
              "\n",
              "    .colab-df-convert:hover {\n",
              "      background-color: #E2EBFA;\n",
              "      box-shadow: 0px 1px 2px rgba(60, 64, 67, 0.3), 0px 1px 3px 1px rgba(60, 64, 67, 0.15);\n",
              "      fill: #174EA6;\n",
              "    }\n",
              "\n",
              "    [theme=dark] .colab-df-convert {\n",
              "      background-color: #3B4455;\n",
              "      fill: #D2E3FC;\n",
              "    }\n",
              "\n",
              "    [theme=dark] .colab-df-convert:hover {\n",
              "      background-color: #434B5C;\n",
              "      box-shadow: 0px 1px 3px 1px rgba(0, 0, 0, 0.15);\n",
              "      filter: drop-shadow(0px 1px 2px rgba(0, 0, 0, 0.3));\n",
              "      fill: #FFFFFF;\n",
              "    }\n",
              "  </style>\n",
              "\n",
              "      <script>\n",
              "        const buttonEl =\n",
              "          document.querySelector('#df-9686d243-9ae1-4db4-845a-5a117c496fcf button.colab-df-convert');\n",
              "        buttonEl.style.display =\n",
              "          google.colab.kernel.accessAllowed ? 'block' : 'none';\n",
              "\n",
              "        async function convertToInteractive(key) {\n",
              "          const element = document.querySelector('#df-9686d243-9ae1-4db4-845a-5a117c496fcf');\n",
              "          const dataTable =\n",
              "            await google.colab.kernel.invokeFunction('convertToInteractive',\n",
              "                                                     [key], {});\n",
              "          if (!dataTable) return;\n",
              "\n",
              "          const docLinkHtml = 'Like what you see? Visit the ' +\n",
              "            '<a target=\"_blank\" href=https://colab.research.google.com/notebooks/data_table.ipynb>data table notebook</a>'\n",
              "            + ' to learn more about interactive tables.';\n",
              "          element.innerHTML = '';\n",
              "          dataTable['output_type'] = 'display_data';\n",
              "          await google.colab.output.renderOutput(dataTable, element);\n",
              "          const docLink = document.createElement('div');\n",
              "          docLink.innerHTML = docLinkHtml;\n",
              "          element.appendChild(docLink);\n",
              "        }\n",
              "      </script>\n",
              "    </div>\n",
              "  </div>\n",
              "  "
            ]
          },
          "metadata": {},
          "execution_count": 17
        }
      ]
    },
    {
      "cell_type": "markdown",
      "source": [
        "I checked the data dictionary, it doesn't tell what \"N.V.\" means here. So I guess it means \"NaN\". I will change it to \"NaN\", then figure out a method to deal with these missing values."
      ],
      "metadata": {
        "id": "msr1MGYwo3el"
      }
    },
    {
      "cell_type": "code",
      "source": [
        "df[\"year\"] = df[\"year\"].replace(\"N.V.\", np.NaN)"
      ],
      "metadata": {
        "id": "bB0hk2F6ghqH"
      },
      "execution_count": 18,
      "outputs": []
    },
    {
      "cell_type": "code",
      "source": [
        "df[\"year\"] = df[\"year\"].astype(float)\n",
        "df.dtypes"
      ],
      "metadata": {
        "colab": {
          "base_uri": "https://localhost:8080/"
        },
        "id": "H_AkhKJfk_iL",
        "outputId": "70d39b23-6e8d-42d5-bfee-374b3161b840"
      },
      "execution_count": 19,
      "outputs": [
        {
          "output_type": "execute_result",
          "data": {
            "text/plain": [
              "winery          object\n",
              "wine            object\n",
              "year           float64\n",
              "rating         float64\n",
              "num_reviews      int64\n",
              "region          object\n",
              "price          float64\n",
              "type            object\n",
              "body           float64\n",
              "acidity        float64\n",
              "dtype: object"
            ]
          },
          "metadata": {},
          "execution_count": 19
        }
      ]
    },
    {
      "cell_type": "code",
      "source": [
        "df.isna().sum()"
      ],
      "metadata": {
        "colab": {
          "base_uri": "https://localhost:8080/"
        },
        "id": "9DOch1oBpmN7",
        "outputId": "6bfedbdd-441f-4b6f-eceb-3ac7a1446aec"
      },
      "execution_count": 20,
      "outputs": [
        {
          "output_type": "execute_result",
          "data": {
            "text/plain": [
              "winery           0\n",
              "wine             0\n",
              "year            72\n",
              "rating           0\n",
              "num_reviews      0\n",
              "region           0\n",
              "price            0\n",
              "type           106\n",
              "body           271\n",
              "acidity        271\n",
              "dtype: int64"
            ]
          },
          "metadata": {},
          "execution_count": 20
        }
      ]
    },
    {
      "cell_type": "markdown",
      "source": [
        "**Figure out the method for dealing with the missing values in year column**\n",
        "\n"
      ],
      "metadata": {
        "id": "CP8NHGAHv4d_"
      }
    },
    {
      "cell_type": "code",
      "source": [
        "missing_values = pd.isna(df[\"year\"])\n",
        "df[missing_values]"
      ],
      "metadata": {
        "colab": {
          "base_uri": "https://localhost:8080/",
          "height": 606
        },
        "id": "Z4R19gNYvRPD",
        "outputId": "22e91012-49ff-4478-ef7b-91143ec7b4a0"
      },
      "execution_count": 22,
      "outputs": [
        {
          "output_type": "execute_result",
          "data": {
            "text/plain": [
              "                    winery                                               wine  \\\n",
              "20              Valdespino                                   Toneles Moscatel   \n",
              "46            Vega Sicilia                     Unico Reserva Especial Edicion   \n",
              "133             Barbadillo                       Reliquia Palo Cortado Sherry   \n",
              "142                 Alvear                          Abuelo Diego Palo Cortado   \n",
              "143         Equipo Navazos                              La Bota 78 de Oloroso   \n",
              "...                    ...                                                ...   \n",
              "1942    Williams & Humbert  Dos Cortados Palo Cortado Solera Especial Aged...   \n",
              "1971  Fernando de Castilla                               Antique Palo Cortado   \n",
              "1979    Williams & Humbert  Jalifa Amontillado Rare Old Dry Solera Especia...   \n",
              "2012                Lustau                          Candela Cream Dulce Sweet   \n",
              "2037                Lustau                          Candela Cream Dulce Sweet   \n",
              "\n",
              "      year  rating  num_reviews              region   price  \\\n",
              "20     NaN     4.8          174  Jerez-Xeres-Sherry  253.00   \n",
              "46     NaN     4.7        12421    Ribera del Duero  423.50   \n",
              "133    NaN     4.7           58  Jerez Palo Cortado  380.00   \n",
              "142    NaN     4.7           42    Montilla-Moriles  114.28   \n",
              "143    NaN     4.7           41          Manzanilla   95.57   \n",
              "...    ...     ...          ...                 ...     ...   \n",
              "1942   NaN     4.2          666  Jerez Palo Cortado   32.16   \n",
              "1971   NaN     4.2          519  Jerez Palo Cortado   36.90   \n",
              "1979   NaN     4.2          487   Jerez Amontillado   33.50   \n",
              "2012   NaN     4.2          405  Jerez-Xeres-Sherry    7.10   \n",
              "2037   NaN     4.2          405  Jerez-Xeres-Sherry    7.10   \n",
              "\n",
              "                      type  body  acidity  \n",
              "20                  Sherry   4.0      3.0  \n",
              "46    Ribera Del Duero Red   5.0      3.0  \n",
              "133                 Sherry   4.0      3.0  \n",
              "142          Pedro Ximenez   5.0      1.0  \n",
              "143                 Sherry   4.0      3.0  \n",
              "...                    ...   ...      ...  \n",
              "1942                Sherry   4.0      3.0  \n",
              "1971                Sherry   4.0      3.0  \n",
              "1979                Sherry   4.0      3.0  \n",
              "2012                Sherry   NaN      NaN  \n",
              "2037                Sherry   4.0      3.0  \n",
              "\n",
              "[72 rows x 10 columns]"
            ],
            "text/html": [
              "\n",
              "  <div id=\"df-92f556b2-fe8d-4724-b15e-86713aad2eb6\">\n",
              "    <div class=\"colab-df-container\">\n",
              "      <div>\n",
              "<style scoped>\n",
              "    .dataframe tbody tr th:only-of-type {\n",
              "        vertical-align: middle;\n",
              "    }\n",
              "\n",
              "    .dataframe tbody tr th {\n",
              "        vertical-align: top;\n",
              "    }\n",
              "\n",
              "    .dataframe thead th {\n",
              "        text-align: right;\n",
              "    }\n",
              "</style>\n",
              "<table border=\"1\" class=\"dataframe\">\n",
              "  <thead>\n",
              "    <tr style=\"text-align: right;\">\n",
              "      <th></th>\n",
              "      <th>winery</th>\n",
              "      <th>wine</th>\n",
              "      <th>year</th>\n",
              "      <th>rating</th>\n",
              "      <th>num_reviews</th>\n",
              "      <th>region</th>\n",
              "      <th>price</th>\n",
              "      <th>type</th>\n",
              "      <th>body</th>\n",
              "      <th>acidity</th>\n",
              "    </tr>\n",
              "  </thead>\n",
              "  <tbody>\n",
              "    <tr>\n",
              "      <th>20</th>\n",
              "      <td>Valdespino</td>\n",
              "      <td>Toneles Moscatel</td>\n",
              "      <td>NaN</td>\n",
              "      <td>4.8</td>\n",
              "      <td>174</td>\n",
              "      <td>Jerez-Xeres-Sherry</td>\n",
              "      <td>253.00</td>\n",
              "      <td>Sherry</td>\n",
              "      <td>4.0</td>\n",
              "      <td>3.0</td>\n",
              "    </tr>\n",
              "    <tr>\n",
              "      <th>46</th>\n",
              "      <td>Vega Sicilia</td>\n",
              "      <td>Unico Reserva Especial Edicion</td>\n",
              "      <td>NaN</td>\n",
              "      <td>4.7</td>\n",
              "      <td>12421</td>\n",
              "      <td>Ribera del Duero</td>\n",
              "      <td>423.50</td>\n",
              "      <td>Ribera Del Duero Red</td>\n",
              "      <td>5.0</td>\n",
              "      <td>3.0</td>\n",
              "    </tr>\n",
              "    <tr>\n",
              "      <th>133</th>\n",
              "      <td>Barbadillo</td>\n",
              "      <td>Reliquia Palo Cortado Sherry</td>\n",
              "      <td>NaN</td>\n",
              "      <td>4.7</td>\n",
              "      <td>58</td>\n",
              "      <td>Jerez Palo Cortado</td>\n",
              "      <td>380.00</td>\n",
              "      <td>Sherry</td>\n",
              "      <td>4.0</td>\n",
              "      <td>3.0</td>\n",
              "    </tr>\n",
              "    <tr>\n",
              "      <th>142</th>\n",
              "      <td>Alvear</td>\n",
              "      <td>Abuelo Diego Palo Cortado</td>\n",
              "      <td>NaN</td>\n",
              "      <td>4.7</td>\n",
              "      <td>42</td>\n",
              "      <td>Montilla-Moriles</td>\n",
              "      <td>114.28</td>\n",
              "      <td>Pedro Ximenez</td>\n",
              "      <td>5.0</td>\n",
              "      <td>1.0</td>\n",
              "    </tr>\n",
              "    <tr>\n",
              "      <th>143</th>\n",
              "      <td>Equipo Navazos</td>\n",
              "      <td>La Bota 78 de Oloroso</td>\n",
              "      <td>NaN</td>\n",
              "      <td>4.7</td>\n",
              "      <td>41</td>\n",
              "      <td>Manzanilla</td>\n",
              "      <td>95.57</td>\n",
              "      <td>Sherry</td>\n",
              "      <td>4.0</td>\n",
              "      <td>3.0</td>\n",
              "    </tr>\n",
              "    <tr>\n",
              "      <th>...</th>\n",
              "      <td>...</td>\n",
              "      <td>...</td>\n",
              "      <td>...</td>\n",
              "      <td>...</td>\n",
              "      <td>...</td>\n",
              "      <td>...</td>\n",
              "      <td>...</td>\n",
              "      <td>...</td>\n",
              "      <td>...</td>\n",
              "      <td>...</td>\n",
              "    </tr>\n",
              "    <tr>\n",
              "      <th>1942</th>\n",
              "      <td>Williams &amp; Humbert</td>\n",
              "      <td>Dos Cortados Palo Cortado Solera Especial Aged...</td>\n",
              "      <td>NaN</td>\n",
              "      <td>4.2</td>\n",
              "      <td>666</td>\n",
              "      <td>Jerez Palo Cortado</td>\n",
              "      <td>32.16</td>\n",
              "      <td>Sherry</td>\n",
              "      <td>4.0</td>\n",
              "      <td>3.0</td>\n",
              "    </tr>\n",
              "    <tr>\n",
              "      <th>1971</th>\n",
              "      <td>Fernando de Castilla</td>\n",
              "      <td>Antique Palo Cortado</td>\n",
              "      <td>NaN</td>\n",
              "      <td>4.2</td>\n",
              "      <td>519</td>\n",
              "      <td>Jerez Palo Cortado</td>\n",
              "      <td>36.90</td>\n",
              "      <td>Sherry</td>\n",
              "      <td>4.0</td>\n",
              "      <td>3.0</td>\n",
              "    </tr>\n",
              "    <tr>\n",
              "      <th>1979</th>\n",
              "      <td>Williams &amp; Humbert</td>\n",
              "      <td>Jalifa Amontillado Rare Old Dry Solera Especia...</td>\n",
              "      <td>NaN</td>\n",
              "      <td>4.2</td>\n",
              "      <td>487</td>\n",
              "      <td>Jerez Amontillado</td>\n",
              "      <td>33.50</td>\n",
              "      <td>Sherry</td>\n",
              "      <td>4.0</td>\n",
              "      <td>3.0</td>\n",
              "    </tr>\n",
              "    <tr>\n",
              "      <th>2012</th>\n",
              "      <td>Lustau</td>\n",
              "      <td>Candela Cream Dulce Sweet</td>\n",
              "      <td>NaN</td>\n",
              "      <td>4.2</td>\n",
              "      <td>405</td>\n",
              "      <td>Jerez-Xeres-Sherry</td>\n",
              "      <td>7.10</td>\n",
              "      <td>Sherry</td>\n",
              "      <td>NaN</td>\n",
              "      <td>NaN</td>\n",
              "    </tr>\n",
              "    <tr>\n",
              "      <th>2037</th>\n",
              "      <td>Lustau</td>\n",
              "      <td>Candela Cream Dulce Sweet</td>\n",
              "      <td>NaN</td>\n",
              "      <td>4.2</td>\n",
              "      <td>405</td>\n",
              "      <td>Jerez-Xeres-Sherry</td>\n",
              "      <td>7.10</td>\n",
              "      <td>Sherry</td>\n",
              "      <td>4.0</td>\n",
              "      <td>3.0</td>\n",
              "    </tr>\n",
              "  </tbody>\n",
              "</table>\n",
              "<p>72 rows × 10 columns</p>\n",
              "</div>\n",
              "      <button class=\"colab-df-convert\" onclick=\"convertToInteractive('df-92f556b2-fe8d-4724-b15e-86713aad2eb6')\"\n",
              "              title=\"Convert this dataframe to an interactive table.\"\n",
              "              style=\"display:none;\">\n",
              "        \n",
              "  <svg xmlns=\"http://www.w3.org/2000/svg\" height=\"24px\"viewBox=\"0 0 24 24\"\n",
              "       width=\"24px\">\n",
              "    <path d=\"M0 0h24v24H0V0z\" fill=\"none\"/>\n",
              "    <path d=\"M18.56 5.44l.94 2.06.94-2.06 2.06-.94-2.06-.94-.94-2.06-.94 2.06-2.06.94zm-11 1L8.5 8.5l.94-2.06 2.06-.94-2.06-.94L8.5 2.5l-.94 2.06-2.06.94zm10 10l.94 2.06.94-2.06 2.06-.94-2.06-.94-.94-2.06-.94 2.06-2.06.94z\"/><path d=\"M17.41 7.96l-1.37-1.37c-.4-.4-.92-.59-1.43-.59-.52 0-1.04.2-1.43.59L10.3 9.45l-7.72 7.72c-.78.78-.78 2.05 0 2.83L4 21.41c.39.39.9.59 1.41.59.51 0 1.02-.2 1.41-.59l7.78-7.78 2.81-2.81c.8-.78.8-2.07 0-2.86zM5.41 20L4 18.59l7.72-7.72 1.47 1.35L5.41 20z\"/>\n",
              "  </svg>\n",
              "      </button>\n",
              "      \n",
              "  <style>\n",
              "    .colab-df-container {\n",
              "      display:flex;\n",
              "      flex-wrap:wrap;\n",
              "      gap: 12px;\n",
              "    }\n",
              "\n",
              "    .colab-df-convert {\n",
              "      background-color: #E8F0FE;\n",
              "      border: none;\n",
              "      border-radius: 50%;\n",
              "      cursor: pointer;\n",
              "      display: none;\n",
              "      fill: #1967D2;\n",
              "      height: 32px;\n",
              "      padding: 0 0 0 0;\n",
              "      width: 32px;\n",
              "    }\n",
              "\n",
              "    .colab-df-convert:hover {\n",
              "      background-color: #E2EBFA;\n",
              "      box-shadow: 0px 1px 2px rgba(60, 64, 67, 0.3), 0px 1px 3px 1px rgba(60, 64, 67, 0.15);\n",
              "      fill: #174EA6;\n",
              "    }\n",
              "\n",
              "    [theme=dark] .colab-df-convert {\n",
              "      background-color: #3B4455;\n",
              "      fill: #D2E3FC;\n",
              "    }\n",
              "\n",
              "    [theme=dark] .colab-df-convert:hover {\n",
              "      background-color: #434B5C;\n",
              "      box-shadow: 0px 1px 3px 1px rgba(0, 0, 0, 0.15);\n",
              "      filter: drop-shadow(0px 1px 2px rgba(0, 0, 0, 0.3));\n",
              "      fill: #FFFFFF;\n",
              "    }\n",
              "  </style>\n",
              "\n",
              "      <script>\n",
              "        const buttonEl =\n",
              "          document.querySelector('#df-92f556b2-fe8d-4724-b15e-86713aad2eb6 button.colab-df-convert');\n",
              "        buttonEl.style.display =\n",
              "          google.colab.kernel.accessAllowed ? 'block' : 'none';\n",
              "\n",
              "        async function convertToInteractive(key) {\n",
              "          const element = document.querySelector('#df-92f556b2-fe8d-4724-b15e-86713aad2eb6');\n",
              "          const dataTable =\n",
              "            await google.colab.kernel.invokeFunction('convertToInteractive',\n",
              "                                                     [key], {});\n",
              "          if (!dataTable) return;\n",
              "\n",
              "          const docLinkHtml = 'Like what you see? Visit the ' +\n",
              "            '<a target=\"_blank\" href=https://colab.research.google.com/notebooks/data_table.ipynb>data table notebook</a>'\n",
              "            + ' to learn more about interactive tables.';\n",
              "          element.innerHTML = '';\n",
              "          dataTable['output_type'] = 'display_data';\n",
              "          await google.colab.output.renderOutput(dataTable, element);\n",
              "          const docLink = document.createElement('div');\n",
              "          docLink.innerHTML = docLinkHtml;\n",
              "          element.appendChild(docLink);\n",
              "        }\n",
              "      </script>\n",
              "    </div>\n",
              "  </div>\n",
              "  "
            ]
          },
          "metadata": {},
          "execution_count": 22
        }
      ]
    },
    {
      "cell_type": "code",
      "source": [
        "df.loc[df[\"type\"]==\"Sherry\", :]"
      ],
      "metadata": {
        "colab": {
          "base_uri": "https://localhost:8080/",
          "height": 1000
        },
        "id": "_WhYVRbZrekS",
        "outputId": "ac4a415e-85eb-4f90-bf2c-f0a398bafde6"
      },
      "execution_count": 23,
      "outputs": [
        {
          "output_type": "execute_result",
          "data": {
            "text/plain": [
              "                     winery  \\\n",
              "20               Valdespino   \n",
              "133              Barbadillo   \n",
              "135          Gonzalez-Byass   \n",
              "143          Equipo Navazos   \n",
              "267                 Osborne   \n",
              "298           Bodegas Yuste   \n",
              "346                 Osborne   \n",
              "455                Tio Pepe   \n",
              "517             Diez Merito   \n",
              "518              Valdespino   \n",
              "547                  Romate   \n",
              "588            Sacristia AB   \n",
              "612          Gonzalez-Byass   \n",
              "692       Bodegas Tradicion   \n",
              "698       Bodegas Tradicion   \n",
              "725       Bodegas Tradicion   \n",
              "784           Alvaro Domecq   \n",
              "825                 Harveys   \n",
              "850       Cayetano del Pino   \n",
              "867                 Osborne   \n",
              "907          Delgado Zuleta   \n",
              "932            Sacristia AB   \n",
              "948             Juan Pinero   \n",
              "964                  Romate   \n",
              "1011            Juan Pinero   \n",
              "1036                Osborne   \n",
              "1047          Fernandez Gao   \n",
              "1056                Harveys   \n",
              "1061         Equipo Navazos   \n",
              "1091                 Romate   \n",
              "1166         Gonzalez-Byass   \n",
              "1171         Gonzalez-Byass   \n",
              "1227      Bodegas Tradicion   \n",
              "1448                 Lustau   \n",
              "1470             Callejuela   \n",
              "1471      El Maestro Sierra   \n",
              "1477             Valdespino   \n",
              "1487          Bodegas Urium   \n",
              "1519                Osborne   \n",
              "1553      El Maestro Sierra   \n",
              "1574         Equipo Navazos   \n",
              "1585               Balandro   \n",
              "1587  M. Antonio de la Riva   \n",
              "1590           Bodegas Arfe   \n",
              "1702        Santa Petronila   \n",
              "1704    Hidalgo (La Gitana)   \n",
              "1780                Altanza   \n",
              "1781          Alvaro Domecq   \n",
              "1792                 Romate   \n",
              "1793                Altanza   \n",
              "1896         Gonzalez-Byass   \n",
              "1942     Williams & Humbert   \n",
              "1971   Fernando de Castilla   \n",
              "1979     Williams & Humbert   \n",
              "2012                 Lustau   \n",
              "2037                 Lustau   \n",
              "\n",
              "                                                   wine    year  rating  \\\n",
              "20                                     Toneles Moscatel     NaN     4.8   \n",
              "133                        Reliquia Palo Cortado Sherry     NaN     4.7   \n",
              "135                             Anada Palo Cortado 1987  1987.0     4.7   \n",
              "143                               La Bota 78 de Oloroso     NaN     4.7   \n",
              "267                    Solera India Oloroso Rare Sherry     NaN     4.6   \n",
              "298                         Conde de Aldama Amontillado     NaN     4.6   \n",
              "346                                       Solera BC-200     NaN     4.6   \n",
              "455                           Cuatro Palmas Amontillado     NaN     4.5   \n",
              "517                   Fino Imperial Amontillado 30 Anos     NaN     4.5   \n",
              "518                            Coliseo Amontillado VORS     NaN     4.5   \n",
              "547            Cayetano del Pino Viejisimo Palo Cortado     NaN     4.5   \n",
              "588                                          Saca Unica     NaN     4.5   \n",
              "612                             Anada Palo Cortado 1987  1991.0     4.5   \n",
              "692         Palo Cortado Tradicion Vors 30 Years Sherry     NaN     4.4   \n",
              "698                 Amontillado Tradicion Vors 30 Years     NaN     4.4   \n",
              "725                        Cream Tradicion Vos 20 Years     NaN     4.4   \n",
              "784                                  1730 Pedro Ximenez     NaN     4.4   \n",
              "825                  30 Years VORS Pedro Ximenez Sherry     NaN     4.4   \n",
              "850                                   Palo Cortado 1/10     NaN     4.4   \n",
              "867   Sibarita Oloroso Jerez-Xeres-Sherry 30 Years V...     NaN     4.4   \n",
              "907                      B.Rodriguez La-Cave Quo Vadis?     NaN     4.4   \n",
              "932                                    Amontillado Saca     NaN     4.4   \n",
              "948             Amontillado 30 Years Old V.O.R.S Sherry     NaN     4.4   \n",
              "964                            Old & Plus Pedro Ximenez     NaN     4.4   \n",
              "1011                       Oloroso 30 Years Old V.O.R.S     NaN     4.4   \n",
              "1036                Solera PAP Palo Cortado Rare Sherry     NaN     4.4   \n",
              "1047                                            Oloroso     NaN     4.4   \n",
              "1056  30 Years V.O.R.S Very Old Palo Cortado Blend M...     NaN     4.4   \n",
              "1061                    La Bota 90 de Manzanilla Pasada     NaN     4.4   \n",
              "1091                             Old & Plus Amontillado     NaN     4.4   \n",
              "1166                              Matusalem Sherry VORS     NaN     4.3   \n",
              "1171                      Apostoles 30 Years Old Sherry     NaN     4.3   \n",
              "1227                    Oloroso Tradicion Vors 30 Years     NaN     4.3   \n",
              "1448        Jerez-Xeres-Sherry 30 Year Old Oloroso VORS     NaN     4.3   \n",
              "1470                             La Casilla Amontillado     NaN     4.3   \n",
              "1471                                       Palo Cortado     NaN     4.3   \n",
              "1477                         Cardenal Palo Cortado VORS     NaN     4.3   \n",
              "1487                                Amontillado V.O.R.S     NaN     4.3   \n",
              "1519             Amontillado 51-1a 30 Years VORS Sherry     NaN     4.3   \n",
              "1553                            Oloroso Extra Viejo 1/7     NaN     4.3   \n",
              "1574                          La Bota 69 de Amontillado     NaN     4.3   \n",
              "1585                  Las Botas Palo Cortado Horizontal     NaN     4.3   \n",
              "1587                         La Riva Fino Balbaina Alta     NaN     4.3   \n",
              "1590                    Palo Cortado de la Cruz de 1767     NaN     4.3   \n",
              "1702                                    Oloroso En Rama     NaN     4.3   \n",
              "1704  Amontillado Napoleon Vinos Viejos 30 Year Old ...     NaN     4.3   \n",
              "1780               Coleccion Roberto Amillo Amontillado     NaN     4.3   \n",
              "1781                                   1730 Amontillado     NaN     4.3   \n",
              "1792                                 Old & Plus Oloroso     NaN     4.3   \n",
              "1793              Coleccion Roberto Amillo Palo Cortado     NaN     4.3   \n",
              "1896                  Del Duque Amontillado Sherry VORS     NaN     4.2   \n",
              "1942  Dos Cortados Palo Cortado Solera Especial Aged...     NaN     4.2   \n",
              "1971                               Antique Palo Cortado     NaN     4.2   \n",
              "1979  Jalifa Amontillado Rare Old Dry Solera Especia...     NaN     4.2   \n",
              "2012                          Candela Cream Dulce Sweet     NaN     4.2   \n",
              "2037                          Candela Cream Dulce Sweet     NaN     4.2   \n",
              "\n",
              "      num_reviews                    region   price    type  body  acidity  \n",
              "20            174        Jerez-Xeres-Sherry  253.00  Sherry   4.0      3.0  \n",
              "133            58        Jerez Palo Cortado  380.00  Sherry   4.0      3.0  \n",
              "135            53        Jerez Palo Cortado  400.85  Sherry   4.0      3.0  \n",
              "143            41                Manzanilla   95.57  Sherry   4.0      3.0  \n",
              "267            74        Jerez-Xeres-Sherry  189.99  Sherry   4.0      3.0  \n",
              "298            46        Jerez-Xeres-Sherry   89.90  Sherry   4.0      3.0  \n",
              "346            25        Jerez-Xeres-Sherry  197.30  Sherry   4.0      3.0  \n",
              "455           186         Jerez Amontillado  112.26  Sherry   4.0      3.0  \n",
              "517            81         Jerez Amontillado   94.90  Sherry   4.0      3.0  \n",
              "518            81         Jerez Amontillado  199.00  Sherry   4.0      3.0  \n",
              "547            61        Jerez Palo Cortado   25.92  Sherry   4.0      3.0  \n",
              "588            39        Jerez-Xeres-Sherry   96.38  Sherry   4.0      3.0  \n",
              "612            30        Jerez Palo Cortado  230.00  Sherry   4.0      3.0  \n",
              "692           941        Jerez Palo Cortado   82.50  Sherry   4.0      3.0  \n",
              "698           825         Jerez Amontillado   59.90  Sherry   4.0      3.0  \n",
              "725           527               Jerez Cream   57.90  Sherry   NaN      NaN  \n",
              "784           234  Jerez Pedro Ximenes (PX)   39.35  Sherry   4.0      3.0  \n",
              "825           159  Jerez Pedro Ximenes (PX)   58.95  Sherry   4.0      3.0  \n",
              "850           134        Jerez-Xeres-Sherry   25.00  Sherry   4.0      3.0  \n",
              "867           117             Jerez Oloroso   79.90  Sherry   4.0      3.0  \n",
              "907            89         Jerez Amontillado   87.90  Sherry   4.0      3.0  \n",
              "932            74        Jerez-Xeres-Sherry   62.02  Sherry   4.0      3.0  \n",
              "948            69         Jerez Amontillado   36.90  Sherry   4.0      3.0  \n",
              "964            64  Jerez Pedro Ximenes (PX)   42.12  Sherry   4.0      3.0  \n",
              "1011           48             Jerez Oloroso   37.90  Sherry   4.0      3.0  \n",
              "1036           41        Jerez-Xeres-Sherry  189.99  Sherry   4.0      3.0  \n",
              "1047           38        Jerez-Xeres-Sherry   59.90  Sherry   4.0      3.0  \n",
              "1056           35        Jerez Palo Cortado   65.00  Sherry   4.0      3.0  \n",
              "1061           35                Manzanilla   39.75  Sherry   4.0      3.0  \n",
              "1091           28         Jerez Amontillado   15.84  Sherry   4.0      3.0  \n",
              "1166         1452             Jerez Oloroso   63.34  Sherry   4.0      3.0  \n",
              "1171         1247        Jerez Palo Cortado   74.00  Sherry   4.0      3.0  \n",
              "1227          590             Jerez Oloroso   58.90  Sherry   4.0      3.0  \n",
              "1448          135        Jerez-Xeres-Sherry   39.00  Sherry   4.0      3.0  \n",
              "1470          122        Jerez-Xeres-Sherry   43.95  Sherry   4.0      3.0  \n",
              "1471          119        Jerez Palo Cortado   85.40  Sherry   4.0      3.0  \n",
              "1477          116        Jerez Palo Cortado  176.50  Sherry   4.0      3.0  \n",
              "1487          110         Jerez Amontillado   50.00  Sherry   4.0      3.0  \n",
              "1519           89        Jerez-Xeres-Sherry   64.80  Sherry   4.0      3.0  \n",
              "1553           78        Jerez-Xeres-Sherry  217.80  Sherry   4.0      3.0  \n",
              "1574           72        Jerez-Xeres-Sherry  113.72  Sherry   4.0      3.0  \n",
              "1585           67                Manzanilla   37.00  Sherry   4.0      3.0  \n",
              "1587           67        Jerez-Xeres-Sherry   47.45  Sherry   4.0      3.0  \n",
              "1590           66        Jerez-Xeres-Sherry   59.90  Sherry   4.0      3.0  \n",
              "1702           40        Jerez-Xeres-Sherry   24.90  Sherry   4.0      3.0  \n",
              "1704           40        Jerez-Xeres-Sherry   74.90  Sherry   4.0      3.0  \n",
              "1780           29         Jerez Amontillado   39.90  Sherry   4.0      3.0  \n",
              "1781           29         Jerez Amontillado   34.65  Sherry   4.0      3.0  \n",
              "1792           28             Jerez Oloroso   45.00  Sherry   4.0      3.0  \n",
              "1793           27        Jerez-Xeres-Sherry   47.70  Sherry   4.0      3.0  \n",
              "1896         1016         Jerez Amontillado   77.22  Sherry   4.0      3.0  \n",
              "1942          666        Jerez Palo Cortado   32.16  Sherry   4.0      3.0  \n",
              "1971          519        Jerez Palo Cortado   36.90  Sherry   4.0      3.0  \n",
              "1979          487         Jerez Amontillado   33.50  Sherry   4.0      3.0  \n",
              "2012          405        Jerez-Xeres-Sherry    7.10  Sherry   NaN      NaN  \n",
              "2037          405        Jerez-Xeres-Sherry    7.10  Sherry   4.0      3.0  "
            ],
            "text/html": [
              "\n",
              "  <div id=\"df-feea531e-f909-4a6e-9b3e-a167477ea13e\">\n",
              "    <div class=\"colab-df-container\">\n",
              "      <div>\n",
              "<style scoped>\n",
              "    .dataframe tbody tr th:only-of-type {\n",
              "        vertical-align: middle;\n",
              "    }\n",
              "\n",
              "    .dataframe tbody tr th {\n",
              "        vertical-align: top;\n",
              "    }\n",
              "\n",
              "    .dataframe thead th {\n",
              "        text-align: right;\n",
              "    }\n",
              "</style>\n",
              "<table border=\"1\" class=\"dataframe\">\n",
              "  <thead>\n",
              "    <tr style=\"text-align: right;\">\n",
              "      <th></th>\n",
              "      <th>winery</th>\n",
              "      <th>wine</th>\n",
              "      <th>year</th>\n",
              "      <th>rating</th>\n",
              "      <th>num_reviews</th>\n",
              "      <th>region</th>\n",
              "      <th>price</th>\n",
              "      <th>type</th>\n",
              "      <th>body</th>\n",
              "      <th>acidity</th>\n",
              "    </tr>\n",
              "  </thead>\n",
              "  <tbody>\n",
              "    <tr>\n",
              "      <th>20</th>\n",
              "      <td>Valdespino</td>\n",
              "      <td>Toneles Moscatel</td>\n",
              "      <td>NaN</td>\n",
              "      <td>4.8</td>\n",
              "      <td>174</td>\n",
              "      <td>Jerez-Xeres-Sherry</td>\n",
              "      <td>253.00</td>\n",
              "      <td>Sherry</td>\n",
              "      <td>4.0</td>\n",
              "      <td>3.0</td>\n",
              "    </tr>\n",
              "    <tr>\n",
              "      <th>133</th>\n",
              "      <td>Barbadillo</td>\n",
              "      <td>Reliquia Palo Cortado Sherry</td>\n",
              "      <td>NaN</td>\n",
              "      <td>4.7</td>\n",
              "      <td>58</td>\n",
              "      <td>Jerez Palo Cortado</td>\n",
              "      <td>380.00</td>\n",
              "      <td>Sherry</td>\n",
              "      <td>4.0</td>\n",
              "      <td>3.0</td>\n",
              "    </tr>\n",
              "    <tr>\n",
              "      <th>135</th>\n",
              "      <td>Gonzalez-Byass</td>\n",
              "      <td>Anada Palo Cortado 1987</td>\n",
              "      <td>1987.0</td>\n",
              "      <td>4.7</td>\n",
              "      <td>53</td>\n",
              "      <td>Jerez Palo Cortado</td>\n",
              "      <td>400.85</td>\n",
              "      <td>Sherry</td>\n",
              "      <td>4.0</td>\n",
              "      <td>3.0</td>\n",
              "    </tr>\n",
              "    <tr>\n",
              "      <th>143</th>\n",
              "      <td>Equipo Navazos</td>\n",
              "      <td>La Bota 78 de Oloroso</td>\n",
              "      <td>NaN</td>\n",
              "      <td>4.7</td>\n",
              "      <td>41</td>\n",
              "      <td>Manzanilla</td>\n",
              "      <td>95.57</td>\n",
              "      <td>Sherry</td>\n",
              "      <td>4.0</td>\n",
              "      <td>3.0</td>\n",
              "    </tr>\n",
              "    <tr>\n",
              "      <th>267</th>\n",
              "      <td>Osborne</td>\n",
              "      <td>Solera India Oloroso Rare Sherry</td>\n",
              "      <td>NaN</td>\n",
              "      <td>4.6</td>\n",
              "      <td>74</td>\n",
              "      <td>Jerez-Xeres-Sherry</td>\n",
              "      <td>189.99</td>\n",
              "      <td>Sherry</td>\n",
              "      <td>4.0</td>\n",
              "      <td>3.0</td>\n",
              "    </tr>\n",
              "    <tr>\n",
              "      <th>298</th>\n",
              "      <td>Bodegas Yuste</td>\n",
              "      <td>Conde de Aldama Amontillado</td>\n",
              "      <td>NaN</td>\n",
              "      <td>4.6</td>\n",
              "      <td>46</td>\n",
              "      <td>Jerez-Xeres-Sherry</td>\n",
              "      <td>89.90</td>\n",
              "      <td>Sherry</td>\n",
              "      <td>4.0</td>\n",
              "      <td>3.0</td>\n",
              "    </tr>\n",
              "    <tr>\n",
              "      <th>346</th>\n",
              "      <td>Osborne</td>\n",
              "      <td>Solera BC-200</td>\n",
              "      <td>NaN</td>\n",
              "      <td>4.6</td>\n",
              "      <td>25</td>\n",
              "      <td>Jerez-Xeres-Sherry</td>\n",
              "      <td>197.30</td>\n",
              "      <td>Sherry</td>\n",
              "      <td>4.0</td>\n",
              "      <td>3.0</td>\n",
              "    </tr>\n",
              "    <tr>\n",
              "      <th>455</th>\n",
              "      <td>Tio Pepe</td>\n",
              "      <td>Cuatro Palmas Amontillado</td>\n",
              "      <td>NaN</td>\n",
              "      <td>4.5</td>\n",
              "      <td>186</td>\n",
              "      <td>Jerez Amontillado</td>\n",
              "      <td>112.26</td>\n",
              "      <td>Sherry</td>\n",
              "      <td>4.0</td>\n",
              "      <td>3.0</td>\n",
              "    </tr>\n",
              "    <tr>\n",
              "      <th>517</th>\n",
              "      <td>Diez Merito</td>\n",
              "      <td>Fino Imperial Amontillado 30 Anos</td>\n",
              "      <td>NaN</td>\n",
              "      <td>4.5</td>\n",
              "      <td>81</td>\n",
              "      <td>Jerez Amontillado</td>\n",
              "      <td>94.90</td>\n",
              "      <td>Sherry</td>\n",
              "      <td>4.0</td>\n",
              "      <td>3.0</td>\n",
              "    </tr>\n",
              "    <tr>\n",
              "      <th>518</th>\n",
              "      <td>Valdespino</td>\n",
              "      <td>Coliseo Amontillado VORS</td>\n",
              "      <td>NaN</td>\n",
              "      <td>4.5</td>\n",
              "      <td>81</td>\n",
              "      <td>Jerez Amontillado</td>\n",
              "      <td>199.00</td>\n",
              "      <td>Sherry</td>\n",
              "      <td>4.0</td>\n",
              "      <td>3.0</td>\n",
              "    </tr>\n",
              "    <tr>\n",
              "      <th>547</th>\n",
              "      <td>Romate</td>\n",
              "      <td>Cayetano del Pino Viejisimo Palo Cortado</td>\n",
              "      <td>NaN</td>\n",
              "      <td>4.5</td>\n",
              "      <td>61</td>\n",
              "      <td>Jerez Palo Cortado</td>\n",
              "      <td>25.92</td>\n",
              "      <td>Sherry</td>\n",
              "      <td>4.0</td>\n",
              "      <td>3.0</td>\n",
              "    </tr>\n",
              "    <tr>\n",
              "      <th>588</th>\n",
              "      <td>Sacristia AB</td>\n",
              "      <td>Saca Unica</td>\n",
              "      <td>NaN</td>\n",
              "      <td>4.5</td>\n",
              "      <td>39</td>\n",
              "      <td>Jerez-Xeres-Sherry</td>\n",
              "      <td>96.38</td>\n",
              "      <td>Sherry</td>\n",
              "      <td>4.0</td>\n",
              "      <td>3.0</td>\n",
              "    </tr>\n",
              "    <tr>\n",
              "      <th>612</th>\n",
              "      <td>Gonzalez-Byass</td>\n",
              "      <td>Anada Palo Cortado 1987</td>\n",
              "      <td>1991.0</td>\n",
              "      <td>4.5</td>\n",
              "      <td>30</td>\n",
              "      <td>Jerez Palo Cortado</td>\n",
              "      <td>230.00</td>\n",
              "      <td>Sherry</td>\n",
              "      <td>4.0</td>\n",
              "      <td>3.0</td>\n",
              "    </tr>\n",
              "    <tr>\n",
              "      <th>692</th>\n",
              "      <td>Bodegas Tradicion</td>\n",
              "      <td>Palo Cortado Tradicion Vors 30 Years Sherry</td>\n",
              "      <td>NaN</td>\n",
              "      <td>4.4</td>\n",
              "      <td>941</td>\n",
              "      <td>Jerez Palo Cortado</td>\n",
              "      <td>82.50</td>\n",
              "      <td>Sherry</td>\n",
              "      <td>4.0</td>\n",
              "      <td>3.0</td>\n",
              "    </tr>\n",
              "    <tr>\n",
              "      <th>698</th>\n",
              "      <td>Bodegas Tradicion</td>\n",
              "      <td>Amontillado Tradicion Vors 30 Years</td>\n",
              "      <td>NaN</td>\n",
              "      <td>4.4</td>\n",
              "      <td>825</td>\n",
              "      <td>Jerez Amontillado</td>\n",
              "      <td>59.90</td>\n",
              "      <td>Sherry</td>\n",
              "      <td>4.0</td>\n",
              "      <td>3.0</td>\n",
              "    </tr>\n",
              "    <tr>\n",
              "      <th>725</th>\n",
              "      <td>Bodegas Tradicion</td>\n",
              "      <td>Cream Tradicion Vos 20 Years</td>\n",
              "      <td>NaN</td>\n",
              "      <td>4.4</td>\n",
              "      <td>527</td>\n",
              "      <td>Jerez Cream</td>\n",
              "      <td>57.90</td>\n",
              "      <td>Sherry</td>\n",
              "      <td>NaN</td>\n",
              "      <td>NaN</td>\n",
              "    </tr>\n",
              "    <tr>\n",
              "      <th>784</th>\n",
              "      <td>Alvaro Domecq</td>\n",
              "      <td>1730 Pedro Ximenez</td>\n",
              "      <td>NaN</td>\n",
              "      <td>4.4</td>\n",
              "      <td>234</td>\n",
              "      <td>Jerez Pedro Ximenes (PX)</td>\n",
              "      <td>39.35</td>\n",
              "      <td>Sherry</td>\n",
              "      <td>4.0</td>\n",
              "      <td>3.0</td>\n",
              "    </tr>\n",
              "    <tr>\n",
              "      <th>825</th>\n",
              "      <td>Harveys</td>\n",
              "      <td>30 Years VORS Pedro Ximenez Sherry</td>\n",
              "      <td>NaN</td>\n",
              "      <td>4.4</td>\n",
              "      <td>159</td>\n",
              "      <td>Jerez Pedro Ximenes (PX)</td>\n",
              "      <td>58.95</td>\n",
              "      <td>Sherry</td>\n",
              "      <td>4.0</td>\n",
              "      <td>3.0</td>\n",
              "    </tr>\n",
              "    <tr>\n",
              "      <th>850</th>\n",
              "      <td>Cayetano del Pino</td>\n",
              "      <td>Palo Cortado 1/10</td>\n",
              "      <td>NaN</td>\n",
              "      <td>4.4</td>\n",
              "      <td>134</td>\n",
              "      <td>Jerez-Xeres-Sherry</td>\n",
              "      <td>25.00</td>\n",
              "      <td>Sherry</td>\n",
              "      <td>4.0</td>\n",
              "      <td>3.0</td>\n",
              "    </tr>\n",
              "    <tr>\n",
              "      <th>867</th>\n",
              "      <td>Osborne</td>\n",
              "      <td>Sibarita Oloroso Jerez-Xeres-Sherry 30 Years V...</td>\n",
              "      <td>NaN</td>\n",
              "      <td>4.4</td>\n",
              "      <td>117</td>\n",
              "      <td>Jerez Oloroso</td>\n",
              "      <td>79.90</td>\n",
              "      <td>Sherry</td>\n",
              "      <td>4.0</td>\n",
              "      <td>3.0</td>\n",
              "    </tr>\n",
              "    <tr>\n",
              "      <th>907</th>\n",
              "      <td>Delgado Zuleta</td>\n",
              "      <td>B.Rodriguez La-Cave Quo Vadis?</td>\n",
              "      <td>NaN</td>\n",
              "      <td>4.4</td>\n",
              "      <td>89</td>\n",
              "      <td>Jerez Amontillado</td>\n",
              "      <td>87.90</td>\n",
              "      <td>Sherry</td>\n",
              "      <td>4.0</td>\n",
              "      <td>3.0</td>\n",
              "    </tr>\n",
              "    <tr>\n",
              "      <th>932</th>\n",
              "      <td>Sacristia AB</td>\n",
              "      <td>Amontillado Saca</td>\n",
              "      <td>NaN</td>\n",
              "      <td>4.4</td>\n",
              "      <td>74</td>\n",
              "      <td>Jerez-Xeres-Sherry</td>\n",
              "      <td>62.02</td>\n",
              "      <td>Sherry</td>\n",
              "      <td>4.0</td>\n",
              "      <td>3.0</td>\n",
              "    </tr>\n",
              "    <tr>\n",
              "      <th>948</th>\n",
              "      <td>Juan Pinero</td>\n",
              "      <td>Amontillado 30 Years Old V.O.R.S Sherry</td>\n",
              "      <td>NaN</td>\n",
              "      <td>4.4</td>\n",
              "      <td>69</td>\n",
              "      <td>Jerez Amontillado</td>\n",
              "      <td>36.90</td>\n",
              "      <td>Sherry</td>\n",
              "      <td>4.0</td>\n",
              "      <td>3.0</td>\n",
              "    </tr>\n",
              "    <tr>\n",
              "      <th>964</th>\n",
              "      <td>Romate</td>\n",
              "      <td>Old &amp; Plus Pedro Ximenez</td>\n",
              "      <td>NaN</td>\n",
              "      <td>4.4</td>\n",
              "      <td>64</td>\n",
              "      <td>Jerez Pedro Ximenes (PX)</td>\n",
              "      <td>42.12</td>\n",
              "      <td>Sherry</td>\n",
              "      <td>4.0</td>\n",
              "      <td>3.0</td>\n",
              "    </tr>\n",
              "    <tr>\n",
              "      <th>1011</th>\n",
              "      <td>Juan Pinero</td>\n",
              "      <td>Oloroso 30 Years Old V.O.R.S</td>\n",
              "      <td>NaN</td>\n",
              "      <td>4.4</td>\n",
              "      <td>48</td>\n",
              "      <td>Jerez Oloroso</td>\n",
              "      <td>37.90</td>\n",
              "      <td>Sherry</td>\n",
              "      <td>4.0</td>\n",
              "      <td>3.0</td>\n",
              "    </tr>\n",
              "    <tr>\n",
              "      <th>1036</th>\n",
              "      <td>Osborne</td>\n",
              "      <td>Solera PAP Palo Cortado Rare Sherry</td>\n",
              "      <td>NaN</td>\n",
              "      <td>4.4</td>\n",
              "      <td>41</td>\n",
              "      <td>Jerez-Xeres-Sherry</td>\n",
              "      <td>189.99</td>\n",
              "      <td>Sherry</td>\n",
              "      <td>4.0</td>\n",
              "      <td>3.0</td>\n",
              "    </tr>\n",
              "    <tr>\n",
              "      <th>1047</th>\n",
              "      <td>Fernandez Gao</td>\n",
              "      <td>Oloroso</td>\n",
              "      <td>NaN</td>\n",
              "      <td>4.4</td>\n",
              "      <td>38</td>\n",
              "      <td>Jerez-Xeres-Sherry</td>\n",
              "      <td>59.90</td>\n",
              "      <td>Sherry</td>\n",
              "      <td>4.0</td>\n",
              "      <td>3.0</td>\n",
              "    </tr>\n",
              "    <tr>\n",
              "      <th>1056</th>\n",
              "      <td>Harveys</td>\n",
              "      <td>30 Years V.O.R.S Very Old Palo Cortado Blend M...</td>\n",
              "      <td>NaN</td>\n",
              "      <td>4.4</td>\n",
              "      <td>35</td>\n",
              "      <td>Jerez Palo Cortado</td>\n",
              "      <td>65.00</td>\n",
              "      <td>Sherry</td>\n",
              "      <td>4.0</td>\n",
              "      <td>3.0</td>\n",
              "    </tr>\n",
              "    <tr>\n",
              "      <th>1061</th>\n",
              "      <td>Equipo Navazos</td>\n",
              "      <td>La Bota 90 de Manzanilla Pasada</td>\n",
              "      <td>NaN</td>\n",
              "      <td>4.4</td>\n",
              "      <td>35</td>\n",
              "      <td>Manzanilla</td>\n",
              "      <td>39.75</td>\n",
              "      <td>Sherry</td>\n",
              "      <td>4.0</td>\n",
              "      <td>3.0</td>\n",
              "    </tr>\n",
              "    <tr>\n",
              "      <th>1091</th>\n",
              "      <td>Romate</td>\n",
              "      <td>Old &amp; Plus Amontillado</td>\n",
              "      <td>NaN</td>\n",
              "      <td>4.4</td>\n",
              "      <td>28</td>\n",
              "      <td>Jerez Amontillado</td>\n",
              "      <td>15.84</td>\n",
              "      <td>Sherry</td>\n",
              "      <td>4.0</td>\n",
              "      <td>3.0</td>\n",
              "    </tr>\n",
              "    <tr>\n",
              "      <th>1166</th>\n",
              "      <td>Gonzalez-Byass</td>\n",
              "      <td>Matusalem Sherry VORS</td>\n",
              "      <td>NaN</td>\n",
              "      <td>4.3</td>\n",
              "      <td>1452</td>\n",
              "      <td>Jerez Oloroso</td>\n",
              "      <td>63.34</td>\n",
              "      <td>Sherry</td>\n",
              "      <td>4.0</td>\n",
              "      <td>3.0</td>\n",
              "    </tr>\n",
              "    <tr>\n",
              "      <th>1171</th>\n",
              "      <td>Gonzalez-Byass</td>\n",
              "      <td>Apostoles 30 Years Old Sherry</td>\n",
              "      <td>NaN</td>\n",
              "      <td>4.3</td>\n",
              "      <td>1247</td>\n",
              "      <td>Jerez Palo Cortado</td>\n",
              "      <td>74.00</td>\n",
              "      <td>Sherry</td>\n",
              "      <td>4.0</td>\n",
              "      <td>3.0</td>\n",
              "    </tr>\n",
              "    <tr>\n",
              "      <th>1227</th>\n",
              "      <td>Bodegas Tradicion</td>\n",
              "      <td>Oloroso Tradicion Vors 30 Years</td>\n",
              "      <td>NaN</td>\n",
              "      <td>4.3</td>\n",
              "      <td>590</td>\n",
              "      <td>Jerez Oloroso</td>\n",
              "      <td>58.90</td>\n",
              "      <td>Sherry</td>\n",
              "      <td>4.0</td>\n",
              "      <td>3.0</td>\n",
              "    </tr>\n",
              "    <tr>\n",
              "      <th>1448</th>\n",
              "      <td>Lustau</td>\n",
              "      <td>Jerez-Xeres-Sherry 30 Year Old Oloroso VORS</td>\n",
              "      <td>NaN</td>\n",
              "      <td>4.3</td>\n",
              "      <td>135</td>\n",
              "      <td>Jerez-Xeres-Sherry</td>\n",
              "      <td>39.00</td>\n",
              "      <td>Sherry</td>\n",
              "      <td>4.0</td>\n",
              "      <td>3.0</td>\n",
              "    </tr>\n",
              "    <tr>\n",
              "      <th>1470</th>\n",
              "      <td>Callejuela</td>\n",
              "      <td>La Casilla Amontillado</td>\n",
              "      <td>NaN</td>\n",
              "      <td>4.3</td>\n",
              "      <td>122</td>\n",
              "      <td>Jerez-Xeres-Sherry</td>\n",
              "      <td>43.95</td>\n",
              "      <td>Sherry</td>\n",
              "      <td>4.0</td>\n",
              "      <td>3.0</td>\n",
              "    </tr>\n",
              "    <tr>\n",
              "      <th>1471</th>\n",
              "      <td>El Maestro Sierra</td>\n",
              "      <td>Palo Cortado</td>\n",
              "      <td>NaN</td>\n",
              "      <td>4.3</td>\n",
              "      <td>119</td>\n",
              "      <td>Jerez Palo Cortado</td>\n",
              "      <td>85.40</td>\n",
              "      <td>Sherry</td>\n",
              "      <td>4.0</td>\n",
              "      <td>3.0</td>\n",
              "    </tr>\n",
              "    <tr>\n",
              "      <th>1477</th>\n",
              "      <td>Valdespino</td>\n",
              "      <td>Cardenal Palo Cortado VORS</td>\n",
              "      <td>NaN</td>\n",
              "      <td>4.3</td>\n",
              "      <td>116</td>\n",
              "      <td>Jerez Palo Cortado</td>\n",
              "      <td>176.50</td>\n",
              "      <td>Sherry</td>\n",
              "      <td>4.0</td>\n",
              "      <td>3.0</td>\n",
              "    </tr>\n",
              "    <tr>\n",
              "      <th>1487</th>\n",
              "      <td>Bodegas Urium</td>\n",
              "      <td>Amontillado V.O.R.S</td>\n",
              "      <td>NaN</td>\n",
              "      <td>4.3</td>\n",
              "      <td>110</td>\n",
              "      <td>Jerez Amontillado</td>\n",
              "      <td>50.00</td>\n",
              "      <td>Sherry</td>\n",
              "      <td>4.0</td>\n",
              "      <td>3.0</td>\n",
              "    </tr>\n",
              "    <tr>\n",
              "      <th>1519</th>\n",
              "      <td>Osborne</td>\n",
              "      <td>Amontillado 51-1a 30 Years VORS Sherry</td>\n",
              "      <td>NaN</td>\n",
              "      <td>4.3</td>\n",
              "      <td>89</td>\n",
              "      <td>Jerez-Xeres-Sherry</td>\n",
              "      <td>64.80</td>\n",
              "      <td>Sherry</td>\n",
              "      <td>4.0</td>\n",
              "      <td>3.0</td>\n",
              "    </tr>\n",
              "    <tr>\n",
              "      <th>1553</th>\n",
              "      <td>El Maestro Sierra</td>\n",
              "      <td>Oloroso Extra Viejo 1/7</td>\n",
              "      <td>NaN</td>\n",
              "      <td>4.3</td>\n",
              "      <td>78</td>\n",
              "      <td>Jerez-Xeres-Sherry</td>\n",
              "      <td>217.80</td>\n",
              "      <td>Sherry</td>\n",
              "      <td>4.0</td>\n",
              "      <td>3.0</td>\n",
              "    </tr>\n",
              "    <tr>\n",
              "      <th>1574</th>\n",
              "      <td>Equipo Navazos</td>\n",
              "      <td>La Bota 69 de Amontillado</td>\n",
              "      <td>NaN</td>\n",
              "      <td>4.3</td>\n",
              "      <td>72</td>\n",
              "      <td>Jerez-Xeres-Sherry</td>\n",
              "      <td>113.72</td>\n",
              "      <td>Sherry</td>\n",
              "      <td>4.0</td>\n",
              "      <td>3.0</td>\n",
              "    </tr>\n",
              "    <tr>\n",
              "      <th>1585</th>\n",
              "      <td>Balandro</td>\n",
              "      <td>Las Botas Palo Cortado Horizontal</td>\n",
              "      <td>NaN</td>\n",
              "      <td>4.3</td>\n",
              "      <td>67</td>\n",
              "      <td>Manzanilla</td>\n",
              "      <td>37.00</td>\n",
              "      <td>Sherry</td>\n",
              "      <td>4.0</td>\n",
              "      <td>3.0</td>\n",
              "    </tr>\n",
              "    <tr>\n",
              "      <th>1587</th>\n",
              "      <td>M. Antonio de la Riva</td>\n",
              "      <td>La Riva Fino Balbaina Alta</td>\n",
              "      <td>NaN</td>\n",
              "      <td>4.3</td>\n",
              "      <td>67</td>\n",
              "      <td>Jerez-Xeres-Sherry</td>\n",
              "      <td>47.45</td>\n",
              "      <td>Sherry</td>\n",
              "      <td>4.0</td>\n",
              "      <td>3.0</td>\n",
              "    </tr>\n",
              "    <tr>\n",
              "      <th>1590</th>\n",
              "      <td>Bodegas Arfe</td>\n",
              "      <td>Palo Cortado de la Cruz de 1767</td>\n",
              "      <td>NaN</td>\n",
              "      <td>4.3</td>\n",
              "      <td>66</td>\n",
              "      <td>Jerez-Xeres-Sherry</td>\n",
              "      <td>59.90</td>\n",
              "      <td>Sherry</td>\n",
              "      <td>4.0</td>\n",
              "      <td>3.0</td>\n",
              "    </tr>\n",
              "    <tr>\n",
              "      <th>1702</th>\n",
              "      <td>Santa Petronila</td>\n",
              "      <td>Oloroso En Rama</td>\n",
              "      <td>NaN</td>\n",
              "      <td>4.3</td>\n",
              "      <td>40</td>\n",
              "      <td>Jerez-Xeres-Sherry</td>\n",
              "      <td>24.90</td>\n",
              "      <td>Sherry</td>\n",
              "      <td>4.0</td>\n",
              "      <td>3.0</td>\n",
              "    </tr>\n",
              "    <tr>\n",
              "      <th>1704</th>\n",
              "      <td>Hidalgo (La Gitana)</td>\n",
              "      <td>Amontillado Napoleon Vinos Viejos 30 Year Old ...</td>\n",
              "      <td>NaN</td>\n",
              "      <td>4.3</td>\n",
              "      <td>40</td>\n",
              "      <td>Jerez-Xeres-Sherry</td>\n",
              "      <td>74.90</td>\n",
              "      <td>Sherry</td>\n",
              "      <td>4.0</td>\n",
              "      <td>3.0</td>\n",
              "    </tr>\n",
              "    <tr>\n",
              "      <th>1780</th>\n",
              "      <td>Altanza</td>\n",
              "      <td>Coleccion Roberto Amillo Amontillado</td>\n",
              "      <td>NaN</td>\n",
              "      <td>4.3</td>\n",
              "      <td>29</td>\n",
              "      <td>Jerez Amontillado</td>\n",
              "      <td>39.90</td>\n",
              "      <td>Sherry</td>\n",
              "      <td>4.0</td>\n",
              "      <td>3.0</td>\n",
              "    </tr>\n",
              "    <tr>\n",
              "      <th>1781</th>\n",
              "      <td>Alvaro Domecq</td>\n",
              "      <td>1730 Amontillado</td>\n",
              "      <td>NaN</td>\n",
              "      <td>4.3</td>\n",
              "      <td>29</td>\n",
              "      <td>Jerez Amontillado</td>\n",
              "      <td>34.65</td>\n",
              "      <td>Sherry</td>\n",
              "      <td>4.0</td>\n",
              "      <td>3.0</td>\n",
              "    </tr>\n",
              "    <tr>\n",
              "      <th>1792</th>\n",
              "      <td>Romate</td>\n",
              "      <td>Old &amp; Plus Oloroso</td>\n",
              "      <td>NaN</td>\n",
              "      <td>4.3</td>\n",
              "      <td>28</td>\n",
              "      <td>Jerez Oloroso</td>\n",
              "      <td>45.00</td>\n",
              "      <td>Sherry</td>\n",
              "      <td>4.0</td>\n",
              "      <td>3.0</td>\n",
              "    </tr>\n",
              "    <tr>\n",
              "      <th>1793</th>\n",
              "      <td>Altanza</td>\n",
              "      <td>Coleccion Roberto Amillo Palo Cortado</td>\n",
              "      <td>NaN</td>\n",
              "      <td>4.3</td>\n",
              "      <td>27</td>\n",
              "      <td>Jerez-Xeres-Sherry</td>\n",
              "      <td>47.70</td>\n",
              "      <td>Sherry</td>\n",
              "      <td>4.0</td>\n",
              "      <td>3.0</td>\n",
              "    </tr>\n",
              "    <tr>\n",
              "      <th>1896</th>\n",
              "      <td>Gonzalez-Byass</td>\n",
              "      <td>Del Duque Amontillado Sherry VORS</td>\n",
              "      <td>NaN</td>\n",
              "      <td>4.2</td>\n",
              "      <td>1016</td>\n",
              "      <td>Jerez Amontillado</td>\n",
              "      <td>77.22</td>\n",
              "      <td>Sherry</td>\n",
              "      <td>4.0</td>\n",
              "      <td>3.0</td>\n",
              "    </tr>\n",
              "    <tr>\n",
              "      <th>1942</th>\n",
              "      <td>Williams &amp; Humbert</td>\n",
              "      <td>Dos Cortados Palo Cortado Solera Especial Aged...</td>\n",
              "      <td>NaN</td>\n",
              "      <td>4.2</td>\n",
              "      <td>666</td>\n",
              "      <td>Jerez Palo Cortado</td>\n",
              "      <td>32.16</td>\n",
              "      <td>Sherry</td>\n",
              "      <td>4.0</td>\n",
              "      <td>3.0</td>\n",
              "    </tr>\n",
              "    <tr>\n",
              "      <th>1971</th>\n",
              "      <td>Fernando de Castilla</td>\n",
              "      <td>Antique Palo Cortado</td>\n",
              "      <td>NaN</td>\n",
              "      <td>4.2</td>\n",
              "      <td>519</td>\n",
              "      <td>Jerez Palo Cortado</td>\n",
              "      <td>36.90</td>\n",
              "      <td>Sherry</td>\n",
              "      <td>4.0</td>\n",
              "      <td>3.0</td>\n",
              "    </tr>\n",
              "    <tr>\n",
              "      <th>1979</th>\n",
              "      <td>Williams &amp; Humbert</td>\n",
              "      <td>Jalifa Amontillado Rare Old Dry Solera Especia...</td>\n",
              "      <td>NaN</td>\n",
              "      <td>4.2</td>\n",
              "      <td>487</td>\n",
              "      <td>Jerez Amontillado</td>\n",
              "      <td>33.50</td>\n",
              "      <td>Sherry</td>\n",
              "      <td>4.0</td>\n",
              "      <td>3.0</td>\n",
              "    </tr>\n",
              "    <tr>\n",
              "      <th>2012</th>\n",
              "      <td>Lustau</td>\n",
              "      <td>Candela Cream Dulce Sweet</td>\n",
              "      <td>NaN</td>\n",
              "      <td>4.2</td>\n",
              "      <td>405</td>\n",
              "      <td>Jerez-Xeres-Sherry</td>\n",
              "      <td>7.10</td>\n",
              "      <td>Sherry</td>\n",
              "      <td>NaN</td>\n",
              "      <td>NaN</td>\n",
              "    </tr>\n",
              "    <tr>\n",
              "      <th>2037</th>\n",
              "      <td>Lustau</td>\n",
              "      <td>Candela Cream Dulce Sweet</td>\n",
              "      <td>NaN</td>\n",
              "      <td>4.2</td>\n",
              "      <td>405</td>\n",
              "      <td>Jerez-Xeres-Sherry</td>\n",
              "      <td>7.10</td>\n",
              "      <td>Sherry</td>\n",
              "      <td>4.0</td>\n",
              "      <td>3.0</td>\n",
              "    </tr>\n",
              "  </tbody>\n",
              "</table>\n",
              "</div>\n",
              "      <button class=\"colab-df-convert\" onclick=\"convertToInteractive('df-feea531e-f909-4a6e-9b3e-a167477ea13e')\"\n",
              "              title=\"Convert this dataframe to an interactive table.\"\n",
              "              style=\"display:none;\">\n",
              "        \n",
              "  <svg xmlns=\"http://www.w3.org/2000/svg\" height=\"24px\"viewBox=\"0 0 24 24\"\n",
              "       width=\"24px\">\n",
              "    <path d=\"M0 0h24v24H0V0z\" fill=\"none\"/>\n",
              "    <path d=\"M18.56 5.44l.94 2.06.94-2.06 2.06-.94-2.06-.94-.94-2.06-.94 2.06-2.06.94zm-11 1L8.5 8.5l.94-2.06 2.06-.94-2.06-.94L8.5 2.5l-.94 2.06-2.06.94zm10 10l.94 2.06.94-2.06 2.06-.94-2.06-.94-.94-2.06-.94 2.06-2.06.94z\"/><path d=\"M17.41 7.96l-1.37-1.37c-.4-.4-.92-.59-1.43-.59-.52 0-1.04.2-1.43.59L10.3 9.45l-7.72 7.72c-.78.78-.78 2.05 0 2.83L4 21.41c.39.39.9.59 1.41.59.51 0 1.02-.2 1.41-.59l7.78-7.78 2.81-2.81c.8-.78.8-2.07 0-2.86zM5.41 20L4 18.59l7.72-7.72 1.47 1.35L5.41 20z\"/>\n",
              "  </svg>\n",
              "      </button>\n",
              "      \n",
              "  <style>\n",
              "    .colab-df-container {\n",
              "      display:flex;\n",
              "      flex-wrap:wrap;\n",
              "      gap: 12px;\n",
              "    }\n",
              "\n",
              "    .colab-df-convert {\n",
              "      background-color: #E8F0FE;\n",
              "      border: none;\n",
              "      border-radius: 50%;\n",
              "      cursor: pointer;\n",
              "      display: none;\n",
              "      fill: #1967D2;\n",
              "      height: 32px;\n",
              "      padding: 0 0 0 0;\n",
              "      width: 32px;\n",
              "    }\n",
              "\n",
              "    .colab-df-convert:hover {\n",
              "      background-color: #E2EBFA;\n",
              "      box-shadow: 0px 1px 2px rgba(60, 64, 67, 0.3), 0px 1px 3px 1px rgba(60, 64, 67, 0.15);\n",
              "      fill: #174EA6;\n",
              "    }\n",
              "\n",
              "    [theme=dark] .colab-df-convert {\n",
              "      background-color: #3B4455;\n",
              "      fill: #D2E3FC;\n",
              "    }\n",
              "\n",
              "    [theme=dark] .colab-df-convert:hover {\n",
              "      background-color: #434B5C;\n",
              "      box-shadow: 0px 1px 3px 1px rgba(0, 0, 0, 0.15);\n",
              "      filter: drop-shadow(0px 1px 2px rgba(0, 0, 0, 0.3));\n",
              "      fill: #FFFFFF;\n",
              "    }\n",
              "  </style>\n",
              "\n",
              "      <script>\n",
              "        const buttonEl =\n",
              "          document.querySelector('#df-feea531e-f909-4a6e-9b3e-a167477ea13e button.colab-df-convert');\n",
              "        buttonEl.style.display =\n",
              "          google.colab.kernel.accessAllowed ? 'block' : 'none';\n",
              "\n",
              "        async function convertToInteractive(key) {\n",
              "          const element = document.querySelector('#df-feea531e-f909-4a6e-9b3e-a167477ea13e');\n",
              "          const dataTable =\n",
              "            await google.colab.kernel.invokeFunction('convertToInteractive',\n",
              "                                                     [key], {});\n",
              "          if (!dataTable) return;\n",
              "\n",
              "          const docLinkHtml = 'Like what you see? Visit the ' +\n",
              "            '<a target=\"_blank\" href=https://colab.research.google.com/notebooks/data_table.ipynb>data table notebook</a>'\n",
              "            + ' to learn more about interactive tables.';\n",
              "          element.innerHTML = '';\n",
              "          dataTable['output_type'] = 'display_data';\n",
              "          await google.colab.output.renderOutput(dataTable, element);\n",
              "          const docLink = document.createElement('div');\n",
              "          docLink.innerHTML = docLinkHtml;\n",
              "          element.appendChild(docLink);\n",
              "        }\n",
              "      </script>\n",
              "    </div>\n",
              "  </div>\n",
              "  "
            ]
          },
          "metadata": {},
          "execution_count": 23
        }
      ]
    },
    {
      "cell_type": "code",
      "source": [
        "df.loc[df[\"type\"]==\"Sherry\", :].shape"
      ],
      "metadata": {
        "colab": {
          "base_uri": "https://localhost:8080/"
        },
        "id": "zu6YOnnDr94f",
        "outputId": "13022c8b-f8d6-416f-e3ee-cc7fba6bcfb8"
      },
      "execution_count": 24,
      "outputs": [
        {
          "output_type": "execute_result",
          "data": {
            "text/plain": [
              "(56, 10)"
            ]
          },
          "metadata": {},
          "execution_count": 24
        }
      ]
    },
    {
      "cell_type": "markdown",
      "source": [
        "I found that 56 our 72 missing values in year column are the same type \"sherry\". There is two year\"1987\", \"1991\" of sherry type. I decided to pick one of the two:1987 to fill in the missing values. I will do this after data split."
      ],
      "metadata": {
        "id": "NX5Jn-UNtKy-"
      }
    },
    {
      "cell_type": "markdown",
      "source": [
        "# Produced univariate visuals for the target and all features"
      ],
      "metadata": {
        "id": "svTe5jVtc5pV"
      }
    },
    {
      "cell_type": "markdown",
      "source": [
        "**Visuals for target: Price**"
      ],
      "metadata": {
        "id": "KE_0PYWZkkbB"
      }
    },
    {
      "cell_type": "code",
      "source": [
        "#Visualization1: Use Histogram to look at the distribution of Price\n",
        "fig, ax = plt.subplots(figsize=(20,12))\n",
        "sns.histplot(data=df, x=\"price\")\n",
        "plt.xlabel('Sale Price in ($)', fontsize=20)\n",
        "plt.ylabel('# of Wine in Each Sale Price', fontsize=20)\n",
        "plt.title('Wine Sale Price', fontsize=20)\n",
        "plt.axvline(df['price'].median(), color='black', linestyle='--', label=f\"Median Price={df['price'].median()}\")\n",
        "plt.legend()   "
      ],
      "metadata": {
        "colab": {
          "base_uri": "https://localhost:8080/",
          "height": 721
        },
        "id": "MdHJJRebkjXG",
        "outputId": "33fbf601-3987-4a73-917a-c6fa0ca09489"
      },
      "execution_count": 40,
      "outputs": [
        {
          "output_type": "execute_result",
          "data": {
            "text/plain": [
              "<matplotlib.legend.Legend at 0x7f60a64e4410>"
            ]
          },
          "metadata": {},
          "execution_count": 40
        },
        {
          "output_type": "display_data",
          "data": {
            "text/plain": [
              "<Figure size 1440x864 with 1 Axes>"
            ],
            "image/png": "[encoded data removed]"
          },
          "metadata": {
            "needs_background": "light"
          }
        }
      ]
    },
    {
      "cell_type": "markdown",
      "source": [
        "From the shape of the price's histogram, I can see that a lot of the wine price is under about 200. Most of the wine price is under 500. There are few wine price is above 500 and fewer wine price is above 1000 or 1500."
      ],
      "metadata": {
        "id": "8X8EoMKemufj"
      }
    },
    {
      "cell_type": "code",
      "source": [
        "#Visualization2: use boxplot to look if there is outliers in Price.\n",
        "df.boxplot(column=\"price\")\n",
        "print(df[\"price\"].describe())"
      ],
      "metadata": {
        "colab": {
          "base_uri": "https://localhost:8080/",
          "height": 421
        },
        "id": "R-5W9jtVmP_w",
        "outputId": "1409376e-8b12-434f-c3eb-9e7bdf553ebc"
      },
      "execution_count": 32,
      "outputs": [
        {
          "output_type": "stream",
          "name": "stdout",
          "text": [
            "count    2048.000000\n",
            "mean      135.242194\n",
            "std       272.178316\n",
            "min         4.990000\n",
            "25%        31.917947\n",
            "50%        53.625000\n",
            "75%       110.000000\n",
            "max      3119.080000\n",
            "Name: price, dtype: float64\n"
          ]
        },
        {
          "output_type": "display_data",
          "data": {
            "text/plain": [
              "<Figure size 432x288 with 1 Axes>"
            ],
            "image/png": "[encoded data removed]"
          },
          "metadata": {
            "needs_background": "light"
          }
        }
      ]
    },
    {
      "cell_type": "markdown",
      "source": [
        "# Finding 'Minimum' and 'Maximum' and Outliers\n",
        "According to the results of our df.describe() above:\n",
        "\n",
        "\n",
        "1.   First Quartile (Q1) = 32\n",
        "2.   Third Quartile (Q3) = 110\n",
        "3.  Interquartile Range (IQR) = Q3 - Q1 = 78\n",
        "4.   1.5 * IQR = 120\n",
        "5. 'Minimum' (before outliers) is Q1 - 78 = -46\n",
        "6. 'Maximum' (before outliers) is Q3 + 78 = 188\n",
        "\n",
        "Notice below that the lower whisker is at 0, which is the actual minimum value (the plot does not cover non-existent values), and the upper whisker is at 188.\n",
        "\n",
        "We can see there are lot of outliers above 188."
      ],
      "metadata": {
        "id": "2kuRgrAOn-OS"
      }
    },
    {
      "cell_type": "markdown",
      "source": [
        "**Univariate Visuals for all features**\n",
        "\n",
        "\n",
        "*   Cat_features:Winery, wine, region, type\n",
        "*   num_features: rating, num_reviws, body, acidity, year\n",
        "\n"
      ],
      "metadata": {
        "id": "UQeNBMH4ohcc"
      }
    },
    {
      "cell_type": "markdown",
      "source": [
        "**Use Histograms to look at the distribution of the cat_features**"
      ],
      "metadata": {
        "id": "gXluOSjksDwx"
      }
    },
    {
      "cell_type": "code",
      "source": [
        "plt.style.use('seaborn')\n",
        "fig, axes = plt.subplots(nrows=4, figsize=(20,30))\n",
        "sns.histplot(data=df, x=\"winery\", ax=axes[0])\n",
        "axes[0].set_title('Types of Winery', fontsize=15, fontweight='bold')\n",
        "\n",
        "sns.histplot(data=df, x=\"wine\", ax=axes[1])\n",
        "axes[1].set_title('Types of wine', fontsize=15, fontweight='bold')\n",
        "\n",
        "sns.histplot(data=df, x=\"region\", ax=axes[2])\n",
        "axes[2].set_title('Types of region', fontsize=15, fontweight='bold')\n",
        "\n",
        "sns.histplot(data=df, x=\"type\", ax=axes[3])\n",
        "axes[3].set_title('Types', fontsize=15, fontweight='bold')\n",
        "fig.tight_layout()"
      ],
      "metadata": {
        "colab": {
          "base_uri": "https://localhost:8080/",
          "height": 1000
        },
        "id": "V8sbm3tUxQqc",
        "outputId": "c64f34dd-85b6-4d46-f0df-7c532db95266"
      },
      "execution_count": 69,
      "outputs": [
        {
          "output_type": "display_data",
          "data": {
            "text/plain": [
              "<Figure size 1440x2160 with 4 Axes>"
            ],
            "image/png": "[encoded data removed]"
          },
          "metadata": {}
        }
      ]
    },
    {
      "cell_type": "code",
      "source": [
        "#Use Histogram to look at the distribution of year\n",
        "year_counts = df['year'].value_counts()\n",
        "fig, ax = plt.subplots(figsize=(20, 6))\n",
        "year_counts.plot(kind = 'bar')\n",
        "plt.xticks(rotation=90)\n"
      ],
      "metadata": {
        "colab": {
          "base_uri": "https://localhost:8080/",
          "height": 468
        },
        "id": "kOrwgPLzCv_j",
        "outputId": "b80b0ec3-088e-452f-f865-23ad334a47cd"
      },
      "execution_count": 82,
      "outputs": [
        {
          "output_type": "execute_result",
          "data": {
            "text/plain": [
              "(array([ 0,  1,  2,  3,  4,  5,  6,  7,  8,  9, 10, 11, 12, 13, 14, 15, 16,\n",
              "        17, 18, 19, 20, 21, 22, 23, 24, 25, 26, 27, 28, 29, 30, 31, 32, 33,\n",
              "        34, 35, 36, 37, 38, 39, 40, 41, 42, 43, 44, 45, 46, 47, 48, 49, 50,\n",
              "        51, 52, 53, 54, 55, 56, 57, 58, 59, 60, 61, 62, 63, 64, 65, 66, 67,\n",
              "        68, 69]), <a list of 70 Text major ticklabel objects>)"
            ]
          },
          "metadata": {},
          "execution_count": 82
        },
        {
          "output_type": "display_data",
          "data": {
            "text/plain": [
              "<Figure size 1440x432 with 1 Axes>"
            ],
            "image/png": "[encoded data removed]"
          },
          "metadata": {}
        }
      ]
    },
    {
      "cell_type": "markdown",
      "source": [
        "**Use boxplots to look if there are outliers in num_features and group by type.**"
      ],
      "metadata": {
        "id": "OHjteYh0pPpT"
      }
    },
    {
      "cell_type": "code",
      "source": [
        "df.boxplot([\"rating\", \"num_reviews\", \"body\", \"acidity\"], by = \"type\", figsize = (20,10), fontsize = 12, rot=90, grid=False)\n",
        "plt.show()"
      ],
      "metadata": {
        "colab": {
          "base_uri": "https://localhost:8080/",
          "height": 876
        },
        "id": "fXB7EC1cdIHu",
        "outputId": "65fea837-f8bc-4dd7-baaa-37a8172f9561"
      },
      "execution_count": 43,
      "outputs": [
        {
          "output_type": "stream",
          "name": "stderr",
          "text": [
            "/usr/local/lib/python3.7/dist-packages/matplotlib/cbook/__init__.py:1376: VisibleDeprecationWarning: Creating an ndarray from ragged nested sequences (which is a list-or-tuple of lists-or-tuples-or ndarrays with different lengths or shapes) is deprecated. If you meant to do this, you must specify 'dtype=object' when creating the ndarray.\n",
            "  X = np.atleast_1d(X.T if isinstance(X, np.ndarray) else np.asarray(X))\n",
            "/usr/local/lib/python3.7/dist-packages/matplotlib/cbook/__init__.py:1376: VisibleDeprecationWarning: Creating an ndarray from ragged nested sequences (which is a list-or-tuple of lists-or-tuples-or ndarrays with different lengths or shapes) is deprecated. If you meant to do this, you must specify 'dtype=object' when creating the ndarray.\n",
            "  X = np.atleast_1d(X.T if isinstance(X, np.ndarray) else np.asarray(X))\n",
            "/usr/local/lib/python3.7/dist-packages/matplotlib/cbook/__init__.py:1376: VisibleDeprecationWarning: Creating an ndarray from ragged nested sequences (which is a list-or-tuple of lists-or-tuples-or ndarrays with different lengths or shapes) is deprecated. If you meant to do this, you must specify 'dtype=object' when creating the ndarray.\n",
            "  X = np.atleast_1d(X.T if isinstance(X, np.ndarray) else np.asarray(X))\n",
            "/usr/local/lib/python3.7/dist-packages/matplotlib/cbook/__init__.py:1376: VisibleDeprecationWarning: Creating an ndarray from ragged nested sequences (which is a list-or-tuple of lists-or-tuples-or ndarrays with different lengths or shapes) is deprecated. If you meant to do this, you must specify 'dtype=object' when creating the ndarray.\n",
            "  X = np.atleast_1d(X.T if isinstance(X, np.ndarray) else np.asarray(X))\n"
          ]
        },
        {
          "output_type": "display_data",
          "data": {
            "text/plain": [
              "<Figure size 1440x720 with 4 Axes>"
            ],
            "image/png": "[encoded data removed]"
          },
          "metadata": {
            "needs_background": "light"
          }
        }
      ]
    },
    {
      "cell_type": "markdown",
      "source": [
        "From the above boxplots I can see that only num_reviews has some outliers in some wine types."
      ],
      "metadata": {
        "id": "dNCaMwEurVZ-"
      }
    },
    {
      "cell_type": "code",
      "source": [
        ""
      ],
      "metadata": {
        "id": "VYtvJo5Srs57"
      },
      "execution_count": null,
      "outputs": []
    }
  ]
}