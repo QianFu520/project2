{
  "nbformat": 4,
  "nbformat_minor": 0,
  "metadata": {
    "colab": {
      "provenance": [],
      "collapsed_sections": [],
      "authorship_tag": "ABX9TyMb7SHtLGMKS3+SR8XzOp6a",
      "include_colab_link": true
    },
    "kernelspec": {
      "name": "python3",
      "display_name": "Python 3"
    },
    "language_info": {
      "name": "python"
    }
  },
  "cells": [
    {
      "cell_type": "markdown",
      "metadata": {
        "id": "view-in-github",
        "colab_type": "text"
      },
      "source": [
        "<a href=\"https://colab.research.google.com/github/QianFu520/project2/blob/main/Project_2_Part_4.ipynb\" target=\"_parent\"><img src=\"https://colab.research.google.com/assets/colab-badge.svg\" alt=\"Open In Colab\"/></a>"
      ]
    },
    {
      "cell_type": "markdown",
      "source": [
        "\n",
        "\n",
        "*   Qian Fu\n",
        "*   9/7/2022\n",
        "\n"
      ],
      "metadata": {
        "id": "sFOhXAbEuAua"
      }
    },
    {
      "cell_type": "markdown",
      "source": [
        "# Import Libraries"
      ],
      "metadata": {
        "id": "HdzOBncKX8yA"
      }
    },
    {
      "cell_type": "code",
      "execution_count": null,
      "metadata": {
        "id": "DwHmStTCG7Nx"
      },
      "outputs": [],
      "source": [
        "import pandas as pd\n",
        "import numpy as np\n",
        "import matplotlib.pyplot as plt\n",
        "import seaborn as sns\n",
        "from sklearn.model_selection import train_test_split, GridSearchCV\n",
        "from sklearn.compose import make_column_selector, make_column_transformer\n",
        "from sklearn.preprocessing import StandardScaler, OneHotEncoder\n",
        "from sklearn.pipeline import make_pipeline\n",
        "from sklearn.impute import SimpleImputer\n",
        "from sklearn.linear_model import LinearRegression\n",
        "from sklearn.dummy import DummyRegressor\n",
        "from sklearn.tree import DecisionTreeRegressor\n",
        "from sklearn.ensemble import BaggingRegressor, RandomForestRegressor\n",
        "from sklearn.neighbors import KNeighborsRegressor\n",
        "from sklearn.metrics import mean_absolute_error, mean_squared_error, r2_score\n",
        "from sklearn import set_config\n",
        "from sklearn.decomposition import PCA"
      ]
    },
    {
      "cell_type": "markdown",
      "source": [
        "# Upload Data"
      ],
      "metadata": {
        "id": "xwaQ2tR-ZFfU"
      }
    },
    {
      "cell_type": "code",
      "source": [
        "df = pd.read_csv(\"/content/Wine.csv\")\n",
        "print('Number of Duplicated Rows', df.duplicated().sum())\n",
        "print('\\n')\n",
        "print(df.info())\n",
        "df.head()"
      ],
      "metadata": {
        "colab": {
          "base_uri": "https://localhost:8080/",
          "height": 588
        },
        "id": "NWevPHx5JO1A",
        "outputId": "5bb56aa9-2727-4319-b850-dde45ef3470d"
      },
      "execution_count": null,
      "outputs": [
        {
          "output_type": "stream",
          "name": "stdout",
          "text": [
            "Number of Duplicated Rows 5452\n",
            "\n",
            "\n",
            "<class 'pandas.core.frame.DataFrame'>\n",
            "RangeIndex: 7500 entries, 0 to 7499\n",
            "Data columns (total 11 columns):\n",
            " #   Column       Non-Null Count  Dtype  \n",
            "---  ------       --------------  -----  \n",
            " 0   winery       7500 non-null   object \n",
            " 1   wine         7500 non-null   object \n",
            " 2   year         7498 non-null   object \n",
            " 3   rating       7500 non-null   float64\n",
            " 4   num_reviews  7500 non-null   int64  \n",
            " 5   country      7500 non-null   object \n",
            " 6   region       7500 non-null   object \n",
            " 7   price        7500 non-null   float64\n",
            " 8   type         6955 non-null   object \n",
            " 9   body         6331 non-null   float64\n",
            " 10  acidity      6331 non-null   float64\n",
            "dtypes: float64(4), int64(1), object(6)\n",
            "memory usage: 644.7+ KB\n",
            "None\n"
          ]
        },
        {
          "output_type": "execute_result",
          "data": {
            "text/plain": [
              "          winery           wine  year  rating  num_reviews country  \\\n",
              "0  Teso La Monja          Tinto  2013     4.9           58  Espana   \n",
              "1         Artadi  Vina El Pison  2018     4.9           31  Espana   \n",
              "2   Vega Sicilia          Unico  2009     4.8         1793  Espana   \n",
              "3   Vega Sicilia          Unico  1999     4.8         1705  Espana   \n",
              "4   Vega Sicilia          Unico  1996     4.8         1309  Espana   \n",
              "\n",
              "             region   price                  type  body  acidity  \n",
              "0              Toro  995.00              Toro Red   5.0      3.0  \n",
              "1    Vino de Espana  313.50           Tempranillo   4.0      2.0  \n",
              "2  Ribera del Duero  324.95  Ribera Del Duero Red   5.0      3.0  \n",
              "3  Ribera del Duero  692.96  Ribera Del Duero Red   5.0      3.0  \n",
              "4  Ribera del Duero  778.06  Ribera Del Duero Red   5.0      3.0  "
            ],
            "text/html": [
              "\n",
              "  <div id=\"df-ed448876-70df-48e8-bd5d-fcfecbb5301d\">\n",
              "    <div class=\"colab-df-container\">\n",
              "      <div>\n",
              "<style scoped>\n",
              "    .dataframe tbody tr th:only-of-type {\n",
              "        vertical-align: middle;\n",
              "    }\n",
              "\n",
              "    .dataframe tbody tr th {\n",
              "        vertical-align: top;\n",
              "    }\n",
              "\n",
              "    .dataframe thead th {\n",
              "        text-align: right;\n",
              "    }\n",
              "</style>\n",
              "<table border=\"1\" class=\"dataframe\">\n",
              "  <thead>\n",
              "    <tr style=\"text-align: right;\">\n",
              "      <th></th>\n",
              "      <th>winery</th>\n",
              "      <th>wine</th>\n",
              "      <th>year</th>\n",
              "      <th>rating</th>\n",
              "      <th>num_reviews</th>\n",
              "      <th>country</th>\n",
              "      <th>region</th>\n",
              "      <th>price</th>\n",
              "      <th>type</th>\n",
              "      <th>body</th>\n",
              "      <th>acidity</th>\n",
              "    </tr>\n",
              "  </thead>\n",
              "  <tbody>\n",
              "    <tr>\n",
              "      <th>0</th>\n",
              "      <td>Teso La Monja</td>\n",
              "      <td>Tinto</td>\n",
              "      <td>2013</td>\n",
              "      <td>4.9</td>\n",
              "      <td>58</td>\n",
              "      <td>Espana</td>\n",
              "      <td>Toro</td>\n",
              "      <td>995.00</td>\n",
              "      <td>Toro Red</td>\n",
              "      <td>5.0</td>\n",
              "      <td>3.0</td>\n",
              "    </tr>\n",
              "    <tr>\n",
              "      <th>1</th>\n",
              "      <td>Artadi</td>\n",
              "      <td>Vina El Pison</td>\n",
              "      <td>2018</td>\n",
              "      <td>4.9</td>\n",
              "      <td>31</td>\n",
              "      <td>Espana</td>\n",
              "      <td>Vino de Espana</td>\n",
              "      <td>313.50</td>\n",
              "      <td>Tempranillo</td>\n",
              "      <td>4.0</td>\n",
              "      <td>2.0</td>\n",
              "    </tr>\n",
              "    <tr>\n",
              "      <th>2</th>\n",
              "      <td>Vega Sicilia</td>\n",
              "      <td>Unico</td>\n",
              "      <td>2009</td>\n",
              "      <td>4.8</td>\n",
              "      <td>1793</td>\n",
              "      <td>Espana</td>\n",
              "      <td>Ribera del Duero</td>\n",
              "      <td>324.95</td>\n",
              "      <td>Ribera Del Duero Red</td>\n",
              "      <td>5.0</td>\n",
              "      <td>3.0</td>\n",
              "    </tr>\n",
              "    <tr>\n",
              "      <th>3</th>\n",
              "      <td>Vega Sicilia</td>\n",
              "      <td>Unico</td>\n",
              "      <td>1999</td>\n",
              "      <td>4.8</td>\n",
              "      <td>1705</td>\n",
              "      <td>Espana</td>\n",
              "      <td>Ribera del Duero</td>\n",
              "      <td>692.96</td>\n",
              "      <td>Ribera Del Duero Red</td>\n",
              "      <td>5.0</td>\n",
              "      <td>3.0</td>\n",
              "    </tr>\n",
              "    <tr>\n",
              "      <th>4</th>\n",
              "      <td>Vega Sicilia</td>\n",
              "      <td>Unico</td>\n",
              "      <td>1996</td>\n",
              "      <td>4.8</td>\n",
              "      <td>1309</td>\n",
              "      <td>Espana</td>\n",
              "      <td>Ribera del Duero</td>\n",
              "      <td>778.06</td>\n",
              "      <td>Ribera Del Duero Red</td>\n",
              "      <td>5.0</td>\n",
              "      <td>3.0</td>\n",
              "    </tr>\n",
              "  </tbody>\n",
              "</table>\n",
              "</div>\n",
              "      <button class=\"colab-df-convert\" onclick=\"convertToInteractive('df-ed448876-70df-48e8-bd5d-fcfecbb5301d')\"\n",
              "              title=\"Convert this dataframe to an interactive table.\"\n",
              "              style=\"display:none;\">\n",
              "        \n",
              "  <svg xmlns=\"http://www.w3.org/2000/svg\" height=\"24px\"viewBox=\"0 0 24 24\"\n",
              "       width=\"24px\">\n",
              "    <path d=\"M0 0h24v24H0V0z\" fill=\"none\"/>\n",
              "    <path d=\"M18.56 5.44l.94 2.06.94-2.06 2.06-.94-2.06-.94-.94-2.06-.94 2.06-2.06.94zm-11 1L8.5 8.5l.94-2.06 2.06-.94-2.06-.94L8.5 2.5l-.94 2.06-2.06.94zm10 10l.94 2.06.94-2.06 2.06-.94-2.06-.94-.94-2.06-.94 2.06-2.06.94z\"/><path d=\"M17.41 7.96l-1.37-1.37c-.4-.4-.92-.59-1.43-.59-.52 0-1.04.2-1.43.59L10.3 9.45l-7.72 7.72c-.78.78-.78 2.05 0 2.83L4 21.41c.39.39.9.59 1.41.59.51 0 1.02-.2 1.41-.59l7.78-7.78 2.81-2.81c.8-.78.8-2.07 0-2.86zM5.41 20L4 18.59l7.72-7.72 1.47 1.35L5.41 20z\"/>\n",
              "  </svg>\n",
              "      </button>\n",
              "      \n",
              "  <style>\n",
              "    .colab-df-container {\n",
              "      display:flex;\n",
              "      flex-wrap:wrap;\n",
              "      gap: 12px;\n",
              "    }\n",
              "\n",
              "    .colab-df-convert {\n",
              "      background-color: #E8F0FE;\n",
              "      border: none;\n",
              "      border-radius: 50%;\n",
              "      cursor: pointer;\n",
              "      display: none;\n",
              "      fill: #1967D2;\n",
              "      height: 32px;\n",
              "      padding: 0 0 0 0;\n",
              "      width: 32px;\n",
              "    }\n",
              "\n",
              "    .colab-df-convert:hover {\n",
              "      background-color: #E2EBFA;\n",
              "      box-shadow: 0px 1px 2px rgba(60, 64, 67, 0.3), 0px 1px 3px 1px rgba(60, 64, 67, 0.15);\n",
              "      fill: #174EA6;\n",
              "    }\n",
              "\n",
              "    [theme=dark] .colab-df-convert {\n",
              "      background-color: #3B4455;\n",
              "      fill: #D2E3FC;\n",
              "    }\n",
              "\n",
              "    [theme=dark] .colab-df-convert:hover {\n",
              "      background-color: #434B5C;\n",
              "      box-shadow: 0px 1px 3px 1px rgba(0, 0, 0, 0.15);\n",
              "      filter: drop-shadow(0px 1px 2px rgba(0, 0, 0, 0.3));\n",
              "      fill: #FFFFFF;\n",
              "    }\n",
              "  </style>\n",
              "\n",
              "      <script>\n",
              "        const buttonEl =\n",
              "          document.querySelector('#df-ed448876-70df-48e8-bd5d-fcfecbb5301d button.colab-df-convert');\n",
              "        buttonEl.style.display =\n",
              "          google.colab.kernel.accessAllowed ? 'block' : 'none';\n",
              "\n",
              "        async function convertToInteractive(key) {\n",
              "          const element = document.querySelector('#df-ed448876-70df-48e8-bd5d-fcfecbb5301d');\n",
              "          const dataTable =\n",
              "            await google.colab.kernel.invokeFunction('convertToInteractive',\n",
              "                                                     [key], {});\n",
              "          if (!dataTable) return;\n",
              "\n",
              "          const docLinkHtml = 'Like what you see? Visit the ' +\n",
              "            '<a target=\"_blank\" href=https://colab.research.google.com/notebooks/data_table.ipynb>data table notebook</a>'\n",
              "            + ' to learn more about interactive tables.';\n",
              "          element.innerHTML = '';\n",
              "          dataTable['output_type'] = 'display_data';\n",
              "          await google.colab.output.renderOutput(dataTable, element);\n",
              "          const docLink = document.createElement('div');\n",
              "          docLink.innerHTML = docLinkHtml;\n",
              "          element.appendChild(docLink);\n",
              "        }\n",
              "      </script>\n",
              "    </div>\n",
              "  </div>\n",
              "  "
            ]
          },
          "metadata": {},
          "execution_count": 3
        }
      ]
    },
    {
      "cell_type": "markdown",
      "source": [
        "I can see that there are duplicated rows, missing values in some columns. There is no wrong datatype."
      ],
      "metadata": {
        "id": "EC8vVo_vlFFI"
      }
    },
    {
      "cell_type": "markdown",
      "source": [
        "# Data Cleaning"
      ],
      "metadata": {
        "id": "18sgrTlNJr8Y"
      }
    },
    {
      "cell_type": "markdown",
      "source": [
        "**Deleted unnecessary columns**"
      ],
      "metadata": {
        "id": "ycbGfxRQfby7"
      }
    },
    {
      "cell_type": "code",
      "source": [
        "#I decided to delete country column, because there is only one country: Espana, it doesn't make impact on predicting the wine price.\n",
        "df.drop(columns=\"country\", inplace= True)"
      ],
      "metadata": {
        "id": "Fnjlu7A9gtf0"
      },
      "execution_count": null,
      "outputs": []
    },
    {
      "cell_type": "markdown",
      "source": [
        "**Check and drop any duplicates**"
      ],
      "metadata": {
        "id": "EBYu00-qK30P"
      }
    },
    {
      "cell_type": "code",
      "source": [
        "#check for duplicates\n",
        "df.duplicated().sum()"
      ],
      "metadata": {
        "colab": {
          "base_uri": "https://localhost:8080/"
        },
        "id": "zLDjkN4YKi27",
        "outputId": "dcea014d-bc6a-48be-d2c9-71180fe08852"
      },
      "execution_count": null,
      "outputs": [
        {
          "output_type": "execute_result",
          "data": {
            "text/plain": [
              "5452"
            ]
          },
          "metadata": {},
          "execution_count": 118
        }
      ]
    },
    {
      "cell_type": "code",
      "source": [
        "#Drop all the duplicates\n",
        "df.drop_duplicates(inplace=True)\n",
        "df.duplicated().sum()"
      ],
      "metadata": {
        "colab": {
          "base_uri": "https://localhost:8080/"
        },
        "id": "8C3alzvpKs3I",
        "outputId": "6643d584-9884-4c94-bffd-7580a94f9ba4"
      },
      "execution_count": null,
      "outputs": [
        {
          "output_type": "execute_result",
          "data": {
            "text/plain": [
              "0"
            ]
          },
          "metadata": {},
          "execution_count": 119
        }
      ]
    },
    {
      "cell_type": "code",
      "source": [
        "df.shape"
      ],
      "metadata": {
        "colab": {
          "base_uri": "https://localhost:8080/"
        },
        "id": "suWqjnN-Qwqu",
        "outputId": "9224a531-ac86-4e5d-f981-b45645a7f690"
      },
      "execution_count": null,
      "outputs": [
        {
          "output_type": "execute_result",
          "data": {
            "text/plain": [
              "(2048, 10)"
            ]
          },
          "metadata": {},
          "execution_count": 120
        }
      ]
    },
    {
      "cell_type": "markdown",
      "source": [
        "# **Identify and address any missing values in this dataset.**\n"
      ],
      "metadata": {
        "id": "WzdGGPDBK-WO"
      }
    },
    {
      "cell_type": "code",
      "source": [
        "df.isna().sum()"
      ],
      "metadata": {
        "colab": {
          "base_uri": "https://localhost:8080/"
        },
        "id": "yyx-Sa-eLBpI",
        "outputId": "6f4078e7-050c-4acc-a15e-d6be6eb51a3c"
      },
      "execution_count": null,
      "outputs": [
        {
          "output_type": "execute_result",
          "data": {
            "text/plain": [
              "winery           0\n",
              "wine             0\n",
              "year             2\n",
              "rating           0\n",
              "num_reviews      0\n",
              "region           0\n",
              "price            0\n",
              "type           106\n",
              "body           271\n",
              "acidity        271\n",
              "dtype: int64"
            ]
          },
          "metadata": {},
          "execution_count": 121
        }
      ]
    },
    {
      "cell_type": "markdown",
      "source": [
        "I can see that there are 2 missing values in 'year' column, 106 missing values in \"type\" column, 271 missing values in \"body\" column, and 271 missing values in \"acidity\" column."
      ],
      "metadata": {
        "id": "a9aR5kP5LHl5"
      }
    },
    {
      "cell_type": "markdown",
      "source": [
        "**Figure out the method for dealing with the missing values in year column**\n",
        "\n"
      ],
      "metadata": {
        "id": "CP8NHGAHv4d_"
      }
    },
    {
      "cell_type": "code",
      "source": [
        "missing_values = pd.isna(df[\"year\"])\n",
        "df[missing_values]"
      ],
      "metadata": {
        "colab": {
          "base_uri": "https://localhost:8080/",
          "height": 112
        },
        "id": "Z4R19gNYvRPD",
        "outputId": "be462e1a-00dc-44af-f8b2-8f19559cea8a"
      },
      "execution_count": null,
      "outputs": [
        {
          "output_type": "execute_result",
          "data": {
            "text/plain": [
              "           winery                            wine year  rating  num_reviews  \\\n",
              "46   Vega Sicilia  Unico Reserva Especial Edicion  NaN     4.7        12421   \n",
              "851      La Unica                  Fourth Edition  NaN     4.4          131   \n",
              "\n",
              "               region  price                  type  body  acidity  \n",
              "46   Ribera del Duero  423.5  Ribera Del Duero Red   5.0      3.0  \n",
              "851    Vino de Espana   40.0           Tempranillo   4.0      2.0  "
            ],
            "text/html": [
              "\n",
              "  <div id=\"df-8ca9e122-150b-4d1b-b8b1-d445d6dbd0d0\">\n",
              "    <div class=\"colab-df-container\">\n",
              "      <div>\n",
              "<style scoped>\n",
              "    .dataframe tbody tr th:only-of-type {\n",
              "        vertical-align: middle;\n",
              "    }\n",
              "\n",
              "    .dataframe tbody tr th {\n",
              "        vertical-align: top;\n",
              "    }\n",
              "\n",
              "    .dataframe thead th {\n",
              "        text-align: right;\n",
              "    }\n",
              "</style>\n",
              "<table border=\"1\" class=\"dataframe\">\n",
              "  <thead>\n",
              "    <tr style=\"text-align: right;\">\n",
              "      <th></th>\n",
              "      <th>winery</th>\n",
              "      <th>wine</th>\n",
              "      <th>year</th>\n",
              "      <th>rating</th>\n",
              "      <th>num_reviews</th>\n",
              "      <th>region</th>\n",
              "      <th>price</th>\n",
              "      <th>type</th>\n",
              "      <th>body</th>\n",
              "      <th>acidity</th>\n",
              "    </tr>\n",
              "  </thead>\n",
              "  <tbody>\n",
              "    <tr>\n",
              "      <th>46</th>\n",
              "      <td>Vega Sicilia</td>\n",
              "      <td>Unico Reserva Especial Edicion</td>\n",
              "      <td>NaN</td>\n",
              "      <td>4.7</td>\n",
              "      <td>12421</td>\n",
              "      <td>Ribera del Duero</td>\n",
              "      <td>423.5</td>\n",
              "      <td>Ribera Del Duero Red</td>\n",
              "      <td>5.0</td>\n",
              "      <td>3.0</td>\n",
              "    </tr>\n",
              "    <tr>\n",
              "      <th>851</th>\n",
              "      <td>La Unica</td>\n",
              "      <td>Fourth Edition</td>\n",
              "      <td>NaN</td>\n",
              "      <td>4.4</td>\n",
              "      <td>131</td>\n",
              "      <td>Vino de Espana</td>\n",
              "      <td>40.0</td>\n",
              "      <td>Tempranillo</td>\n",
              "      <td>4.0</td>\n",
              "      <td>2.0</td>\n",
              "    </tr>\n",
              "  </tbody>\n",
              "</table>\n",
              "</div>\n",
              "      <button class=\"colab-df-convert\" onclick=\"convertToInteractive('df-8ca9e122-150b-4d1b-b8b1-d445d6dbd0d0')\"\n",
              "              title=\"Convert this dataframe to an interactive table.\"\n",
              "              style=\"display:none;\">\n",
              "        \n",
              "  <svg xmlns=\"http://www.w3.org/2000/svg\" height=\"24px\"viewBox=\"0 0 24 24\"\n",
              "       width=\"24px\">\n",
              "    <path d=\"M0 0h24v24H0V0z\" fill=\"none\"/>\n",
              "    <path d=\"M18.56 5.44l.94 2.06.94-2.06 2.06-.94-2.06-.94-.94-2.06-.94 2.06-2.06.94zm-11 1L8.5 8.5l.94-2.06 2.06-.94-2.06-.94L8.5 2.5l-.94 2.06-2.06.94zm10 10l.94 2.06.94-2.06 2.06-.94-2.06-.94-.94-2.06-.94 2.06-2.06.94z\"/><path d=\"M17.41 7.96l-1.37-1.37c-.4-.4-.92-.59-1.43-.59-.52 0-1.04.2-1.43.59L10.3 9.45l-7.72 7.72c-.78.78-.78 2.05 0 2.83L4 21.41c.39.39.9.59 1.41.59.51 0 1.02-.2 1.41-.59l7.78-7.78 2.81-2.81c.8-.78.8-2.07 0-2.86zM5.41 20L4 18.59l7.72-7.72 1.47 1.35L5.41 20z\"/>\n",
              "  </svg>\n",
              "      </button>\n",
              "      \n",
              "  <style>\n",
              "    .colab-df-container {\n",
              "      display:flex;\n",
              "      flex-wrap:wrap;\n",
              "      gap: 12px;\n",
              "    }\n",
              "\n",
              "    .colab-df-convert {\n",
              "      background-color: #E8F0FE;\n",
              "      border: none;\n",
              "      border-radius: 50%;\n",
              "      cursor: pointer;\n",
              "      display: none;\n",
              "      fill: #1967D2;\n",
              "      height: 32px;\n",
              "      padding: 0 0 0 0;\n",
              "      width: 32px;\n",
              "    }\n",
              "\n",
              "    .colab-df-convert:hover {\n",
              "      background-color: #E2EBFA;\n",
              "      box-shadow: 0px 1px 2px rgba(60, 64, 67, 0.3), 0px 1px 3px 1px rgba(60, 64, 67, 0.15);\n",
              "      fill: #174EA6;\n",
              "    }\n",
              "\n",
              "    [theme=dark] .colab-df-convert {\n",
              "      background-color: #3B4455;\n",
              "      fill: #D2E3FC;\n",
              "    }\n",
              "\n",
              "    [theme=dark] .colab-df-convert:hover {\n",
              "      background-color: #434B5C;\n",
              "      box-shadow: 0px 1px 3px 1px rgba(0, 0, 0, 0.15);\n",
              "      filter: drop-shadow(0px 1px 2px rgba(0, 0, 0, 0.3));\n",
              "      fill: #FFFFFF;\n",
              "    }\n",
              "  </style>\n",
              "\n",
              "      <script>\n",
              "        const buttonEl =\n",
              "          document.querySelector('#df-8ca9e122-150b-4d1b-b8b1-d445d6dbd0d0 button.colab-df-convert');\n",
              "        buttonEl.style.display =\n",
              "          google.colab.kernel.accessAllowed ? 'block' : 'none';\n",
              "\n",
              "        async function convertToInteractive(key) {\n",
              "          const element = document.querySelector('#df-8ca9e122-150b-4d1b-b8b1-d445d6dbd0d0');\n",
              "          const dataTable =\n",
              "            await google.colab.kernel.invokeFunction('convertToInteractive',\n",
              "                                                     [key], {});\n",
              "          if (!dataTable) return;\n",
              "\n",
              "          const docLinkHtml = 'Like what you see? Visit the ' +\n",
              "            '<a target=\"_blank\" href=https://colab.research.google.com/notebooks/data_table.ipynb>data table notebook</a>'\n",
              "            + ' to learn more about interactive tables.';\n",
              "          element.innerHTML = '';\n",
              "          dataTable['output_type'] = 'display_data';\n",
              "          await google.colab.output.renderOutput(dataTable, element);\n",
              "          const docLink = document.createElement('div');\n",
              "          docLink.innerHTML = docLinkHtml;\n",
              "          element.appendChild(docLink);\n",
              "        }\n",
              "      </script>\n",
              "    </div>\n",
              "  </div>\n",
              "  "
            ]
          },
          "metadata": {},
          "execution_count": 123
        }
      ]
    },
    {
      "cell_type": "markdown",
      "source": [
        "I choose to drop these two rows"
      ],
      "metadata": {
        "id": "NX5Jn-UNtKy-"
      }
    },
    {
      "cell_type": "code",
      "source": [
        "df.dropna(subset=['year'], inplace=True)"
      ],
      "metadata": {
        "id": "HiBht7GjsQ1n"
      },
      "execution_count": null,
      "outputs": []
    },
    {
      "cell_type": "markdown",
      "source": [
        "**Figure out the method for dealing with the missing values in type column**"
      ],
      "metadata": {
        "id": "OHcnzNKJR6GJ"
      }
    },
    {
      "cell_type": "code",
      "source": [
        "#check the value count in type column\n",
        "df[\"type\"].value_counts()"
      ],
      "metadata": {
        "colab": {
          "base_uri": "https://localhost:8080/"
        },
        "id": "y83lPo6fRSPi",
        "outputId": "44851167-a3f9-46e1-d5db-e482eafd7f52"
      },
      "execution_count": null,
      "outputs": [
        {
          "output_type": "execute_result",
          "data": {
            "text/plain": [
              "Ribera Del Duero Red    535\n",
              "Rioja Red               451\n",
              "Priorat Red             238\n",
              "Red                     210\n",
              "Toro Red                 78\n",
              "Tempranillo              73\n",
              "Sherry                   56\n",
              "Rioja White              37\n",
              "Pedro Ximenez            35\n",
              "Grenache                 35\n",
              "Albarino                 34\n",
              "Cava                     33\n",
              "Verdejo                  27\n",
              "Monastrell               18\n",
              "Mencia                   17\n",
              "Montsant Red             17\n",
              "Syrah                    15\n",
              "Chardonnay               13\n",
              "Cabernet Sauvignon       11\n",
              "Sparkling                 5\n",
              "Sauvignon Blanc           4\n",
              "Name: type, dtype: int64"
            ]
          },
          "metadata": {},
          "execution_count": 122
        }
      ]
    },
    {
      "cell_type": "markdown",
      "source": [
        "To prevent model performance bias, for missing values in type column, I decided to create a new label\"Unidentified\". I will deal with this after data split."
      ],
      "metadata": {
        "id": "vWWoGezOS-wb"
      }
    },
    {
      "cell_type": "markdown",
      "source": [
        "**Figure out the method for dealing with the missing values in body and acidity column**"
      ],
      "metadata": {
        "id": "c4YV5_7FTXbJ"
      }
    },
    {
      "cell_type": "code",
      "source": [
        "#check the stats information of body column\n",
        "df[\"body\"].describe().round(1)"
      ],
      "metadata": {
        "colab": {
          "base_uri": "https://localhost:8080/"
        },
        "id": "1Q208GGdTWw-",
        "outputId": "c976809f-ed2a-4d2c-faf6-e10eda03d720"
      },
      "execution_count": null,
      "outputs": [
        {
          "output_type": "execute_result",
          "data": {
            "text/plain": [
              "count    1775.0\n",
              "mean        4.3\n",
              "std         0.7\n",
              "min         2.0\n",
              "25%         4.0\n",
              "50%         4.0\n",
              "75%         5.0\n",
              "max         5.0\n",
              "Name: body, dtype: float64"
            ]
          },
          "metadata": {},
          "execution_count": 125
        }
      ]
    },
    {
      "cell_type": "code",
      "source": [
        "#check the most frequent value \n",
        "df[\"body\"].value_counts()"
      ],
      "metadata": {
        "colab": {
          "base_uri": "https://localhost:8080/"
        },
        "id": "ButC8uU1WNu-",
        "outputId": "4123e4bc-c17d-4dc3-e42d-4690f5d8766b"
      },
      "execution_count": null,
      "outputs": [
        {
          "output_type": "execute_result",
          "data": {
            "text/plain": [
              "4.0    1002\n",
              "5.0     633\n",
              "3.0     106\n",
              "2.0      34\n",
              "Name: body, dtype: int64"
            ]
          },
          "metadata": {},
          "execution_count": 126
        }
      ]
    },
    {
      "cell_type": "markdown",
      "source": [
        "I can see that the most frequent body value is 4.0, the mean value of the body is around 4.3. I can use the SimpleImputer(strategy= 'mean') method to fill in the missing values in body column.I will address this after the data split"
      ],
      "metadata": {
        "id": "E5ELYNjdVA9G"
      }
    },
    {
      "cell_type": "code",
      "source": [
        "#check the stats information of acidity column\n",
        "df[\"acidity\"].describe().round(1)"
      ],
      "metadata": {
        "colab": {
          "base_uri": "https://localhost:8080/"
        },
        "id": "5n43UrqIVdCM",
        "outputId": "10b949f6-6c3f-4645-bc1e-a86603d44762"
      },
      "execution_count": null,
      "outputs": [
        {
          "output_type": "execute_result",
          "data": {
            "text/plain": [
              "count    1775.0\n",
              "mean        2.9\n",
              "std         0.3\n",
              "min         1.0\n",
              "25%         3.0\n",
              "50%         3.0\n",
              "75%         3.0\n",
              "max         3.0\n",
              "Name: acidity, dtype: float64"
            ]
          },
          "metadata": {},
          "execution_count": 127
        }
      ]
    },
    {
      "cell_type": "code",
      "source": [
        "#check the most frequent value\n",
        "df[\"acidity\"].value_counts()"
      ],
      "metadata": {
        "colab": {
          "base_uri": "https://localhost:8080/"
        },
        "id": "HRTUI9jtXaZ0",
        "outputId": "788903dc-4f4a-4647-cca8-0461b2b4a04e"
      },
      "execution_count": null,
      "outputs": [
        {
          "output_type": "execute_result",
          "data": {
            "text/plain": [
              "3.0    1671\n",
              "2.0      69\n",
              "1.0      35\n",
              "Name: acidity, dtype: int64"
            ]
          },
          "metadata": {},
          "execution_count": 128
        }
      ]
    },
    {
      "cell_type": "markdown",
      "source": [
        "I can see that the most frequent acidity value is 3.0, the mean value of the body is around 2.9. I can use the SimpleImputer(strategy= 'mean') method to fill in the missing values in acidity column.I will address this after the data split"
      ],
      "metadata": {
        "id": "-vwD96vwV6ED"
      }
    },
    {
      "cell_type": "markdown",
      "source": [
        "# Identified and corrected inconsistencies in data for categorical values"
      ],
      "metadata": {
        "id": "_ZM5ltwvWBj-"
      }
    },
    {
      "cell_type": "code",
      "source": [
        "dtypes = df.dtypes\n",
        "str_cols = dtypes[dtypes==\"object\"].index\n",
        "for col in str_cols:\n",
        "  print(f'-Column={col}')\n",
        "  print(df[col].value_counts(dropna=False))\n",
        "  print('\\n\\n')"
      ],
      "metadata": {
        "colab": {
          "base_uri": "https://localhost:8080/"
        },
        "id": "3GnpP3h-bqcM",
        "outputId": "f788c83f-3553-4af2-dd14-ad10ffeff81e"
      },
      "execution_count": null,
      "outputs": [
        {
          "output_type": "stream",
          "name": "stdout",
          "text": [
            "-Column=winery\n",
            "Vega Sicilia                            96\n",
            "Alvaro Palacios                         48\n",
            "Artadi                                  43\n",
            "La Rioja Alta                           36\n",
            "Marques de Murrieta                     33\n",
            "                                        ..\n",
            "Briego                                   1\n",
            "Guillem Carol - Cellers Carol Valles     1\n",
            "Particular                               1\n",
            "Bodegas Asenjo & Manso                   1\n",
            "Binigrau                                 1\n",
            "Name: winery, Length: 479, dtype: int64\n",
            "\n",
            "\n",
            "\n",
            "-Column=wine\n",
            "Tinto                                                 56\n",
            "Unico                                                 41\n",
            "Valbuena 5o                                           32\n",
            "Reserva                                               31\n",
            "Priorat                                               26\n",
            "                                                      ..\n",
            "San Valentin Parellada                                 1\n",
            "Silvanus Edicion Limitada Ribera del Duero             1\n",
            "El Jardin de las Iguales Vinedo Historico Garnacha     1\n",
            "Garnacha Vinas Centenarias                             1\n",
            "Finca La Emperatriz Vinedo Singular Tinto              1\n",
            "Name: wine, Length: 846, dtype: int64\n",
            "\n",
            "\n",
            "\n",
            "-Column=year\n",
            "2016    243\n",
            "2017    240\n",
            "2015    206\n",
            "2018    196\n",
            "2014    158\n",
            "       ... \n",
            "1953      1\n",
            "1972      1\n",
            "1974      1\n",
            "1931      1\n",
            "1925      1\n",
            "Name: year, Length: 71, dtype: int64\n",
            "\n",
            "\n",
            "\n",
            "-Column=region\n",
            "Ribera del Duero                   540\n",
            "Rioja                              479\n",
            "Priorato                           250\n",
            "Toro                                82\n",
            "Castilla y Leon                     51\n",
            "                                  ... \n",
            "Ribera del Gallego-Cinco Villas      1\n",
            "Monterrei                            1\n",
            "Jerez Cream                          1\n",
            "Condado de Huelva                    1\n",
            "Abona                                1\n",
            "Name: region, Length: 76, dtype: int64\n",
            "\n",
            "\n",
            "\n",
            "-Column=type\n",
            "Ribera Del Duero Red    534\n",
            "Rioja Red               451\n",
            "Priorat Red             238\n",
            "Red                     210\n",
            "NaN                     106\n",
            "Toro Red                 78\n",
            "Tempranillo              72\n",
            "Sherry                   56\n",
            "Rioja White              37\n",
            "Pedro Ximenez            35\n",
            "Grenache                 35\n",
            "Albarino                 34\n",
            "Cava                     33\n",
            "Verdejo                  27\n",
            "Monastrell               18\n",
            "Mencia                   17\n",
            "Montsant Red             17\n",
            "Syrah                    15\n",
            "Chardonnay               13\n",
            "Cabernet Sauvignon       11\n",
            "Sparkling                 5\n",
            "Sauvignon Blanc           4\n",
            "Name: type, dtype: int64\n",
            "\n",
            "\n",
            "\n"
          ]
        }
      ]
    },
    {
      "cell_type": "markdown",
      "source": [
        "I can't tell there are inconsistencies in data for categorical values"
      ],
      "metadata": {
        "id": "tR1dTG7qc1Wj"
      }
    },
    {
      "cell_type": "markdown",
      "source": [
        "**Check stats information for numeric values**"
      ],
      "metadata": {
        "id": "oxY5UXP_kwH1"
      }
    },
    {
      "cell_type": "code",
      "source": [
        "df.describe()"
      ],
      "metadata": {
        "colab": {
          "base_uri": "https://localhost:8080/",
          "height": 300
        },
        "id": "B-10uarGktPK",
        "outputId": "627f1f9f-f6b0-4dbb-9814-bbad99bc10ef"
      },
      "execution_count": null,
      "outputs": [
        {
          "output_type": "execute_result",
          "data": {
            "text/plain": [
              "            rating   num_reviews        price         body      acidity\n",
              "count  7500.000000   7500.000000  7500.000000  6331.000000  6331.000000\n",
              "mean      4.254933    451.109067    60.095822     4.158427     2.946612\n",
              "std       0.118029    723.001856   150.356676     0.583352     0.248202\n",
              "min       4.200000     25.000000     4.990000     2.000000     1.000000\n",
              "25%       4.200000    389.000000    18.900000     4.000000     3.000000\n",
              "50%       4.200000    404.000000    28.530000     4.000000     3.000000\n",
              "75%       4.200000    415.000000    51.350000     5.000000     3.000000\n",
              "max       4.900000  32624.000000  3119.080000     5.000000     3.000000"
            ],
            "text/html": [
              "\n",
              "  <div id=\"df-ce7897eb-61df-4496-90ef-7d6afc5eaf03\">\n",
              "    <div class=\"colab-df-container\">\n",
              "      <div>\n",
              "<style scoped>\n",
              "    .dataframe tbody tr th:only-of-type {\n",
              "        vertical-align: middle;\n",
              "    }\n",
              "\n",
              "    .dataframe tbody tr th {\n",
              "        vertical-align: top;\n",
              "    }\n",
              "\n",
              "    .dataframe thead th {\n",
              "        text-align: right;\n",
              "    }\n",
              "</style>\n",
              "<table border=\"1\" class=\"dataframe\">\n",
              "  <thead>\n",
              "    <tr style=\"text-align: right;\">\n",
              "      <th></th>\n",
              "      <th>rating</th>\n",
              "      <th>num_reviews</th>\n",
              "      <th>price</th>\n",
              "      <th>body</th>\n",
              "      <th>acidity</th>\n",
              "    </tr>\n",
              "  </thead>\n",
              "  <tbody>\n",
              "    <tr>\n",
              "      <th>count</th>\n",
              "      <td>7500.000000</td>\n",
              "      <td>7500.000000</td>\n",
              "      <td>7500.000000</td>\n",
              "      <td>6331.000000</td>\n",
              "      <td>6331.000000</td>\n",
              "    </tr>\n",
              "    <tr>\n",
              "      <th>mean</th>\n",
              "      <td>4.254933</td>\n",
              "      <td>451.109067</td>\n",
              "      <td>60.095822</td>\n",
              "      <td>4.158427</td>\n",
              "      <td>2.946612</td>\n",
              "    </tr>\n",
              "    <tr>\n",
              "      <th>std</th>\n",
              "      <td>0.118029</td>\n",
              "      <td>723.001856</td>\n",
              "      <td>150.356676</td>\n",
              "      <td>0.583352</td>\n",
              "      <td>0.248202</td>\n",
              "    </tr>\n",
              "    <tr>\n",
              "      <th>min</th>\n",
              "      <td>4.200000</td>\n",
              "      <td>25.000000</td>\n",
              "      <td>4.990000</td>\n",
              "      <td>2.000000</td>\n",
              "      <td>1.000000</td>\n",
              "    </tr>\n",
              "    <tr>\n",
              "      <th>25%</th>\n",
              "      <td>4.200000</td>\n",
              "      <td>389.000000</td>\n",
              "      <td>18.900000</td>\n",
              "      <td>4.000000</td>\n",
              "      <td>3.000000</td>\n",
              "    </tr>\n",
              "    <tr>\n",
              "      <th>50%</th>\n",
              "      <td>4.200000</td>\n",
              "      <td>404.000000</td>\n",
              "      <td>28.530000</td>\n",
              "      <td>4.000000</td>\n",
              "      <td>3.000000</td>\n",
              "    </tr>\n",
              "    <tr>\n",
              "      <th>75%</th>\n",
              "      <td>4.200000</td>\n",
              "      <td>415.000000</td>\n",
              "      <td>51.350000</td>\n",
              "      <td>5.000000</td>\n",
              "      <td>3.000000</td>\n",
              "    </tr>\n",
              "    <tr>\n",
              "      <th>max</th>\n",
              "      <td>4.900000</td>\n",
              "      <td>32624.000000</td>\n",
              "      <td>3119.080000</td>\n",
              "      <td>5.000000</td>\n",
              "      <td>3.000000</td>\n",
              "    </tr>\n",
              "  </tbody>\n",
              "</table>\n",
              "</div>\n",
              "      <button class=\"colab-df-convert\" onclick=\"convertToInteractive('df-ce7897eb-61df-4496-90ef-7d6afc5eaf03')\"\n",
              "              title=\"Convert this dataframe to an interactive table.\"\n",
              "              style=\"display:none;\">\n",
              "        \n",
              "  <svg xmlns=\"http://www.w3.org/2000/svg\" height=\"24px\"viewBox=\"0 0 24 24\"\n",
              "       width=\"24px\">\n",
              "    <path d=\"M0 0h24v24H0V0z\" fill=\"none\"/>\n",
              "    <path d=\"M18.56 5.44l.94 2.06.94-2.06 2.06-.94-2.06-.94-.94-2.06-.94 2.06-2.06.94zm-11 1L8.5 8.5l.94-2.06 2.06-.94-2.06-.94L8.5 2.5l-.94 2.06-2.06.94zm10 10l.94 2.06.94-2.06 2.06-.94-2.06-.94-.94-2.06-.94 2.06-2.06.94z\"/><path d=\"M17.41 7.96l-1.37-1.37c-.4-.4-.92-.59-1.43-.59-.52 0-1.04.2-1.43.59L10.3 9.45l-7.72 7.72c-.78.78-.78 2.05 0 2.83L4 21.41c.39.39.9.59 1.41.59.51 0 1.02-.2 1.41-.59l7.78-7.78 2.81-2.81c.8-.78.8-2.07 0-2.86zM5.41 20L4 18.59l7.72-7.72 1.47 1.35L5.41 20z\"/>\n",
              "  </svg>\n",
              "      </button>\n",
              "      \n",
              "  <style>\n",
              "    .colab-df-container {\n",
              "      display:flex;\n",
              "      flex-wrap:wrap;\n",
              "      gap: 12px;\n",
              "    }\n",
              "\n",
              "    .colab-df-convert {\n",
              "      background-color: #E8F0FE;\n",
              "      border: none;\n",
              "      border-radius: 50%;\n",
              "      cursor: pointer;\n",
              "      display: none;\n",
              "      fill: #1967D2;\n",
              "      height: 32px;\n",
              "      padding: 0 0 0 0;\n",
              "      width: 32px;\n",
              "    }\n",
              "\n",
              "    .colab-df-convert:hover {\n",
              "      background-color: #E2EBFA;\n",
              "      box-shadow: 0px 1px 2px rgba(60, 64, 67, 0.3), 0px 1px 3px 1px rgba(60, 64, 67, 0.15);\n",
              "      fill: #174EA6;\n",
              "    }\n",
              "\n",
              "    [theme=dark] .colab-df-convert {\n",
              "      background-color: #3B4455;\n",
              "      fill: #D2E3FC;\n",
              "    }\n",
              "\n",
              "    [theme=dark] .colab-df-convert:hover {\n",
              "      background-color: #434B5C;\n",
              "      box-shadow: 0px 1px 3px 1px rgba(0, 0, 0, 0.15);\n",
              "      filter: drop-shadow(0px 1px 2px rgba(0, 0, 0, 0.3));\n",
              "      fill: #FFFFFF;\n",
              "    }\n",
              "  </style>\n",
              "\n",
              "      <script>\n",
              "        const buttonEl =\n",
              "          document.querySelector('#df-ce7897eb-61df-4496-90ef-7d6afc5eaf03 button.colab-df-convert');\n",
              "        buttonEl.style.display =\n",
              "          google.colab.kernel.accessAllowed ? 'block' : 'none';\n",
              "\n",
              "        async function convertToInteractive(key) {\n",
              "          const element = document.querySelector('#df-ce7897eb-61df-4496-90ef-7d6afc5eaf03');\n",
              "          const dataTable =\n",
              "            await google.colab.kernel.invokeFunction('convertToInteractive',\n",
              "                                                     [key], {});\n",
              "          if (!dataTable) return;\n",
              "\n",
              "          const docLinkHtml = 'Like what you see? Visit the ' +\n",
              "            '<a target=\"_blank\" href=https://colab.research.google.com/notebooks/data_table.ipynb>data table notebook</a>'\n",
              "            + ' to learn more about interactive tables.';\n",
              "          element.innerHTML = '';\n",
              "          dataTable['output_type'] = 'display_data';\n",
              "          await google.colab.output.renderOutput(dataTable, element);\n",
              "          const docLink = document.createElement('div');\n",
              "          docLink.innerHTML = docLinkHtml;\n",
              "          element.appendChild(docLink);\n",
              "        }\n",
              "      </script>\n",
              "    </div>\n",
              "  </div>\n",
              "  "
            ]
          },
          "metadata": {},
          "execution_count": 4
        }
      ]
    },
    {
      "cell_type": "markdown",
      "source": [
        "I can tell that there is no impossible values in numeric columns"
      ],
      "metadata": {
        "id": "jR6Mf-xxfDG2"
      }
    },
    {
      "cell_type": "markdown",
      "source": [
        "# Prepare the data appropriately for modeling"
      ],
      "metadata": {
        "id": "sGqVKSaMfmjV"
      }
    },
    {
      "cell_type": "markdown",
      "source": [
        "**Define X, y, train test split**"
      ],
      "metadata": {
        "id": "U2t6e3qHgNFL"
      }
    },
    {
      "cell_type": "code",
      "source": [
        "X=df.drop(columns =\"price\")\n",
        "y=df[\"price\"]\n",
        "X_train, X_test, y_train, y_test = train_test_split(X, y, random_state = 42)"
      ],
      "metadata": {
        "id": "_ATZLgo5ftVF"
      },
      "execution_count": null,
      "outputs": []
    },
    {
      "cell_type": "markdown",
      "source": [
        "**Identify Columns Features**"
      ],
      "metadata": {
        "id": "KDdkEXiSgSDG"
      }
    },
    {
      "cell_type": "markdown",
      "source": [
        "\n",
        "\n",
        "*   Numeric Features: rating, num_reviews, price, body, acidity\n",
        "*   Nominal Features: winery, wine, region, type, year\n",
        "*   Nominal Features: none\n",
        "\n",
        "\n",
        "\n"
      ],
      "metadata": {
        "id": "S41x85HZgpuw"
      }
    },
    {
      "cell_type": "markdown",
      "source": [
        "**Make column selectors**"
      ],
      "metadata": {
        "id": "ooG3y1iAhvqD"
      }
    },
    {
      "cell_type": "code",
      "source": [
        "num_selector = make_column_selector(dtype_include='number')\n",
        "cat_selector = make_column_selector(dtype_include='object')"
      ],
      "metadata": {
        "id": "SA33bveyhrHX"
      },
      "execution_count": null,
      "outputs": []
    },
    {
      "cell_type": "markdown",
      "source": [
        "**Instantiate transformers**"
      ],
      "metadata": {
        "id": "xvGP_UnuiKxC"
      }
    },
    {
      "cell_type": "code",
      "source": [
        "mean_imputer = SimpleImputer(strategy= 'mean')# To fill the missing values in \"body\" and \"acidity\". \n",
        "ohe_encoder = OneHotEncoder(sparse=False, handle_unknown='ignore')\n",
        "scaler = StandardScaler()"
      ],
      "metadata": {
        "id": "-3EfnuaviOWQ"
      },
      "execution_count": null,
      "outputs": []
    },
    {
      "cell_type": "markdown",
      "source": [
        "**Filling the missing values in \"type\" and \"year\" by using Fillna fuction**"
      ],
      "metadata": {
        "id": "h8F6gMHRid2_"
      }
    },
    {
      "cell_type": "code",
      "source": [
        "X_train[\"type\"].fillna('Unidentified', inplace=True)\n",
        "X_test[\"type\"].fillna('Unidentified', inplace=True)\n"
      ],
      "metadata": {
        "id": "2B9y27iSitS0"
      },
      "execution_count": null,
      "outputs": []
    },
    {
      "cell_type": "markdown",
      "source": [
        "**Create piplines**"
      ],
      "metadata": {
        "id": "TGgh547rnpqT"
      }
    },
    {
      "cell_type": "code",
      "source": [
        "num_pipe = make_pipeline(mean_imputer, scaler)"
      ],
      "metadata": {
        "id": "1A3mZJgXntcr"
      },
      "execution_count": null,
      "outputs": []
    },
    {
      "cell_type": "markdown",
      "source": [
        "**Create Tuples to Pair Pipelines with Columns**"
      ],
      "metadata": {
        "id": "QA2Wb31nn_Ht"
      }
    },
    {
      "cell_type": "code",
      "source": [
        "number_tuple = (num_pipe, num_selector)\n",
        "nom_tuple = (ohe_encoder, cat_selector)"
      ],
      "metadata": {
        "id": "9fVPogTjoESi"
      },
      "execution_count": null,
      "outputs": []
    },
    {
      "cell_type": "markdown",
      "source": [
        "**Instantiate the ColumnTransformer**"
      ],
      "metadata": {
        "id": "g6wITTzaojIF"
      }
    },
    {
      "cell_type": "code",
      "source": [
        "preprocessor = make_column_transformer(nom_tuple,  number_tuple,  remainder='drop')                                                                      "
      ],
      "metadata": {
        "id": "IJMaDH5-olU_"
      },
      "execution_count": null,
      "outputs": []
    },
    {
      "cell_type": "markdown",
      "source": [
        "# Try multiple models and tune the hyperparameters of the models to find out the best final model"
      ],
      "metadata": {
        "id": "QRLT6U-6pcbX"
      }
    },
    {
      "cell_type": "markdown",
      "source": [
        "Define a function that takes true and predicted values as arguments\n",
        "and prints all 4 metrics "
      ],
      "metadata": {
        "id": "TIr4jCDOrhrr"
      }
    },
    {
      "cell_type": "code",
      "source": [
        "def eval_regression(true, pred):\n",
        "  mae = mean_absolute_error(true, pred)\n",
        "  mse = mean_squared_error(true, pred)\n",
        "  rmse = np.sqrt(mse)\n",
        "  r2 = r2_score(true, pred)\n",
        "\n",
        "  print(f'MAE {mae},\\n MSE {mse},\\n RMSE: {rmse},\\n R^2: {r2} ')"
      ],
      "metadata": {
        "id": "iNz3PDzQp5oQ"
      },
      "execution_count": null,
      "outputs": []
    },
    {
      "cell_type": "markdown",
      "source": [
        "**Model 1: Baseline Model**"
      ],
      "metadata": {
        "id": "lH3cg1_GsdF6"
      }
    },
    {
      "cell_type": "code",
      "source": [
        "# instantiate a baseline model\n",
        "dummy_reg = DummyRegressor(strategy='mean')"
      ],
      "metadata": {
        "id": "Yc006v5Tr1Mz"
      },
      "execution_count": null,
      "outputs": []
    },
    {
      "cell_type": "code",
      "source": [
        "# create model pipeline\n",
        "base_pipe = make_pipeline(preprocessor, dummy_reg)\n",
        "\n",
        "base_pipe.fit(X_train, y_train)"
      ],
      "metadata": {
        "colab": {
          "base_uri": "https://localhost:8080/"
        },
        "id": "AIBh854HstQm",
        "outputId": "339a4d57-7a6f-4484-d622-8ea203cb0eb3"
      },
      "execution_count": null,
      "outputs": [
        {
          "output_type": "execute_result",
          "data": {
            "text/plain": [
              "Pipeline(steps=[('columntransformer',\n",
              "                 ColumnTransformer(transformers=[('onehotencoder',\n",
              "                                                  OneHotEncoder(handle_unknown='ignore',\n",
              "                                                                sparse=False),\n",
              "                                                  <sklearn.compose._column_transformer.make_column_selector object at 0x7f75a7b38f90>),\n",
              "                                                 ('pipeline',\n",
              "                                                  Pipeline(steps=[('simpleimputer',\n",
              "                                                                   SimpleImputer()),\n",
              "                                                                  ('standardscaler',\n",
              "                                                                   StandardScaler())]),\n",
              "                                                  <sklearn.compose._column_transformer.make_column_selector object at 0x7f75a7b38d10>)])),\n",
              "                ('dummyregressor', DummyRegressor())])"
            ]
          },
          "metadata": {},
          "execution_count": 32
        }
      ]
    },
    {
      "cell_type": "code",
      "source": [
        "# find MAE, MSE, RMSE and R2 on the baseline model for both the train and test data\n",
        "print('Train Evaluation')\n",
        "eval_regression(y_train, base_pipe.predict(X_train))\n",
        "\n",
        "print('\\nTest Evaluation')\n",
        "eval_regression(y_test, base_pipe.predict(X_test))"
      ],
      "metadata": {
        "colab": {
          "base_uri": "https://localhost:8080/"
        },
        "id": "rNh1LcnOs9V2",
        "outputId": "69ead381-fa65-4283-fd64-effdf0e8eb2a"
      },
      "execution_count": null,
      "outputs": [
        {
          "output_type": "stream",
          "name": "stdout",
          "text": [
            "Train Evaluation\n",
            "MAE 137.69530871565573,\n",
            " MSE 76623.99878410886,\n",
            " RMSE: 276.8104022324827,\n",
            " R^2: 0.0 \n",
            "\n",
            "Test Evaluation\n",
            "MAE 130.88599784008295,\n",
            " MSE 66428.8687280928,\n",
            " RMSE: 257.73798464349954,\n",
            " R^2: -0.00012888778872621742 \n"
          ]
        }
      ]
    },
    {
      "cell_type": "markdown",
      "source": [
        "**Model 2:Linear Regression Model**"
      ],
      "metadata": {
        "id": "YVZzFjLXtL1y"
      }
    },
    {
      "cell_type": "code",
      "source": [
        "# instantiate a linear regression model\n",
        "lin_reg = lin_reg = LinearRegression()"
      ],
      "metadata": {
        "id": "TIxaIa5LtS08"
      },
      "execution_count": null,
      "outputs": []
    },
    {
      "cell_type": "code",
      "source": [
        "# create model pipeline\n",
        "lin_reg_pipe = make_pipeline(preprocessor, lin_reg)\n",
        "lin_reg_pipe.fit(X_train, y_train);"
      ],
      "metadata": {
        "id": "SQyWiYiltsc-"
      },
      "execution_count": null,
      "outputs": []
    },
    {
      "cell_type": "code",
      "source": [
        "# find MAE, MSE, RMSE and R2 on the linear regression model for both the train and test data\n",
        "print('Train Evaluation')\n",
        "eval_regression(y_train, lin_reg_pipe.predict(X_train))\n",
        "\n",
        "print('\\nTest Evaluation')\n",
        "eval_regression(y_test, lin_reg_pipe.predict(X_test))"
      ],
      "metadata": {
        "colab": {
          "base_uri": "https://localhost:8080/"
        },
        "id": "NPuSQIGwuO8I",
        "outputId": "001fe0a7-6bdd-4e3c-899c-e4e64d906aad"
      },
      "execution_count": null,
      "outputs": [
        {
          "output_type": "stream",
          "name": "stdout",
          "text": [
            "Train Evaluation\n",
            "MAE 33.05563919671121,\n",
            " MSE 10228.88146741623,\n",
            " RMSE: 101.13793288087427,\n",
            " R^2: 0.8665055122451061 \n",
            "\n",
            "Test Evaluation\n",
            "MAE 873357503934.7001,\n",
            " MSE 5.833118263525715e+24,\n",
            " RMSE: 2415184933607.7173,\n",
            " R^2: -8.782130710548942e+19 \n"
          ]
        }
      ]
    },
    {
      "cell_type": "markdown",
      "source": [
        "**Model 3: DecisionTree Model**"
      ],
      "metadata": {
        "id": "tp1S8xdfukbz"
      }
    },
    {
      "cell_type": "code",
      "source": [
        "#use all of the default parameters, instantiate a decision tree model\n",
        "dec_tree = DecisionTreeRegressor(random_state = 42)"
      ],
      "metadata": {
        "id": "cRYOH2o-u7_c"
      },
      "execution_count": null,
      "outputs": []
    },
    {
      "cell_type": "code",
      "source": [
        "# create model pipeline\n",
        "dec_tree_pipe = make_pipeline(preprocessor, dec_tree)\n",
        "dec_tree_pipe.fit(X_train, y_train);"
      ],
      "metadata": {
        "id": "VQEfE_1txY-d"
      },
      "execution_count": null,
      "outputs": []
    },
    {
      "cell_type": "code",
      "source": [
        "# find MAE, MSE, RMSE and R2 on the decision tree model for both the train and test data\n",
        "print('Train Evaluation')\n",
        "eval_regression(y_train, dec_tree_pipe.predict(X_train))\n",
        "\n",
        "print('\\nTest Evaluation')\n",
        "eval_regression(y_test, dec_tree_pipe.predict(X_test))"
      ],
      "metadata": {
        "colab": {
          "base_uri": "https://localhost:8080/"
        },
        "id": "GjrX2XT2yP21",
        "outputId": "ee9c288e-a385-4cb8-de1d-9a894733e31e"
      },
      "execution_count": null,
      "outputs": [
        {
          "output_type": "stream",
          "name": "stdout",
          "text": [
            "Train Evaluation\n",
            "MAE 0.0,\n",
            " MSE 0.0,\n",
            " RMSE: 0.0,\n",
            " R^2: 1.0 \n",
            "\n",
            "Test Evaluation\n",
            "MAE 54.272085712460935,\n",
            " MSE 22855.24218196678,\n",
            " RMSE: 151.17950318071158,\n",
            " R^2: 0.6558997860229151 \n"
          ]
        }
      ]
    },
    {
      "cell_type": "markdown",
      "source": [
        "**Hypertune the Decisoin tree model**"
      ],
      "metadata": {
        "id": "7tQ_H427yl4R"
      }
    },
    {
      "cell_type": "code",
      "source": [
        "# find the hyperparameters to tune\n",
        "dec_tree_pipe.get_params()"
      ],
      "metadata": {
        "colab": {
          "base_uri": "https://localhost:8080/"
        },
        "id": "JmsuvMgEy9Gb",
        "outputId": "0cfc6a24-c700-4779-f1ee-9c6cdc83cfce"
      },
      "execution_count": null,
      "outputs": [
        {
          "output_type": "execute_result",
          "data": {
            "text/plain": [
              "{'memory': None,\n",
              " 'steps': [('columntransformer',\n",
              "   ColumnTransformer(transformers=[('onehotencoder',\n",
              "                                    OneHotEncoder(handle_unknown='ignore',\n",
              "                                                  sparse=False),\n",
              "                                    <sklearn.compose._column_transformer.make_column_selector object at 0x7f75a7b38f90>),\n",
              "                                   ('pipeline',\n",
              "                                    Pipeline(steps=[('simpleimputer',\n",
              "                                                     SimpleImputer()),\n",
              "                                                    ('standardscaler',\n",
              "                                                     StandardScaler())]),\n",
              "                                    <sklearn.compose._column_transformer.make_column_selector object at 0x7f75a7b38d10>)])),\n",
              "  ('decisiontreeregressor', DecisionTreeRegressor(random_state=42))],\n",
              " 'verbose': False,\n",
              " 'columntransformer': ColumnTransformer(transformers=[('onehotencoder',\n",
              "                                  OneHotEncoder(handle_unknown='ignore',\n",
              "                                                sparse=False),\n",
              "                                  <sklearn.compose._column_transformer.make_column_selector object at 0x7f75a7b38f90>),\n",
              "                                 ('pipeline',\n",
              "                                  Pipeline(steps=[('simpleimputer',\n",
              "                                                   SimpleImputer()),\n",
              "                                                  ('standardscaler',\n",
              "                                                   StandardScaler())]),\n",
              "                                  <sklearn.compose._column_transformer.make_column_selector object at 0x7f75a7b38d10>)]),\n",
              " 'decisiontreeregressor': DecisionTreeRegressor(random_state=42),\n",
              " 'columntransformer__n_jobs': None,\n",
              " 'columntransformer__remainder': 'drop',\n",
              " 'columntransformer__sparse_threshold': 0.3,\n",
              " 'columntransformer__transformer_weights': None,\n",
              " 'columntransformer__transformers': [('onehotencoder',\n",
              "   OneHotEncoder(handle_unknown='ignore', sparse=False),\n",
              "   <sklearn.compose._column_transformer.make_column_selector at 0x7f75a7b38f90>),\n",
              "  ('pipeline', Pipeline(steps=[('simpleimputer', SimpleImputer()),\n",
              "                   ('standardscaler', StandardScaler())]), <sklearn.compose._column_transformer.make_column_selector at 0x7f75a7b38d10>)],\n",
              " 'columntransformer__verbose': False,\n",
              " 'columntransformer__verbose_feature_names_out': True,\n",
              " 'columntransformer__onehotencoder': OneHotEncoder(handle_unknown='ignore', sparse=False),\n",
              " 'columntransformer__pipeline': Pipeline(steps=[('simpleimputer', SimpleImputer()),\n",
              "                 ('standardscaler', StandardScaler())]),\n",
              " 'columntransformer__onehotencoder__categories': 'auto',\n",
              " 'columntransformer__onehotencoder__drop': None,\n",
              " 'columntransformer__onehotencoder__dtype': numpy.float64,\n",
              " 'columntransformer__onehotencoder__handle_unknown': 'ignore',\n",
              " 'columntransformer__onehotencoder__sparse': False,\n",
              " 'columntransformer__pipeline__memory': None,\n",
              " 'columntransformer__pipeline__steps': [('simpleimputer', SimpleImputer()),\n",
              "  ('standardscaler', StandardScaler())],\n",
              " 'columntransformer__pipeline__verbose': False,\n",
              " 'columntransformer__pipeline__simpleimputer': SimpleImputer(),\n",
              " 'columntransformer__pipeline__standardscaler': StandardScaler(),\n",
              " 'columntransformer__pipeline__simpleimputer__add_indicator': False,\n",
              " 'columntransformer__pipeline__simpleimputer__copy': True,\n",
              " 'columntransformer__pipeline__simpleimputer__fill_value': None,\n",
              " 'columntransformer__pipeline__simpleimputer__missing_values': nan,\n",
              " 'columntransformer__pipeline__simpleimputer__strategy': 'mean',\n",
              " 'columntransformer__pipeline__simpleimputer__verbose': 0,\n",
              " 'columntransformer__pipeline__standardscaler__copy': True,\n",
              " 'columntransformer__pipeline__standardscaler__with_mean': True,\n",
              " 'columntransformer__pipeline__standardscaler__with_std': True,\n",
              " 'decisiontreeregressor__ccp_alpha': 0.0,\n",
              " 'decisiontreeregressor__criterion': 'squared_error',\n",
              " 'decisiontreeregressor__max_depth': None,\n",
              " 'decisiontreeregressor__max_features': None,\n",
              " 'decisiontreeregressor__max_leaf_nodes': None,\n",
              " 'decisiontreeregressor__min_impurity_decrease': 0.0,\n",
              " 'decisiontreeregressor__min_samples_leaf': 1,\n",
              " 'decisiontreeregressor__min_samples_split': 2,\n",
              " 'decisiontreeregressor__min_weight_fraction_leaf': 0.0,\n",
              " 'decisiontreeregressor__random_state': 42,\n",
              " 'decisiontreeregressor__splitter': 'best'}"
            ]
          },
          "metadata": {},
          "execution_count": 40
        }
      ]
    },
    {
      "cell_type": "code",
      "source": [
        "#choose the hyperparameters I want to tune\n",
        "dec_tree_params = {'decisiontreeregressor__max_depth' : range(3, 5, 10),\n",
        "                   'decisiontreeregressor__min_samples_leaf' : range(1, 8, 20),\n",
        "                   'decisiontreeregressor__min_samples_split' : range(2,3, 20)}"
      ],
      "metadata": {
        "id": "N0HKLxM2Ye3B"
      },
      "execution_count": null,
      "outputs": []
    },
    {
      "cell_type": "code",
      "source": [
        "dec_tree_gs = GridSearchCV(dec_tree_pipe, dec_tree_params)\n",
        "\n",
        "dec_tree_gs.fit(X_train, y_train)"
      ],
      "metadata": {
        "colab": {
          "base_uri": "https://localhost:8080/"
        },
        "id": "9EFXQxucczeh",
        "outputId": "068ac6e8-4163-474f-e727-2b3e36674817"
      },
      "execution_count": null,
      "outputs": [
        {
          "output_type": "execute_result",
          "data": {
            "text/plain": [
              "GridSearchCV(estimator=Pipeline(steps=[('columntransformer',\n",
              "                                        ColumnTransformer(transformers=[('onehotencoder',\n",
              "                                                                         OneHotEncoder(handle_unknown='ignore',\n",
              "                                                                                       sparse=False),\n",
              "                                                                         <sklearn.compose._column_transformer.make_column_selector object at 0x7f75a7b38f90>),\n",
              "                                                                        ('pipeline',\n",
              "                                                                         Pipeline(steps=[('simpleimputer',\n",
              "                                                                                          SimpleImputer()),\n",
              "                                                                                         ('standardscaler',\n",
              "                                                                                          StandardScaler())]),\n",
              "                                                                         <sklearn.compose._column_transformer.make_column_selector object at 0x7f75a7b38d10>)])),\n",
              "                                       ('decisiontreeregressor',\n",
              "                                        DecisionTreeRegressor(random_state=42))]),\n",
              "             param_grid={'decisiontreeregressor__max_depth': range(3, 5, 10),\n",
              "                         'decisiontreeregressor__min_samples_leaf': range(1, 8, 20),\n",
              "                         'decisiontreeregressor__min_samples_split': range(2, 3, 20)})"
            ]
          },
          "metadata": {},
          "execution_count": 44
        }
      ]
    },
    {
      "cell_type": "code",
      "source": [
        "dec_tree_gs.best_params_"
      ],
      "metadata": {
        "colab": {
          "base_uri": "https://localhost:8080/"
        },
        "id": "N2Wg18yrdOre",
        "outputId": "3d0649d7-eee3-49ef-f3b0-ba73e5857b39"
      },
      "execution_count": null,
      "outputs": [
        {
          "output_type": "execute_result",
          "data": {
            "text/plain": [
              "{'decisiontreeregressor__max_depth': 3,\n",
              " 'decisiontreeregressor__min_samples_leaf': 1,\n",
              " 'decisiontreeregressor__min_samples_split': 2}"
            ]
          },
          "metadata": {},
          "execution_count": 45
        }
      ]
    },
    {
      "cell_type": "code",
      "source": [
        "# find MAE, MSE, RMSE and R2 on the decision tree model with the best params for both the train and test data\n",
        "print('Train Evaluation')\n",
        "eval_regression(y_train, dec_tree_gs.predict(X_train))\n",
        "\n",
        "print('\\nTest Evaluation')\n",
        "eval_regression(y_test, dec_tree_gs.predict(X_test))"
      ],
      "metadata": {
        "colab": {
          "base_uri": "https://localhost:8080/"
        },
        "id": "0D-XnvHY14DS",
        "outputId": "95fe656a-10b7-4a9d-eea0-38932c3fae6f"
      },
      "execution_count": null,
      "outputs": [
        {
          "output_type": "stream",
          "name": "stdout",
          "text": [
            "Train Evaluation\n",
            "MAE 89.16279599446379,\n",
            " MSE 39354.72701122947,\n",
            " RMSE: 198.38025862275074,\n",
            " R^2: 0.48639163139850006 \n",
            "\n",
            "Test Evaluation\n",
            "MAE 82.79083574951059,\n",
            " MSE 25857.822234003077,\n",
            " RMSE: 160.80367605873653,\n",
            " R^2: 0.6106940327798267 \n"
          ]
        }
      ]
    },
    {
      "cell_type": "markdown",
      "source": [
        "**Model 4: Bagged Trees Model**"
      ],
      "metadata": {
        "id": "HTgPDTlo2sC2"
      }
    },
    {
      "cell_type": "code",
      "source": [
        "#use all of the default parameters, instantiate a bagged tree model\n",
        "bagreg = BaggingRegressor(random_state = 42)"
      ],
      "metadata": {
        "id": "VnYk5hQb2-J3"
      },
      "execution_count": null,
      "outputs": []
    },
    {
      "cell_type": "code",
      "source": [
        "# create model pipeline\n",
        "bagreg_pipe = make_pipeline(preprocessor, bagreg)\n",
        "bagreg_pipe.fit(X_train, y_train);"
      ],
      "metadata": {
        "id": "7QkViQ_T3kz3"
      },
      "execution_count": null,
      "outputs": []
    },
    {
      "cell_type": "code",
      "source": [
        "# find MAE, MSE, RMSE and R2 on the bagged tree model for both the train and test data\n",
        "print('Train Evaluation')\n",
        "eval_regression(y_train, bagreg_pipe.predict(X_train))\n",
        "\n",
        "print('\\nTest Evaluation')\n",
        "eval_regression(y_test, bagreg_pipe.predict(X_test))"
      ],
      "metadata": {
        "colab": {
          "base_uri": "https://localhost:8080/"
        },
        "id": "YedYWPNS37nC",
        "outputId": "d6596ca5-3185-4fb7-f78c-38d157813da5"
      },
      "execution_count": null,
      "outputs": [
        {
          "output_type": "stream",
          "name": "stdout",
          "text": [
            "Train Evaluation\n",
            "MAE 21.48688720370078,\n",
            " MSE 4904.944080022237,\n",
            " RMSE: 70.03530595365625,\n",
            " R^2: 0.9359868427926594 \n",
            "\n",
            "Test Evaluation\n",
            "MAE 49.50219003248633,\n",
            " MSE 18443.87556063448,\n",
            " RMSE: 135.8082308280116,\n",
            " R^2: 0.7223157174860919 \n"
          ]
        }
      ]
    },
    {
      "cell_type": "markdown",
      "source": [
        "**Hypertune the Bagged trees model**"
      ],
      "metadata": {
        "id": "bHjCUxKY4kxe"
      }
    },
    {
      "cell_type": "code",
      "source": [
        "bagreg_pipe.get_params()"
      ],
      "metadata": {
        "colab": {
          "base_uri": "https://localhost:8080/"
        },
        "id": "FFlYgkdsgeV_",
        "outputId": "8715b0d6-b431-4328-b66d-039099cdc4eb"
      },
      "execution_count": null,
      "outputs": [
        {
          "output_type": "execute_result",
          "data": {
            "text/plain": [
              "{'memory': None,\n",
              " 'steps': [('columntransformer',\n",
              "   ColumnTransformer(transformers=[('onehotencoder',\n",
              "                                    OneHotEncoder(handle_unknown='ignore',\n",
              "                                                  sparse=False),\n",
              "                                    <sklearn.compose._column_transformer.make_column_selector object at 0x7f75a7b38f90>),\n",
              "                                   ('pipeline',\n",
              "                                    Pipeline(steps=[('simpleimputer',\n",
              "                                                     SimpleImputer()),\n",
              "                                                    ('standardscaler',\n",
              "                                                     StandardScaler())]),\n",
              "                                    <sklearn.compose._column_transformer.make_column_selector object at 0x7f75a7b38d10>)])),\n",
              "  ('baggingregressor', BaggingRegressor(random_state=42))],\n",
              " 'verbose': False,\n",
              " 'columntransformer': ColumnTransformer(transformers=[('onehotencoder',\n",
              "                                  OneHotEncoder(handle_unknown='ignore',\n",
              "                                                sparse=False),\n",
              "                                  <sklearn.compose._column_transformer.make_column_selector object at 0x7f75a7b38f90>),\n",
              "                                 ('pipeline',\n",
              "                                  Pipeline(steps=[('simpleimputer',\n",
              "                                                   SimpleImputer()),\n",
              "                                                  ('standardscaler',\n",
              "                                                   StandardScaler())]),\n",
              "                                  <sklearn.compose._column_transformer.make_column_selector object at 0x7f75a7b38d10>)]),\n",
              " 'baggingregressor': BaggingRegressor(random_state=42),\n",
              " 'columntransformer__n_jobs': None,\n",
              " 'columntransformer__remainder': 'drop',\n",
              " 'columntransformer__sparse_threshold': 0.3,\n",
              " 'columntransformer__transformer_weights': None,\n",
              " 'columntransformer__transformers': [('onehotencoder',\n",
              "   OneHotEncoder(handle_unknown='ignore', sparse=False),\n",
              "   <sklearn.compose._column_transformer.make_column_selector at 0x7f75a7b38f90>),\n",
              "  ('pipeline', Pipeline(steps=[('simpleimputer', SimpleImputer()),\n",
              "                   ('standardscaler', StandardScaler())]), <sklearn.compose._column_transformer.make_column_selector at 0x7f75a7b38d10>)],\n",
              " 'columntransformer__verbose': False,\n",
              " 'columntransformer__verbose_feature_names_out': True,\n",
              " 'columntransformer__onehotencoder': OneHotEncoder(handle_unknown='ignore', sparse=False),\n",
              " 'columntransformer__pipeline': Pipeline(steps=[('simpleimputer', SimpleImputer()),\n",
              "                 ('standardscaler', StandardScaler())]),\n",
              " 'columntransformer__onehotencoder__categories': 'auto',\n",
              " 'columntransformer__onehotencoder__drop': None,\n",
              " 'columntransformer__onehotencoder__dtype': numpy.float64,\n",
              " 'columntransformer__onehotencoder__handle_unknown': 'ignore',\n",
              " 'columntransformer__onehotencoder__sparse': False,\n",
              " 'columntransformer__pipeline__memory': None,\n",
              " 'columntransformer__pipeline__steps': [('simpleimputer', SimpleImputer()),\n",
              "  ('standardscaler', StandardScaler())],\n",
              " 'columntransformer__pipeline__verbose': False,\n",
              " 'columntransformer__pipeline__simpleimputer': SimpleImputer(),\n",
              " 'columntransformer__pipeline__standardscaler': StandardScaler(),\n",
              " 'columntransformer__pipeline__simpleimputer__add_indicator': False,\n",
              " 'columntransformer__pipeline__simpleimputer__copy': True,\n",
              " 'columntransformer__pipeline__simpleimputer__fill_value': None,\n",
              " 'columntransformer__pipeline__simpleimputer__missing_values': nan,\n",
              " 'columntransformer__pipeline__simpleimputer__strategy': 'mean',\n",
              " 'columntransformer__pipeline__simpleimputer__verbose': 0,\n",
              " 'columntransformer__pipeline__standardscaler__copy': True,\n",
              " 'columntransformer__pipeline__standardscaler__with_mean': True,\n",
              " 'columntransformer__pipeline__standardscaler__with_std': True,\n",
              " 'baggingregressor__base_estimator': None,\n",
              " 'baggingregressor__bootstrap': True,\n",
              " 'baggingregressor__bootstrap_features': False,\n",
              " 'baggingregressor__max_features': 1.0,\n",
              " 'baggingregressor__max_samples': 1.0,\n",
              " 'baggingregressor__n_estimators': 10,\n",
              " 'baggingregressor__n_jobs': None,\n",
              " 'baggingregressor__oob_score': False,\n",
              " 'baggingregressor__random_state': 42,\n",
              " 'baggingregressor__verbose': 0,\n",
              " 'baggingregressor__warm_start': False}"
            ]
          },
          "metadata": {},
          "execution_count": 54
        }
      ]
    },
    {
      "cell_type": "code",
      "source": [
        "#choose the hyperparameters I want to tune\n",
        "bagreg_params = {'baggingregressor__max_samples' : [30, 40, 60, 100],\n",
        "                 'baggingregressor__n_estimators' : [100, 120, 150, 200]}"
      ],
      "metadata": {
        "id": "5-8upgOckWm5"
      },
      "execution_count": null,
      "outputs": []
    },
    {
      "cell_type": "code",
      "source": [
        "bagreg_gs = GridSearchCV(bagreg_pipe, bagreg_params)\n",
        "\n",
        "bagreg_gs.fit(X_train, y_train)"
      ],
      "metadata": {
        "colab": {
          "base_uri": "https://localhost:8080/"
        },
        "id": "yjfAwUrulyOS",
        "outputId": "bb67dab2-6872-4ac1-9c73-28c9e998f316"
      },
      "execution_count": null,
      "outputs": [
        {
          "output_type": "execute_result",
          "data": {
            "text/plain": [
              "GridSearchCV(estimator=Pipeline(steps=[('columntransformer',\n",
              "                                        ColumnTransformer(transformers=[('onehotencoder',\n",
              "                                                                         OneHotEncoder(handle_unknown='ignore',\n",
              "                                                                                       sparse=False),\n",
              "                                                                         <sklearn.compose._column_transformer.make_column_selector object at 0x7f75a7b38f90>),\n",
              "                                                                        ('pipeline',\n",
              "                                                                         Pipeline(steps=[('simpleimputer',\n",
              "                                                                                          SimpleImputer()),\n",
              "                                                                                         ('standardscaler',\n",
              "                                                                                          StandardScaler())]),\n",
              "                                                                         <sklearn.compose._column_transformer.make_column_selector object at 0x7f75a7b38d10>)])),\n",
              "                                       ('baggingregressor',\n",
              "                                        BaggingRegressor(random_state=42))]),\n",
              "             param_grid={'baggingregressor__max_samples': [30, 40, 60, 100],\n",
              "                         'baggingregressor__n_estimators': [100, 120, 150,\n",
              "                                                            200]})"
            ]
          },
          "metadata": {},
          "execution_count": 67
        }
      ]
    },
    {
      "cell_type": "code",
      "source": [
        "bagreg_gs.best_params_"
      ],
      "metadata": {
        "colab": {
          "base_uri": "https://localhost:8080/"
        },
        "id": "oB2BuS80mNIc",
        "outputId": "940138b3-380d-45d4-edb5-9c312342c537"
      },
      "execution_count": null,
      "outputs": [
        {
          "output_type": "execute_result",
          "data": {
            "text/plain": [
              "{'baggingregressor__max_samples': 100, 'baggingregressor__n_estimators': 100}"
            ]
          },
          "metadata": {},
          "execution_count": 68
        }
      ]
    },
    {
      "cell_type": "code",
      "source": [
        "# find MAE, MSE, RMSE and R2 on the best_bag_model for both the train and test data\n",
        "print('Train Evaluation')\n",
        "eval_regression(y_train, bagreg_gs.predict(X_train))\n",
        "\n",
        "print('\\nTest Evaluation')\n",
        "eval_regression(y_test, bagreg_gs.predict(X_test))"
      ],
      "metadata": {
        "colab": {
          "base_uri": "https://localhost:8080/"
        },
        "id": "uc4Wi6vF75Xb",
        "outputId": "9e76c484-30cf-417c-9088-ed67553c8fb2"
      },
      "execution_count": null,
      "outputs": [
        {
          "output_type": "stream",
          "name": "stdout",
          "text": [
            "Train Evaluation\n",
            "MAE 66.89217141284055,\n",
            " MSE 34529.64291862124,\n",
            " RMSE: 185.82153513148373,\n",
            " R^2: 0.5493625565547698 \n",
            "\n",
            "Test Evaluation\n",
            "MAE 64.31877307689551,\n",
            " MSE 29734.895687058503,\n",
            " RMSE: 172.43809233188153,\n",
            " R^2: 0.5523222249390032 \n"
          ]
        }
      ]
    },
    {
      "cell_type": "markdown",
      "source": [
        "**Model 5: Random Forest Model**"
      ],
      "metadata": {
        "id": "XaXe1dMC_rHO"
      }
    },
    {
      "cell_type": "code",
      "source": [
        "#use all of the default parameters, instantiate a random forest model\n",
        "rf = RandomForestRegressor(random_state = 42)"
      ],
      "metadata": {
        "id": "HXgW1ul3_14f"
      },
      "execution_count": null,
      "outputs": []
    },
    {
      "cell_type": "code",
      "source": [
        "# create model pipeline\n",
        "rf_pipe = make_pipeline(preprocessor, rf)\n",
        "rf_pipe.fit(X_train, y_train);"
      ],
      "metadata": {
        "id": "94OwxmweAK1l"
      },
      "execution_count": null,
      "outputs": []
    },
    {
      "cell_type": "code",
      "source": [
        "# find MAE, MSE, RMSE and R2 on the random forest model for both the train and test data\n",
        "print('Train Evaluation')\n",
        "eval_regression(y_train, rf_pipe.predict(X_train))\n",
        "\n",
        "print('\\nTest Evaluation')\n",
        "eval_regression(y_test, rf_pipe.predict(X_test))"
      ],
      "metadata": {
        "colab": {
          "base_uri": "https://localhost:8080/"
        },
        "id": "x1IGf6xTAWF4",
        "outputId": "9116c8f2-4a8e-48fa-d3b7-d37078e3eda5"
      },
      "execution_count": null,
      "outputs": [
        {
          "output_type": "stream",
          "name": "stdout",
          "text": [
            "Train Evaluation\n",
            "MAE 20.340255363093096,\n",
            " MSE 3833.5939483834745,\n",
            " RMSE: 61.916023357314174,\n",
            " R^2: 0.9499687564050947 \n",
            "\n",
            "Test Evaluation\n",
            "MAE 45.4659751828209,\n",
            " MSE 14942.792167342574,\n",
            " RMSE: 122.24071403318362,\n",
            " R^2: 0.7750267557324473 \n"
          ]
        }
      ]
    },
    {
      "cell_type": "markdown",
      "source": [
        "**Hypertune the Random Forest Model**"
      ],
      "metadata": {
        "id": "eFbx15WCA1th"
      }
    },
    {
      "cell_type": "code",
      "source": [
        "# find the hyperparameters to tune\n",
        "rf_pipe.get_params()"
      ],
      "metadata": {
        "colab": {
          "base_uri": "https://localhost:8080/"
        },
        "id": "hbZ4Uyv8p5jS",
        "outputId": "6b1aae41-5009-431e-8c61-2ada24d0ec14"
      },
      "execution_count": null,
      "outputs": [
        {
          "output_type": "execute_result",
          "data": {
            "text/plain": [
              "{'memory': None,\n",
              " 'steps': [('columntransformer',\n",
              "   ColumnTransformer(transformers=[('onehotencoder',\n",
              "                                    OneHotEncoder(handle_unknown='ignore',\n",
              "                                                  sparse=False),\n",
              "                                    <sklearn.compose._column_transformer.make_column_selector object at 0x7f75a7b38f90>),\n",
              "                                   ('pipeline',\n",
              "                                    Pipeline(steps=[('simpleimputer',\n",
              "                                                     SimpleImputer()),\n",
              "                                                    ('standardscaler',\n",
              "                                                     StandardScaler())]),\n",
              "                                    <sklearn.compose._column_transformer.make_column_selector object at 0x7f75a7b38d10>)])),\n",
              "  ('randomforestregressor', RandomForestRegressor(random_state=42))],\n",
              " 'verbose': False,\n",
              " 'columntransformer': ColumnTransformer(transformers=[('onehotencoder',\n",
              "                                  OneHotEncoder(handle_unknown='ignore',\n",
              "                                                sparse=False),\n",
              "                                  <sklearn.compose._column_transformer.make_column_selector object at 0x7f75a7b38f90>),\n",
              "                                 ('pipeline',\n",
              "                                  Pipeline(steps=[('simpleimputer',\n",
              "                                                   SimpleImputer()),\n",
              "                                                  ('standardscaler',\n",
              "                                                   StandardScaler())]),\n",
              "                                  <sklearn.compose._column_transformer.make_column_selector object at 0x7f75a7b38d10>)]),\n",
              " 'randomforestregressor': RandomForestRegressor(random_state=42),\n",
              " 'columntransformer__n_jobs': None,\n",
              " 'columntransformer__remainder': 'drop',\n",
              " 'columntransformer__sparse_threshold': 0.3,\n",
              " 'columntransformer__transformer_weights': None,\n",
              " 'columntransformer__transformers': [('onehotencoder',\n",
              "   OneHotEncoder(handle_unknown='ignore', sparse=False),\n",
              "   <sklearn.compose._column_transformer.make_column_selector at 0x7f75a7b38f90>),\n",
              "  ('pipeline', Pipeline(steps=[('simpleimputer', SimpleImputer()),\n",
              "                   ('standardscaler', StandardScaler())]), <sklearn.compose._column_transformer.make_column_selector at 0x7f75a7b38d10>)],\n",
              " 'columntransformer__verbose': False,\n",
              " 'columntransformer__verbose_feature_names_out': True,\n",
              " 'columntransformer__onehotencoder': OneHotEncoder(handle_unknown='ignore', sparse=False),\n",
              " 'columntransformer__pipeline': Pipeline(steps=[('simpleimputer', SimpleImputer()),\n",
              "                 ('standardscaler', StandardScaler())]),\n",
              " 'columntransformer__onehotencoder__categories': 'auto',\n",
              " 'columntransformer__onehotencoder__drop': None,\n",
              " 'columntransformer__onehotencoder__dtype': numpy.float64,\n",
              " 'columntransformer__onehotencoder__handle_unknown': 'ignore',\n",
              " 'columntransformer__onehotencoder__sparse': False,\n",
              " 'columntransformer__pipeline__memory': None,\n",
              " 'columntransformer__pipeline__steps': [('simpleimputer', SimpleImputer()),\n",
              "  ('standardscaler', StandardScaler())],\n",
              " 'columntransformer__pipeline__verbose': False,\n",
              " 'columntransformer__pipeline__simpleimputer': SimpleImputer(),\n",
              " 'columntransformer__pipeline__standardscaler': StandardScaler(),\n",
              " 'columntransformer__pipeline__simpleimputer__add_indicator': False,\n",
              " 'columntransformer__pipeline__simpleimputer__copy': True,\n",
              " 'columntransformer__pipeline__simpleimputer__fill_value': None,\n",
              " 'columntransformer__pipeline__simpleimputer__missing_values': nan,\n",
              " 'columntransformer__pipeline__simpleimputer__strategy': 'mean',\n",
              " 'columntransformer__pipeline__simpleimputer__verbose': 0,\n",
              " 'columntransformer__pipeline__standardscaler__copy': True,\n",
              " 'columntransformer__pipeline__standardscaler__with_mean': True,\n",
              " 'columntransformer__pipeline__standardscaler__with_std': True,\n",
              " 'randomforestregressor__bootstrap': True,\n",
              " 'randomforestregressor__ccp_alpha': 0.0,\n",
              " 'randomforestregressor__criterion': 'squared_error',\n",
              " 'randomforestregressor__max_depth': None,\n",
              " 'randomforestregressor__max_features': 'auto',\n",
              " 'randomforestregressor__max_leaf_nodes': None,\n",
              " 'randomforestregressor__max_samples': None,\n",
              " 'randomforestregressor__min_impurity_decrease': 0.0,\n",
              " 'randomforestregressor__min_samples_leaf': 1,\n",
              " 'randomforestregressor__min_samples_split': 2,\n",
              " 'randomforestregressor__min_weight_fraction_leaf': 0.0,\n",
              " 'randomforestregressor__n_estimators': 100,\n",
              " 'randomforestregressor__n_jobs': None,\n",
              " 'randomforestregressor__oob_score': False,\n",
              " 'randomforestregressor__random_state': 42,\n",
              " 'randomforestregressor__verbose': 0,\n",
              " 'randomforestregressor__warm_start': False}"
            ]
          },
          "metadata": {},
          "execution_count": 74
        }
      ]
    },
    {
      "cell_type": "code",
      "source": [
        "#choose the hyperparameters I want to tune\n",
        "rf_params = {'randomforestregressor__max_depth' : [18, 25, 30],\n",
        "             'randomforestregressor__min_samples_leaf' : [1, 3, 10],\n",
        "             'randomforestregressor__n_estimators' : [10, 20, 30]}"
      ],
      "metadata": {
        "id": "U-iMgEvdqhNY"
      },
      "execution_count": null,
      "outputs": []
    },
    {
      "cell_type": "code",
      "source": [
        "rf_gs = GridSearchCV(rf_pipe, rf_params)"
      ],
      "metadata": {
        "id": "nITBJbvXsIgl"
      },
      "execution_count": null,
      "outputs": []
    },
    {
      "cell_type": "code",
      "source": [
        "rf_gs.fit(X_train, y_train)"
      ],
      "metadata": {
        "colab": {
          "base_uri": "https://localhost:8080/"
        },
        "id": "wSaUX5gTzXGU",
        "outputId": "a4fad055-63ed-4973-ea1a-b41fb5c4fb81"
      },
      "execution_count": null,
      "outputs": [
        {
          "output_type": "execute_result",
          "data": {
            "text/plain": [
              "GridSearchCV(estimator=Pipeline(steps=[('columntransformer',\n",
              "                                        ColumnTransformer(transformers=[('onehotencoder',\n",
              "                                                                         OneHotEncoder(handle_unknown='ignore',\n",
              "                                                                                       sparse=False),\n",
              "                                                                         <sklearn.compose._column_transformer.make_column_selector object at 0x7f75a7b38f90>),\n",
              "                                                                        ('pipeline',\n",
              "                                                                         Pipeline(steps=[('simpleimputer',\n",
              "                                                                                          SimpleImputer()),\n",
              "                                                                                         ('standardscaler',\n",
              "                                                                                          StandardScaler())]),\n",
              "                                                                         <sklearn.compose._column_transformer.make_column_selector object at 0x7f75a7b38d10>)])),\n",
              "                                       ('randomforestregressor',\n",
              "                                        RandomForestRegressor(random_state=42))]),\n",
              "             param_grid={'randomforestregressor__max_depth': [18, 25, 30],\n",
              "                         'randomforestregressor__min_samples_leaf': [1, 3, 10],\n",
              "                         'randomforestregressor__n_estimators': [10, 20, 30]})"
            ]
          },
          "metadata": {},
          "execution_count": 90
        }
      ]
    },
    {
      "cell_type": "code",
      "source": [
        "rf_gs.best_params_"
      ],
      "metadata": {
        "colab": {
          "base_uri": "https://localhost:8080/"
        },
        "id": "ln10FR6MuYrN",
        "outputId": "e9e11ba5-582e-419a-86ac-b77fe44f23aa"
      },
      "execution_count": null,
      "outputs": [
        {
          "output_type": "execute_result",
          "data": {
            "text/plain": [
              "{'randomforestregressor__max_depth': 25,\n",
              " 'randomforestregressor__min_samples_leaf': 1,\n",
              " 'randomforestregressor__n_estimators': 30}"
            ]
          },
          "metadata": {},
          "execution_count": 91
        }
      ]
    },
    {
      "cell_type": "code",
      "source": [
        "# find MAE, MSE, RMSE and R2 on the random forest model for both the train and test data\n",
        "print('Train Evaluation')\n",
        "eval_regression(y_train, rf_gs.predict(X_train))\n",
        "\n",
        "print('\\nTest Evaluation')\n",
        "eval_regression(y_test, rf_gs.predict(X_test))"
      ],
      "metadata": {
        "colab": {
          "base_uri": "https://localhost:8080/"
        },
        "id": "5FwZOeZPI1Nl",
        "outputId": "54161ee1-e05f-4d9c-c145-f0c9f8291a3a"
      },
      "execution_count": null,
      "outputs": [
        {
          "output_type": "stream",
          "name": "stdout",
          "text": [
            "Train Evaluation\n",
            "MAE 30.952580627255266,\n",
            " MSE 4857.569990200602,\n",
            " RMSE: 69.69626955727689,\n",
            " R^2: 0.9366051097922076 \n",
            "\n",
            "Test Evaluation\n",
            "MAE 48.916191776952076,\n",
            " MSE 16394.63952183596,\n",
            " RMSE: 128.0415538871501,\n",
            " R^2: 0.7531682699913764 \n"
          ]
        }
      ]
    },
    {
      "cell_type": "markdown",
      "source": [
        "**Model 6: K-Nearest Neighbors model**"
      ],
      "metadata": {
        "id": "I16QijzEAEC2"
      }
    },
    {
      "cell_type": "code",
      "source": [
        "#use all of the default parameters, instantiate a kNN model\n",
        "knn = KNeighborsRegressor()"
      ],
      "metadata": {
        "id": "CmM-YmE-AW2q"
      },
      "execution_count": null,
      "outputs": []
    },
    {
      "cell_type": "code",
      "source": [
        "# create model pipeline\n",
        "knn_pipe = make_pipeline(preprocessor, knn)\n",
        "knn_pipe.fit(X_train, y_train);"
      ],
      "metadata": {
        "id": "qeTUcMxLBNFz"
      },
      "execution_count": null,
      "outputs": []
    },
    {
      "cell_type": "code",
      "source": [
        "# find MAE, MSE, RMSE and R2 on the knn model for both the train and test data\n",
        "print('Train Evaluation')\n",
        "eval_regression(y_train, knn_pipe.predict(X_train))\n",
        "\n",
        "print('\\nTest Evaluation')\n",
        "eval_regression(y_test, knn_pipe.predict(X_test))"
      ],
      "metadata": {
        "colab": {
          "base_uri": "https://localhost:8080/"
        },
        "id": "twQgLaFUBYOB",
        "outputId": "63361a63-0e88-4c24-b9b8-8dba3735ff83"
      },
      "execution_count": null,
      "outputs": [
        {
          "output_type": "stream",
          "name": "stdout",
          "text": [
            "Train Evaluation\n",
            "MAE 50.49896298717992,\n",
            " MSE 17438.885271805473,\n",
            " RMSE: 132.05637156837784,\n",
            " R^2: 0.7724096164578904 \n",
            "\n",
            "Test Evaluation\n",
            "MAE 53.67091132513281,\n",
            " MSE 13646.457914182427,\n",
            " RMSE: 116.81805474404385,\n",
            " R^2: 0.7945438927790276 \n"
          ]
        }
      ]
    },
    {
      "cell_type": "markdown",
      "source": [
        "**Hypertune the KNN model**"
      ],
      "metadata": {
        "id": "Y7Etq5i2Brej"
      }
    },
    {
      "cell_type": "code",
      "source": [
        "# find the hyperparameters to tune\n",
        "knn_pipe.get_params()"
      ],
      "metadata": {
        "colab": {
          "base_uri": "https://localhost:8080/"
        },
        "id": "EHbyWnwiBmuE",
        "outputId": "26907725-44aa-4b6a-b8b7-63aba45b24f8"
      },
      "execution_count": null,
      "outputs": [
        {
          "output_type": "execute_result",
          "data": {
            "text/plain": [
              "{'memory': None,\n",
              " 'steps': [('columntransformer',\n",
              "   ColumnTransformer(transformers=[('onehotencoder',\n",
              "                                    OneHotEncoder(handle_unknown='ignore',\n",
              "                                                  sparse=False),\n",
              "                                    <sklearn.compose._column_transformer.make_column_selector object at 0x7f75a7b38f90>),\n",
              "                                   ('pipeline',\n",
              "                                    Pipeline(steps=[('simpleimputer',\n",
              "                                                     SimpleImputer()),\n",
              "                                                    ('standardscaler',\n",
              "                                                     StandardScaler())]),\n",
              "                                    <sklearn.compose._column_transformer.make_column_selector object at 0x7f75a7b38d10>)])),\n",
              "  ('kneighborsregressor', KNeighborsRegressor())],\n",
              " 'verbose': False,\n",
              " 'columntransformer': ColumnTransformer(transformers=[('onehotencoder',\n",
              "                                  OneHotEncoder(handle_unknown='ignore',\n",
              "                                                sparse=False),\n",
              "                                  <sklearn.compose._column_transformer.make_column_selector object at 0x7f75a7b38f90>),\n",
              "                                 ('pipeline',\n",
              "                                  Pipeline(steps=[('simpleimputer',\n",
              "                                                   SimpleImputer()),\n",
              "                                                  ('standardscaler',\n",
              "                                                   StandardScaler())]),\n",
              "                                  <sklearn.compose._column_transformer.make_column_selector object at 0x7f75a7b38d10>)]),\n",
              " 'kneighborsregressor': KNeighborsRegressor(),\n",
              " 'columntransformer__n_jobs': None,\n",
              " 'columntransformer__remainder': 'drop',\n",
              " 'columntransformer__sparse_threshold': 0.3,\n",
              " 'columntransformer__transformer_weights': None,\n",
              " 'columntransformer__transformers': [('onehotencoder',\n",
              "   OneHotEncoder(handle_unknown='ignore', sparse=False),\n",
              "   <sklearn.compose._column_transformer.make_column_selector at 0x7f75a7b38f90>),\n",
              "  ('pipeline', Pipeline(steps=[('simpleimputer', SimpleImputer()),\n",
              "                   ('standardscaler', StandardScaler())]), <sklearn.compose._column_transformer.make_column_selector at 0x7f75a7b38d10>)],\n",
              " 'columntransformer__verbose': False,\n",
              " 'columntransformer__verbose_feature_names_out': True,\n",
              " 'columntransformer__onehotencoder': OneHotEncoder(handle_unknown='ignore', sparse=False),\n",
              " 'columntransformer__pipeline': Pipeline(steps=[('simpleimputer', SimpleImputer()),\n",
              "                 ('standardscaler', StandardScaler())]),\n",
              " 'columntransformer__onehotencoder__categories': 'auto',\n",
              " 'columntransformer__onehotencoder__drop': None,\n",
              " 'columntransformer__onehotencoder__dtype': numpy.float64,\n",
              " 'columntransformer__onehotencoder__handle_unknown': 'ignore',\n",
              " 'columntransformer__onehotencoder__sparse': False,\n",
              " 'columntransformer__pipeline__memory': None,\n",
              " 'columntransformer__pipeline__steps': [('simpleimputer', SimpleImputer()),\n",
              "  ('standardscaler', StandardScaler())],\n",
              " 'columntransformer__pipeline__verbose': False,\n",
              " 'columntransformer__pipeline__simpleimputer': SimpleImputer(),\n",
              " 'columntransformer__pipeline__standardscaler': StandardScaler(),\n",
              " 'columntransformer__pipeline__simpleimputer__add_indicator': False,\n",
              " 'columntransformer__pipeline__simpleimputer__copy': True,\n",
              " 'columntransformer__pipeline__simpleimputer__fill_value': None,\n",
              " 'columntransformer__pipeline__simpleimputer__missing_values': nan,\n",
              " 'columntransformer__pipeline__simpleimputer__strategy': 'mean',\n",
              " 'columntransformer__pipeline__simpleimputer__verbose': 0,\n",
              " 'columntransformer__pipeline__standardscaler__copy': True,\n",
              " 'columntransformer__pipeline__standardscaler__with_mean': True,\n",
              " 'columntransformer__pipeline__standardscaler__with_std': True,\n",
              " 'kneighborsregressor__algorithm': 'auto',\n",
              " 'kneighborsregressor__leaf_size': 30,\n",
              " 'kneighborsregressor__metric': 'minkowski',\n",
              " 'kneighborsregressor__metric_params': None,\n",
              " 'kneighborsregressor__n_jobs': None,\n",
              " 'kneighborsregressor__n_neighbors': 5,\n",
              " 'kneighborsregressor__p': 2,\n",
              " 'kneighborsregressor__weights': 'uniform'}"
            ]
          },
          "metadata": {},
          "execution_count": 97
        }
      ]
    },
    {
      "cell_type": "code",
      "source": [
        "#choose the hyperparameters I want to tune\n",
        "knn_params = {'kneighborsregressor__n_neighbors' : [5, 7, 9, 11],\n",
        "              'kneighborsregressor__leaf_size' : [30, 35, 40]}"
      ],
      "metadata": {
        "id": "CO6QB8YPCA-x"
      },
      "execution_count": null,
      "outputs": []
    },
    {
      "cell_type": "code",
      "source": [
        "knn_gs = GridSearchCV(knn_pipe, knn_params)\n",
        "knn_gs.fit(X_train, y_train)"
      ],
      "metadata": {
        "colab": {
          "base_uri": "https://localhost:8080/"
        },
        "id": "tQuHnp42CgfB",
        "outputId": "8c2dff65-9488-46cf-e553-59a5995de22b"
      },
      "execution_count": null,
      "outputs": [
        {
          "output_type": "execute_result",
          "data": {
            "text/plain": [
              "GridSearchCV(estimator=Pipeline(steps=[('columntransformer',\n",
              "                                        ColumnTransformer(transformers=[('onehotencoder',\n",
              "                                                                         OneHotEncoder(handle_unknown='ignore',\n",
              "                                                                                       sparse=False),\n",
              "                                                                         <sklearn.compose._column_transformer.make_column_selector object at 0x7f75a7b38f90>),\n",
              "                                                                        ('pipeline',\n",
              "                                                                         Pipeline(steps=[('simpleimputer',\n",
              "                                                                                          SimpleImputer()),\n",
              "                                                                                         ('standardscaler',\n",
              "                                                                                          StandardScaler())]),\n",
              "                                                                         <sklearn.compose._column_transformer.make_column_selector object at 0x7f75a7b38d10>)])),\n",
              "                                       ('kneighborsregressor',\n",
              "                                        KNeighborsRegressor())]),\n",
              "             param_grid={'kneighborsregressor__leaf_size': [30, 35, 40],\n",
              "                         'kneighborsregressor__n_neighbors': [5, 7, 9, 11]})"
            ]
          },
          "metadata": {},
          "execution_count": 99
        }
      ]
    },
    {
      "cell_type": "code",
      "source": [
        "knn_gs.best_params_"
      ],
      "metadata": {
        "colab": {
          "base_uri": "https://localhost:8080/"
        },
        "id": "4g1NLGHEC025",
        "outputId": "368a1eed-f325-4434-b7c9-50da84ac15a4"
      },
      "execution_count": null,
      "outputs": [
        {
          "output_type": "execute_result",
          "data": {
            "text/plain": [
              "{'kneighborsregressor__leaf_size': 30, 'kneighborsregressor__n_neighbors': 5}"
            ]
          },
          "metadata": {},
          "execution_count": 103
        }
      ]
    },
    {
      "cell_type": "markdown",
      "source": [
        "I found that the best hyperparameters are the default hyperparameters."
      ],
      "metadata": {
        "id": "Zz3hC5zbE06k"
      }
    },
    {
      "cell_type": "code",
      "source": [
        "# find MAE, MSE, RMSE and R2 on the kNN model for both the train and test data\n",
        "print('Train Evaluation')\n",
        "eval_regression(y_train, knn_gs.predict(X_train))\n",
        "\n",
        "print('\\nTest Evaluation')\n",
        "eval_regression(y_test, knn_gs.predict(X_test))"
      ],
      "metadata": {
        "colab": {
          "base_uri": "https://localhost:8080/"
        },
        "id": "k8cgFTsNDBsr",
        "outputId": "e51c4789-8395-456b-8cf8-f6ee15a90c4d"
      },
      "execution_count": null,
      "outputs": [
        {
          "output_type": "stream",
          "name": "stdout",
          "text": [
            "Train Evaluation\n",
            "MAE 50.49896298717992,\n",
            " MSE 17438.885271805473,\n",
            " RMSE: 132.05637156837784,\n",
            " R^2: 0.7724096164578904 \n",
            "\n",
            "Test Evaluation\n",
            "MAE 53.67091132513281,\n",
            " MSE 13646.457914182427,\n",
            " RMSE: 116.81805474404385,\n",
            " R^2: 0.7945438927790276 \n"
          ]
        }
      ]
    },
    {
      "cell_type": "markdown",
      "source": [
        "**Summary**\n",
        "\n",
        "\n",
        "*   After trying all the models and hyperparameters tested. I can tell that the best final model is the KNN model. It had the highest R2 score which means it explained the highest amount of variance in the data. It also had the lowest RMSE score which means there was, on average, less error in the predictions with this model. \n",
        "\n",
        "\n",
        "*   The hypertuned KNN model had a leaf_size of 30, and the n_neighbors of 5\n",
        "\n",
        "\n",
        "\n",
        "\n",
        "\n"
      ],
      "metadata": {
        "id": "QfXjqqIvJia5"
      }
    },
    {
      "cell_type": "markdown",
      "source": [
        "**Perform PCA on the final best model I just created.**"
      ],
      "metadata": {
        "id": "wz_Az5RmK3s8"
      }
    },
    {
      "cell_type": "code",
      "source": [
        "#I want the number of Principal Components that will retain 95% of the variance in the original features\n",
        "pca = PCA(n_components = .95)"
      ],
      "metadata": {
        "id": "NOOPuXccLjo0"
      },
      "execution_count": null,
      "outputs": []
    },
    {
      "cell_type": "code",
      "source": [
        "#create a pipeline with the preprocessor and the pca together\n",
        "pca_pipe = make_pipeline(preprocessor, pca)"
      ],
      "metadata": {
        "id": "gGLa-zHQTtQV"
      },
      "execution_count": null,
      "outputs": []
    },
    {
      "cell_type": "code",
      "source": [
        "#create anthother pipeline with the pca_pipe and rf_54_80 model together\n",
        "knn_pca_pipe = make_pipeline(pca_pipe, knn)"
      ],
      "metadata": {
        "id": "8g4ab_F6UKiz"
      },
      "execution_count": null,
      "outputs": []
    },
    {
      "cell_type": "code",
      "source": [
        "#fit the pipeline\n",
        "knn_pca_pipe.fit(X_train, y_train)"
      ],
      "metadata": {
        "colab": {
          "base_uri": "https://localhost:8080/"
        },
        "id": "0SV-qysIUxoV",
        "outputId": "8023febe-34f2-4581-ae8e-d3aa9b6683fb"
      },
      "execution_count": null,
      "outputs": [
        {
          "output_type": "execute_result",
          "data": {
            "text/plain": [
              "Pipeline(steps=[('pipeline',\n",
              "                 Pipeline(steps=[('columntransformer',\n",
              "                                  ColumnTransformer(transformers=[('onehotencoder',\n",
              "                                                                   OneHotEncoder(handle_unknown='ignore',\n",
              "                                                                                 sparse=False),\n",
              "                                                                   <sklearn.compose._column_transformer.make_column_selector object at 0x7f758d2aba90>),\n",
              "                                                                  ('pipeline',\n",
              "                                                                   Pipeline(steps=[('simpleimputer',\n",
              "                                                                                    SimpleImputer()),\n",
              "                                                                                   ('standardscaler',\n",
              "                                                                                    StandardScaler())]),\n",
              "                                                                   <sklearn.compose._column_transformer.make_column_selector object at 0x7f758d2ab150>)])),\n",
              "                                 ('pca', PCA(n_components=0.95))])),\n",
              "                ('kneighborsregressor', KNeighborsRegressor())])"
            ]
          },
          "metadata": {},
          "execution_count": 149
        }
      ]
    },
    {
      "cell_type": "code",
      "source": [
        "# find MAE, MSE, RMSE and R2 on the random forest model when the max_depth = 54 and n_estimator = 80 with the PCA for both the train and test data\n",
        "print('Train Evaluation')\n",
        "eval_regression(y_train, knn_pca_pipe.predict(X_train))\n",
        "\n",
        "print('\\nTest Evaluation')\n",
        "eval_regression(y_test, knn_pca_pipe.predict(X_test))"
      ],
      "metadata": {
        "colab": {
          "base_uri": "https://localhost:8080/"
        },
        "id": "F9Q6X4LfWOaB",
        "outputId": "dddf11bc-e248-4374-ab40-9a8669185425"
      },
      "execution_count": null,
      "outputs": [
        {
          "output_type": "stream",
          "name": "stdout",
          "text": [
            "Train Evaluation\n",
            "MAE 48.75582528232464,\n",
            " MSE 17773.54613367993,\n",
            " RMSE: 133.31746372354948,\n",
            " R^2: 0.7680420440630148 \n",
            "\n",
            "Test Evaluation\n",
            "MAE 57.11373571111719,\n",
            " MSE 19621.557254067156,\n",
            " RMSE: 140.07696903512425,\n",
            " R^2: 0.7045849702255434 \n"
          ]
        }
      ]
    },
    {
      "cell_type": "markdown",
      "source": [
        "**Key Finding**\n",
        "\n",
        "\n",
        "*   My best KNN model with all default parameters, which leaf_size of 30, and the n_neighbors of 5, without the PCA, the RMSE score was 116, and R2 score was 0.79.\n",
        "*   With the PCA, the RMSE score was 140 and the R2 score was 0.7.\n",
        "\n",
        "\n",
        "*   Perform PCA on the model didn't improve the model's predicting ability.\n",
        "\n",
        "\n",
        "\n"
      ],
      "metadata": {
        "id": "DL0z810vXHY3"
      }
    }
  ]
}