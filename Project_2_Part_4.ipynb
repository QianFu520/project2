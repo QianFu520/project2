{
  "nbformat": 4,
  "nbformat_minor": 0,
  "metadata": {
    "colab": {
      "name": " Project 2 - Part 4.ipynb",
      "provenance": [],
      "collapsed_sections": [],
      "authorship_tag": "ABX9TyO0zPPiGR+gYxL6YAVcSUNx",
      "include_colab_link": true
    },
    "kernelspec": {
      "name": "python3",
      "display_name": "Python 3"
    },
    "language_info": {
      "name": "python"
    }
  },
  "cells": [
    {
      "cell_type": "markdown",
      "metadata": {
        "id": "view-in-github",
        "colab_type": "text"
      },
      "source": [
        "<a href=\"https://colab.research.google.com/github/QianFu520/project2/blob/main/Project_2_Part_4.ipynb\" target=\"_parent\"><img src=\"https://colab.research.google.com/assets/colab-badge.svg\" alt=\"Open In Colab\"/></a>"
      ]
    },
    {
      "cell_type": "markdown",
      "source": [
        "\n",
        "\n",
        "*   Qian Fu\n",
        "*   8/25/2022\n",
        "\n"
      ],
      "metadata": {
        "id": "sFOhXAbEuAua"
      }
    },
    {
      "cell_type": "markdown",
      "source": [
        "# Import Libraries"
      ],
      "metadata": {
        "id": "HdzOBncKX8yA"
      }
    },
    {
      "cell_type": "code",
      "execution_count": null,
      "metadata": {
        "id": "DwHmStTCG7Nx"
      },
      "outputs": [],
      "source": [
        "import pandas as pd\n",
        "import numpy as np\n",
        "import matplotlib.pyplot as plt\n",
        "import seaborn as sns\n",
        "from sklearn.model_selection import train_test_split\n",
        "from sklearn.compose import make_column_selector, make_column_transformer\n",
        "from sklearn.preprocessing import StandardScaler, OneHotEncoder\n",
        "from sklearn.pipeline import make_pipeline\n",
        "from sklearn.impute import SimpleImputer\n",
        "from sklearn.linear_model import LinearRegression\n",
        "from sklearn.dummy import DummyRegressor\n",
        "from sklearn.tree import DecisionTreeRegressor\n",
        "from sklearn.ensemble import BaggingRegressor, RandomForestRegressor\n",
        "from sklearn.metrics import mean_absolute_error, mean_squared_error, r2_score\n",
        "from sklearn import set_config\n",
        "from sklearn.decomposition import PCA"
      ]
    },
    {
      "cell_type": "markdown",
      "source": [
        "# Upload Data"
      ],
      "metadata": {
        "id": "xwaQ2tR-ZFfU"
      }
    },
    {
      "cell_type": "code",
      "source": [
        "df = pd.read_csv(\"/content/Wine.csv\")\n",
        "df.head()"
      ],
      "metadata": {
        "colab": {
          "base_uri": "https://localhost:8080/",
          "height": 206
        },
        "id": "NWevPHx5JO1A",
        "outputId": "37abeceb-ce5d-4155-9c77-c7d902f1cc0d"
      },
      "execution_count": null,
      "outputs": [
        {
          "output_type": "execute_result",
          "data": {
            "text/plain": [
              "          winery           wine  year  rating  num_reviews country  \\\n",
              "0  Teso La Monja          Tinto  2013     4.9           58  Espana   \n",
              "1         Artadi  Vina El Pison  2018     4.9           31  Espana   \n",
              "2   Vega Sicilia          Unico  2009     4.8         1793  Espana   \n",
              "3   Vega Sicilia          Unico  1999     4.8         1705  Espana   \n",
              "4   Vega Sicilia          Unico  1996     4.8         1309  Espana   \n",
              "\n",
              "             region   price                  type  body  acidity  \n",
              "0              Toro  995.00              Toro Red   5.0      3.0  \n",
              "1    Vino de Espana  313.50           Tempranillo   4.0      2.0  \n",
              "2  Ribera del Duero  324.95  Ribera Del Duero Red   5.0      3.0  \n",
              "3  Ribera del Duero  692.96  Ribera Del Duero Red   5.0      3.0  \n",
              "4  Ribera del Duero  778.06  Ribera Del Duero Red   5.0      3.0  "
            ],
            "text/html": [
              "\n",
              "  <div id=\"df-061f87fd-2a76-40a4-a492-2337075869c3\">\n",
              "    <div class=\"colab-df-container\">\n",
              "      <div>\n",
              "<style scoped>\n",
              "    .dataframe tbody tr th:only-of-type {\n",
              "        vertical-align: middle;\n",
              "    }\n",
              "\n",
              "    .dataframe tbody tr th {\n",
              "        vertical-align: top;\n",
              "    }\n",
              "\n",
              "    .dataframe thead th {\n",
              "        text-align: right;\n",
              "    }\n",
              "</style>\n",
              "<table border=\"1\" class=\"dataframe\">\n",
              "  <thead>\n",
              "    <tr style=\"text-align: right;\">\n",
              "      <th></th>\n",
              "      <th>winery</th>\n",
              "      <th>wine</th>\n",
              "      <th>year</th>\n",
              "      <th>rating</th>\n",
              "      <th>num_reviews</th>\n",
              "      <th>country</th>\n",
              "      <th>region</th>\n",
              "      <th>price</th>\n",
              "      <th>type</th>\n",
              "      <th>body</th>\n",
              "      <th>acidity</th>\n",
              "    </tr>\n",
              "  </thead>\n",
              "  <tbody>\n",
              "    <tr>\n",
              "      <th>0</th>\n",
              "      <td>Teso La Monja</td>\n",
              "      <td>Tinto</td>\n",
              "      <td>2013</td>\n",
              "      <td>4.9</td>\n",
              "      <td>58</td>\n",
              "      <td>Espana</td>\n",
              "      <td>Toro</td>\n",
              "      <td>995.00</td>\n",
              "      <td>Toro Red</td>\n",
              "      <td>5.0</td>\n",
              "      <td>3.0</td>\n",
              "    </tr>\n",
              "    <tr>\n",
              "      <th>1</th>\n",
              "      <td>Artadi</td>\n",
              "      <td>Vina El Pison</td>\n",
              "      <td>2018</td>\n",
              "      <td>4.9</td>\n",
              "      <td>31</td>\n",
              "      <td>Espana</td>\n",
              "      <td>Vino de Espana</td>\n",
              "      <td>313.50</td>\n",
              "      <td>Tempranillo</td>\n",
              "      <td>4.0</td>\n",
              "      <td>2.0</td>\n",
              "    </tr>\n",
              "    <tr>\n",
              "      <th>2</th>\n",
              "      <td>Vega Sicilia</td>\n",
              "      <td>Unico</td>\n",
              "      <td>2009</td>\n",
              "      <td>4.8</td>\n",
              "      <td>1793</td>\n",
              "      <td>Espana</td>\n",
              "      <td>Ribera del Duero</td>\n",
              "      <td>324.95</td>\n",
              "      <td>Ribera Del Duero Red</td>\n",
              "      <td>5.0</td>\n",
              "      <td>3.0</td>\n",
              "    </tr>\n",
              "    <tr>\n",
              "      <th>3</th>\n",
              "      <td>Vega Sicilia</td>\n",
              "      <td>Unico</td>\n",
              "      <td>1999</td>\n",
              "      <td>4.8</td>\n",
              "      <td>1705</td>\n",
              "      <td>Espana</td>\n",
              "      <td>Ribera del Duero</td>\n",
              "      <td>692.96</td>\n",
              "      <td>Ribera Del Duero Red</td>\n",
              "      <td>5.0</td>\n",
              "      <td>3.0</td>\n",
              "    </tr>\n",
              "    <tr>\n",
              "      <th>4</th>\n",
              "      <td>Vega Sicilia</td>\n",
              "      <td>Unico</td>\n",
              "      <td>1996</td>\n",
              "      <td>4.8</td>\n",
              "      <td>1309</td>\n",
              "      <td>Espana</td>\n",
              "      <td>Ribera del Duero</td>\n",
              "      <td>778.06</td>\n",
              "      <td>Ribera Del Duero Red</td>\n",
              "      <td>5.0</td>\n",
              "      <td>3.0</td>\n",
              "    </tr>\n",
              "  </tbody>\n",
              "</table>\n",
              "</div>\n",
              "      <button class=\"colab-df-convert\" onclick=\"convertToInteractive('df-061f87fd-2a76-40a4-a492-2337075869c3')\"\n",
              "              title=\"Convert this dataframe to an interactive table.\"\n",
              "              style=\"display:none;\">\n",
              "        \n",
              "  <svg xmlns=\"http://www.w3.org/2000/svg\" height=\"24px\"viewBox=\"0 0 24 24\"\n",
              "       width=\"24px\">\n",
              "    <path d=\"M0 0h24v24H0V0z\" fill=\"none\"/>\n",
              "    <path d=\"M18.56 5.44l.94 2.06.94-2.06 2.06-.94-2.06-.94-.94-2.06-.94 2.06-2.06.94zm-11 1L8.5 8.5l.94-2.06 2.06-.94-2.06-.94L8.5 2.5l-.94 2.06-2.06.94zm10 10l.94 2.06.94-2.06 2.06-.94-2.06-.94-.94-2.06-.94 2.06-2.06.94z\"/><path d=\"M17.41 7.96l-1.37-1.37c-.4-.4-.92-.59-1.43-.59-.52 0-1.04.2-1.43.59L10.3 9.45l-7.72 7.72c-.78.78-.78 2.05 0 2.83L4 21.41c.39.39.9.59 1.41.59.51 0 1.02-.2 1.41-.59l7.78-7.78 2.81-2.81c.8-.78.8-2.07 0-2.86zM5.41 20L4 18.59l7.72-7.72 1.47 1.35L5.41 20z\"/>\n",
              "  </svg>\n",
              "      </button>\n",
              "      \n",
              "  <style>\n",
              "    .colab-df-container {\n",
              "      display:flex;\n",
              "      flex-wrap:wrap;\n",
              "      gap: 12px;\n",
              "    }\n",
              "\n",
              "    .colab-df-convert {\n",
              "      background-color: #E8F0FE;\n",
              "      border: none;\n",
              "      border-radius: 50%;\n",
              "      cursor: pointer;\n",
              "      display: none;\n",
              "      fill: #1967D2;\n",
              "      height: 32px;\n",
              "      padding: 0 0 0 0;\n",
              "      width: 32px;\n",
              "    }\n",
              "\n",
              "    .colab-df-convert:hover {\n",
              "      background-color: #E2EBFA;\n",
              "      box-shadow: 0px 1px 2px rgba(60, 64, 67, 0.3), 0px 1px 3px 1px rgba(60, 64, 67, 0.15);\n",
              "      fill: #174EA6;\n",
              "    }\n",
              "\n",
              "    [theme=dark] .colab-df-convert {\n",
              "      background-color: #3B4455;\n",
              "      fill: #D2E3FC;\n",
              "    }\n",
              "\n",
              "    [theme=dark] .colab-df-convert:hover {\n",
              "      background-color: #434B5C;\n",
              "      box-shadow: 0px 1px 3px 1px rgba(0, 0, 0, 0.15);\n",
              "      filter: drop-shadow(0px 1px 2px rgba(0, 0, 0, 0.3));\n",
              "      fill: #FFFFFF;\n",
              "    }\n",
              "  </style>\n",
              "\n",
              "      <script>\n",
              "        const buttonEl =\n",
              "          document.querySelector('#df-061f87fd-2a76-40a4-a492-2337075869c3 button.colab-df-convert');\n",
              "        buttonEl.style.display =\n",
              "          google.colab.kernel.accessAllowed ? 'block' : 'none';\n",
              "\n",
              "        async function convertToInteractive(key) {\n",
              "          const element = document.querySelector('#df-061f87fd-2a76-40a4-a492-2337075869c3');\n",
              "          const dataTable =\n",
              "            await google.colab.kernel.invokeFunction('convertToInteractive',\n",
              "                                                     [key], {});\n",
              "          if (!dataTable) return;\n",
              "\n",
              "          const docLinkHtml = 'Like what you see? Visit the ' +\n",
              "            '<a target=\"_blank\" href=https://colab.research.google.com/notebooks/data_table.ipynb>data table notebook</a>'\n",
              "            + ' to learn more about interactive tables.';\n",
              "          element.innerHTML = '';\n",
              "          dataTable['output_type'] = 'display_data';\n",
              "          await google.colab.output.renderOutput(dataTable, element);\n",
              "          const docLink = document.createElement('div');\n",
              "          docLink.innerHTML = docLinkHtml;\n",
              "          element.appendChild(docLink);\n",
              "        }\n",
              "      </script>\n",
              "    </div>\n",
              "  </div>\n",
              "  "
            ]
          },
          "metadata": {},
          "execution_count": 258
        }
      ]
    },
    {
      "cell_type": "markdown",
      "source": [
        "# Data Cleaning"
      ],
      "metadata": {
        "id": "18sgrTlNJr8Y"
      }
    },
    {
      "cell_type": "markdown",
      "source": [
        "**Deleted unnecessary columns**"
      ],
      "metadata": {
        "id": "ycbGfxRQfby7"
      }
    },
    {
      "cell_type": "code",
      "source": [
        "#I decided to delete country column, because there is only one country: Espana, it doesn't make impact on predicting the wine price.\n",
        "df.drop(columns=\"country\", inplace= True)"
      ],
      "metadata": {
        "id": "Fnjlu7A9gtf0"
      },
      "execution_count": null,
      "outputs": []
    },
    {
      "cell_type": "markdown",
      "source": [
        "**Check and drop any duplicates**"
      ],
      "metadata": {
        "id": "EBYu00-qK30P"
      }
    },
    {
      "cell_type": "code",
      "source": [
        "#check for duplicates\n",
        "df.duplicated().sum()"
      ],
      "metadata": {
        "colab": {
          "base_uri": "https://localhost:8080/"
        },
        "id": "zLDjkN4YKi27",
        "outputId": "c2703fbb-cd8a-4257-e675-148d69ba1a35"
      },
      "execution_count": null,
      "outputs": [
        {
          "output_type": "execute_result",
          "data": {
            "text/plain": [
              "5452"
            ]
          },
          "metadata": {},
          "execution_count": 260
        }
      ]
    },
    {
      "cell_type": "code",
      "source": [
        "#Drop all the duplicates\n",
        "df.drop_duplicates(inplace=True)\n",
        "df.duplicated().sum()"
      ],
      "metadata": {
        "colab": {
          "base_uri": "https://localhost:8080/"
        },
        "id": "8C3alzvpKs3I",
        "outputId": "46b115c8-3fe6-4b62-ee5b-7a14553e691c"
      },
      "execution_count": null,
      "outputs": [
        {
          "output_type": "execute_result",
          "data": {
            "text/plain": [
              "0"
            ]
          },
          "metadata": {},
          "execution_count": 261
        }
      ]
    },
    {
      "cell_type": "code",
      "source": [
        "df.shape"
      ],
      "metadata": {
        "colab": {
          "base_uri": "https://localhost:8080/"
        },
        "id": "suWqjnN-Qwqu",
        "outputId": "ce0a5c6f-393c-492a-c745-4f212868880e"
      },
      "execution_count": null,
      "outputs": [
        {
          "output_type": "execute_result",
          "data": {
            "text/plain": [
              "(2048, 10)"
            ]
          },
          "metadata": {},
          "execution_count": 262
        }
      ]
    },
    {
      "cell_type": "markdown",
      "source": [
        "# **Identify and address any missing values in this dataset.**\n"
      ],
      "metadata": {
        "id": "WzdGGPDBK-WO"
      }
    },
    {
      "cell_type": "code",
      "source": [
        "df.isna().sum()"
      ],
      "metadata": {
        "colab": {
          "base_uri": "https://localhost:8080/"
        },
        "id": "yyx-Sa-eLBpI",
        "outputId": "6b606ce2-c0d4-42b5-faf2-dd4f76a69380"
      },
      "execution_count": null,
      "outputs": [
        {
          "output_type": "execute_result",
          "data": {
            "text/plain": [
              "winery           0\n",
              "wine             0\n",
              "year             2\n",
              "rating           0\n",
              "num_reviews      0\n",
              "region           0\n",
              "price            0\n",
              "type           106\n",
              "body           271\n",
              "acidity        271\n",
              "dtype: int64"
            ]
          },
          "metadata": {},
          "execution_count": 263
        }
      ]
    },
    {
      "cell_type": "markdown",
      "source": [
        "I can see that there are 2 missing values in 'year' column, 106 missing values in \"type\" column, 271 missing values in \"body\" column, and 271 missing values in \"acidity\" column."
      ],
      "metadata": {
        "id": "a9aR5kP5LHl5"
      }
    },
    {
      "cell_type": "markdown",
      "source": [
        "**Figure out the method for dealing with the missing values in type column**"
      ],
      "metadata": {
        "id": "OHcnzNKJR6GJ"
      }
    },
    {
      "cell_type": "code",
      "source": [
        "#check the value count in type column\n",
        "df[\"type\"].value_counts()"
      ],
      "metadata": {
        "colab": {
          "base_uri": "https://localhost:8080/"
        },
        "id": "y83lPo6fRSPi",
        "outputId": "bc76ec85-b710-4fa0-84ca-0bda5c7245d0"
      },
      "execution_count": null,
      "outputs": [
        {
          "output_type": "execute_result",
          "data": {
            "text/plain": [
              "Ribera Del Duero Red    535\n",
              "Rioja Red               451\n",
              "Priorat Red             238\n",
              "Red                     210\n",
              "Toro Red                 78\n",
              "Tempranillo              73\n",
              "Sherry                   56\n",
              "Rioja White              37\n",
              "Pedro Ximenez            35\n",
              "Grenache                 35\n",
              "Albarino                 34\n",
              "Cava                     33\n",
              "Verdejo                  27\n",
              "Monastrell               18\n",
              "Mencia                   17\n",
              "Montsant Red             17\n",
              "Syrah                    15\n",
              "Chardonnay               13\n",
              "Cabernet Sauvignon       11\n",
              "Sparkling                 5\n",
              "Sauvignon Blanc           4\n",
              "Name: type, dtype: int64"
            ]
          },
          "metadata": {},
          "execution_count": 264
        }
      ]
    },
    {
      "cell_type": "markdown",
      "source": [
        "To prevent model performance bias, for missing values in type column, I decided to create a new label\"Unidentified\". I will deal with this after data split."
      ],
      "metadata": {
        "id": "vWWoGezOS-wb"
      }
    },
    {
      "cell_type": "markdown",
      "source": [
        "**Figure out the method for dealing with the missing values in year column**\n",
        "\n"
      ],
      "metadata": {
        "id": "CP8NHGAHv4d_"
      }
    },
    {
      "cell_type": "code",
      "source": [
        "missing_values = pd.isna(df[\"year\"])\n",
        "df[missing_values]"
      ],
      "metadata": {
        "colab": {
          "base_uri": "https://localhost:8080/",
          "height": 112
        },
        "id": "Z4R19gNYvRPD",
        "outputId": "a5248de6-023e-407e-cce0-5fb779efb89f"
      },
      "execution_count": null,
      "outputs": [
        {
          "output_type": "execute_result",
          "data": {
            "text/plain": [
              "           winery                            wine year  rating  num_reviews  \\\n",
              "46   Vega Sicilia  Unico Reserva Especial Edicion  NaN     4.7        12421   \n",
              "851      La Unica                  Fourth Edition  NaN     4.4          131   \n",
              "\n",
              "               region  price                  type  body  acidity  \n",
              "46   Ribera del Duero  423.5  Ribera Del Duero Red   5.0      3.0  \n",
              "851    Vino de Espana   40.0           Tempranillo   4.0      2.0  "
            ],
            "text/html": [
              "\n",
              "  <div id=\"df-120c41c6-f1b8-4a6b-8f81-c5f1f237b7b1\">\n",
              "    <div class=\"colab-df-container\">\n",
              "      <div>\n",
              "<style scoped>\n",
              "    .dataframe tbody tr th:only-of-type {\n",
              "        vertical-align: middle;\n",
              "    }\n",
              "\n",
              "    .dataframe tbody tr th {\n",
              "        vertical-align: top;\n",
              "    }\n",
              "\n",
              "    .dataframe thead th {\n",
              "        text-align: right;\n",
              "    }\n",
              "</style>\n",
              "<table border=\"1\" class=\"dataframe\">\n",
              "  <thead>\n",
              "    <tr style=\"text-align: right;\">\n",
              "      <th></th>\n",
              "      <th>winery</th>\n",
              "      <th>wine</th>\n",
              "      <th>year</th>\n",
              "      <th>rating</th>\n",
              "      <th>num_reviews</th>\n",
              "      <th>region</th>\n",
              "      <th>price</th>\n",
              "      <th>type</th>\n",
              "      <th>body</th>\n",
              "      <th>acidity</th>\n",
              "    </tr>\n",
              "  </thead>\n",
              "  <tbody>\n",
              "    <tr>\n",
              "      <th>46</th>\n",
              "      <td>Vega Sicilia</td>\n",
              "      <td>Unico Reserva Especial Edicion</td>\n",
              "      <td>NaN</td>\n",
              "      <td>4.7</td>\n",
              "      <td>12421</td>\n",
              "      <td>Ribera del Duero</td>\n",
              "      <td>423.5</td>\n",
              "      <td>Ribera Del Duero Red</td>\n",
              "      <td>5.0</td>\n",
              "      <td>3.0</td>\n",
              "    </tr>\n",
              "    <tr>\n",
              "      <th>851</th>\n",
              "      <td>La Unica</td>\n",
              "      <td>Fourth Edition</td>\n",
              "      <td>NaN</td>\n",
              "      <td>4.4</td>\n",
              "      <td>131</td>\n",
              "      <td>Vino de Espana</td>\n",
              "      <td>40.0</td>\n",
              "      <td>Tempranillo</td>\n",
              "      <td>4.0</td>\n",
              "      <td>2.0</td>\n",
              "    </tr>\n",
              "  </tbody>\n",
              "</table>\n",
              "</div>\n",
              "      <button class=\"colab-df-convert\" onclick=\"convertToInteractive('df-120c41c6-f1b8-4a6b-8f81-c5f1f237b7b1')\"\n",
              "              title=\"Convert this dataframe to an interactive table.\"\n",
              "              style=\"display:none;\">\n",
              "        \n",
              "  <svg xmlns=\"http://www.w3.org/2000/svg\" height=\"24px\"viewBox=\"0 0 24 24\"\n",
              "       width=\"24px\">\n",
              "    <path d=\"M0 0h24v24H0V0z\" fill=\"none\"/>\n",
              "    <path d=\"M18.56 5.44l.94 2.06.94-2.06 2.06-.94-2.06-.94-.94-2.06-.94 2.06-2.06.94zm-11 1L8.5 8.5l.94-2.06 2.06-.94-2.06-.94L8.5 2.5l-.94 2.06-2.06.94zm10 10l.94 2.06.94-2.06 2.06-.94-2.06-.94-.94-2.06-.94 2.06-2.06.94z\"/><path d=\"M17.41 7.96l-1.37-1.37c-.4-.4-.92-.59-1.43-.59-.52 0-1.04.2-1.43.59L10.3 9.45l-7.72 7.72c-.78.78-.78 2.05 0 2.83L4 21.41c.39.39.9.59 1.41.59.51 0 1.02-.2 1.41-.59l7.78-7.78 2.81-2.81c.8-.78.8-2.07 0-2.86zM5.41 20L4 18.59l7.72-7.72 1.47 1.35L5.41 20z\"/>\n",
              "  </svg>\n",
              "      </button>\n",
              "      \n",
              "  <style>\n",
              "    .colab-df-container {\n",
              "      display:flex;\n",
              "      flex-wrap:wrap;\n",
              "      gap: 12px;\n",
              "    }\n",
              "\n",
              "    .colab-df-convert {\n",
              "      background-color: #E8F0FE;\n",
              "      border: none;\n",
              "      border-radius: 50%;\n",
              "      cursor: pointer;\n",
              "      display: none;\n",
              "      fill: #1967D2;\n",
              "      height: 32px;\n",
              "      padding: 0 0 0 0;\n",
              "      width: 32px;\n",
              "    }\n",
              "\n",
              "    .colab-df-convert:hover {\n",
              "      background-color: #E2EBFA;\n",
              "      box-shadow: 0px 1px 2px rgba(60, 64, 67, 0.3), 0px 1px 3px 1px rgba(60, 64, 67, 0.15);\n",
              "      fill: #174EA6;\n",
              "    }\n",
              "\n",
              "    [theme=dark] .colab-df-convert {\n",
              "      background-color: #3B4455;\n",
              "      fill: #D2E3FC;\n",
              "    }\n",
              "\n",
              "    [theme=dark] .colab-df-convert:hover {\n",
              "      background-color: #434B5C;\n",
              "      box-shadow: 0px 1px 3px 1px rgba(0, 0, 0, 0.15);\n",
              "      filter: drop-shadow(0px 1px 2px rgba(0, 0, 0, 0.3));\n",
              "      fill: #FFFFFF;\n",
              "    }\n",
              "  </style>\n",
              "\n",
              "      <script>\n",
              "        const buttonEl =\n",
              "          document.querySelector('#df-120c41c6-f1b8-4a6b-8f81-c5f1f237b7b1 button.colab-df-convert');\n",
              "        buttonEl.style.display =\n",
              "          google.colab.kernel.accessAllowed ? 'block' : 'none';\n",
              "\n",
              "        async function convertToInteractive(key) {\n",
              "          const element = document.querySelector('#df-120c41c6-f1b8-4a6b-8f81-c5f1f237b7b1');\n",
              "          const dataTable =\n",
              "            await google.colab.kernel.invokeFunction('convertToInteractive',\n",
              "                                                     [key], {});\n",
              "          if (!dataTable) return;\n",
              "\n",
              "          const docLinkHtml = 'Like what you see? Visit the ' +\n",
              "            '<a target=\"_blank\" href=https://colab.research.google.com/notebooks/data_table.ipynb>data table notebook</a>'\n",
              "            + ' to learn more about interactive tables.';\n",
              "          element.innerHTML = '';\n",
              "          dataTable['output_type'] = 'display_data';\n",
              "          await google.colab.output.renderOutput(dataTable, element);\n",
              "          const docLink = document.createElement('div');\n",
              "          docLink.innerHTML = docLinkHtml;\n",
              "          element.appendChild(docLink);\n",
              "        }\n",
              "      </script>\n",
              "    </div>\n",
              "  </div>\n",
              "  "
            ]
          },
          "metadata": {},
          "execution_count": 265
        }
      ]
    },
    {
      "cell_type": "markdown",
      "source": [
        "I will fill the missing values in \"year\"column with the most recent year.I will deal with it after data split."
      ],
      "metadata": {
        "id": "NX5Jn-UNtKy-"
      }
    },
    {
      "cell_type": "markdown",
      "source": [
        "**Figure out the method for dealing with the missing values in body and acidity column**"
      ],
      "metadata": {
        "id": "c4YV5_7FTXbJ"
      }
    },
    {
      "cell_type": "code",
      "source": [
        "#check the stats information of body column\n",
        "df[\"body\"].describe().round(1)"
      ],
      "metadata": {
        "colab": {
          "base_uri": "https://localhost:8080/"
        },
        "id": "1Q208GGdTWw-",
        "outputId": "db1438b8-7eb2-440e-e498-cd7d12b770d9"
      },
      "execution_count": null,
      "outputs": [
        {
          "output_type": "execute_result",
          "data": {
            "text/plain": [
              "count    1777.0\n",
              "mean        4.3\n",
              "std         0.7\n",
              "min         2.0\n",
              "25%         4.0\n",
              "50%         4.0\n",
              "75%         5.0\n",
              "max         5.0\n",
              "Name: body, dtype: float64"
            ]
          },
          "metadata": {},
          "execution_count": 266
        }
      ]
    },
    {
      "cell_type": "code",
      "source": [
        "#check the most frequent value \n",
        "df[\"body\"].value_counts()"
      ],
      "metadata": {
        "colab": {
          "base_uri": "https://localhost:8080/"
        },
        "id": "ButC8uU1WNu-",
        "outputId": "d9adae5b-1230-4b04-bd54-a78adaaa4949"
      },
      "execution_count": null,
      "outputs": [
        {
          "output_type": "execute_result",
          "data": {
            "text/plain": [
              "4.0    1003\n",
              "5.0     634\n",
              "3.0     106\n",
              "2.0      34\n",
              "Name: body, dtype: int64"
            ]
          },
          "metadata": {},
          "execution_count": 267
        }
      ]
    },
    {
      "cell_type": "markdown",
      "source": [
        "I can see that the most frequent body value is 4.0, the mean value of the body is around 4.3. I can use the SimpleImputer(strategy= 'mean') method to fill in the missing values in body column.I will address this after the data split"
      ],
      "metadata": {
        "id": "E5ELYNjdVA9G"
      }
    },
    {
      "cell_type": "code",
      "source": [
        "#check the stats information of acidity column\n",
        "df[\"acidity\"].describe().round(1)"
      ],
      "metadata": {
        "colab": {
          "base_uri": "https://localhost:8080/"
        },
        "id": "5n43UrqIVdCM",
        "outputId": "4b37d65d-10ff-4425-f4ed-c3b1879e3744"
      },
      "execution_count": null,
      "outputs": [
        {
          "output_type": "execute_result",
          "data": {
            "text/plain": [
              "count    1777.0\n",
              "mean        2.9\n",
              "std         0.3\n",
              "min         1.0\n",
              "25%         3.0\n",
              "50%         3.0\n",
              "75%         3.0\n",
              "max         3.0\n",
              "Name: acidity, dtype: float64"
            ]
          },
          "metadata": {},
          "execution_count": 268
        }
      ]
    },
    {
      "cell_type": "code",
      "source": [
        "#check the most frequent value\n",
        "df[\"acidity\"].value_counts()"
      ],
      "metadata": {
        "colab": {
          "base_uri": "https://localhost:8080/"
        },
        "id": "HRTUI9jtXaZ0",
        "outputId": "998320c2-8976-4e99-ee16-b4e167212938"
      },
      "execution_count": null,
      "outputs": [
        {
          "output_type": "execute_result",
          "data": {
            "text/plain": [
              "3.0    1672\n",
              "2.0      70\n",
              "1.0      35\n",
              "Name: acidity, dtype: int64"
            ]
          },
          "metadata": {},
          "execution_count": 269
        }
      ]
    },
    {
      "cell_type": "markdown",
      "source": [
        "I can see that the most frequent acidity value is 3.0, the mean value of the body is around 2.9. I can use the SimpleImputer(strategy= 'mean') method to fill in the missing values in acidity column.I will address this after the data split"
      ],
      "metadata": {
        "id": "-vwD96vwV6ED"
      }
    },
    {
      "cell_type": "markdown",
      "source": [
        "# Identified and corrected inconsistencies in data for categorical values"
      ],
      "metadata": {
        "id": "_ZM5ltwvWBj-"
      }
    },
    {
      "cell_type": "code",
      "source": [
        "dtypes = df.dtypes\n",
        "str_cols = dtypes[dtypes==\"object\"].index\n",
        "for col in str_cols:\n",
        "  print(f'-Column={col}')\n",
        "  print(df[col].value_counts(dropna=False))\n",
        "  print('\\n\\n')"
      ],
      "metadata": {
        "colab": {
          "base_uri": "https://localhost:8080/"
        },
        "id": "3GnpP3h-bqcM",
        "outputId": "5995fa0c-207d-4b25-f646-4d269b0f2e02"
      },
      "execution_count": null,
      "outputs": [
        {
          "output_type": "stream",
          "name": "stdout",
          "text": [
            "-Column=winery\n",
            "Vega Sicilia                            97\n",
            "Alvaro Palacios                         48\n",
            "Artadi                                  43\n",
            "La Rioja Alta                           36\n",
            "Marques de Murrieta                     33\n",
            "                                        ..\n",
            "Valdelosfrailes                          1\n",
            "Briego                                   1\n",
            "Guillem Carol - Cellers Carol Valles     1\n",
            "Particular                               1\n",
            "Binigrau                                 1\n",
            "Name: winery, Length: 480, dtype: int64\n",
            "\n",
            "\n",
            "\n",
            "-Column=wine\n",
            "Tinto                                                 56\n",
            "Unico                                                 41\n",
            "Valbuena 5o                                           32\n",
            "Reserva                                               31\n",
            "Priorat                                               26\n",
            "                                                      ..\n",
            "San Valentin Parellada                                 1\n",
            "Silvanus Edicion Limitada Ribera del Duero             1\n",
            "El Jardin de las Iguales Vinedo Historico Garnacha     1\n",
            "Garnacha Vinas Centenarias                             1\n",
            "Capricho Crianza                                       1\n",
            "Name: wine, Length: 847, dtype: int64\n",
            "\n",
            "\n",
            "\n",
            "-Column=year\n",
            "2016    243\n",
            "2017    240\n",
            "2015    206\n",
            "2018    196\n",
            "2014    158\n",
            "       ... \n",
            "1953      1\n",
            "1972      1\n",
            "1974      1\n",
            "1931      1\n",
            "1925      1\n",
            "Name: year, Length: 72, dtype: int64\n",
            "\n",
            "\n",
            "\n",
            "-Column=region\n",
            "Ribera del Duero                   541\n",
            "Rioja                              479\n",
            "Priorato                           250\n",
            "Toro                                82\n",
            "Castilla y Leon                     51\n",
            "                                  ... \n",
            "Ribera del Gallego-Cinco Villas      1\n",
            "Monterrei                            1\n",
            "Jerez Cream                          1\n",
            "Condado de Huelva                    1\n",
            "Abona                                1\n",
            "Name: region, Length: 76, dtype: int64\n",
            "\n",
            "\n",
            "\n",
            "-Column=type\n",
            "Ribera Del Duero Red    535\n",
            "Rioja Red               451\n",
            "Priorat Red             238\n",
            "Red                     210\n",
            "NaN                     106\n",
            "Toro Red                 78\n",
            "Tempranillo              73\n",
            "Sherry                   56\n",
            "Rioja White              37\n",
            "Pedro Ximenez            35\n",
            "Grenache                 35\n",
            "Albarino                 34\n",
            "Cava                     33\n",
            "Verdejo                  27\n",
            "Monastrell               18\n",
            "Mencia                   17\n",
            "Montsant Red             17\n",
            "Syrah                    15\n",
            "Chardonnay               13\n",
            "Cabernet Sauvignon       11\n",
            "Sparkling                 5\n",
            "Sauvignon Blanc           4\n",
            "Name: type, dtype: int64\n",
            "\n",
            "\n",
            "\n"
          ]
        }
      ]
    },
    {
      "cell_type": "markdown",
      "source": [
        "I can't tell there are inconsistencies in data for categorical values"
      ],
      "metadata": {
        "id": "tR1dTG7qc1Wj"
      }
    },
    {
      "cell_type": "markdown",
      "source": [
        "# Identified and corrected any impossible values in numeric columns"
      ],
      "metadata": {
        "id": "kNeQdGCleIwJ"
      }
    },
    {
      "cell_type": "code",
      "source": [
        "dtypes = df.dtypes\n",
        "str_cols1 = dtypes[dtypes==\"float64\"].index\n",
        "for col in str_cols1:\n",
        "  print(f'-Column={col}')\n",
        "  print(df[col].value_counts(dropna=False))\n",
        "  print('\\n\\n')"
      ],
      "metadata": {
        "colab": {
          "base_uri": "https://localhost:8080/"
        },
        "id": "LqDzYxgjeXM3",
        "outputId": "8cf3d397-839f-4f0d-a14d-60d5b0cc83b1"
      },
      "execution_count": null,
      "outputs": [
        {
          "output_type": "stream",
          "name": "stdout",
          "text": [
            "-Column=rating\n",
            "4.3    706\n",
            "4.4    484\n",
            "4.5    281\n",
            "4.2    228\n",
            "4.6    191\n",
            "4.7    112\n",
            "4.8     44\n",
            "4.9      2\n",
            "Name: rating, dtype: int64\n",
            "\n",
            "\n",
            "\n",
            "-Column=price\n",
            "75.00     16\n",
            "95.00     12\n",
            "34.90     12\n",
            "59.90     12\n",
            "26.90     11\n",
            "          ..\n",
            "75.92      1\n",
            "47.52      1\n",
            "94.20      1\n",
            "185.15     1\n",
            "995.00     1\n",
            "Name: price, Length: 1292, dtype: int64\n",
            "\n",
            "\n",
            "\n",
            "-Column=body\n",
            "4.0    1003\n",
            "5.0     634\n",
            "NaN     271\n",
            "3.0     106\n",
            "2.0      34\n",
            "Name: body, dtype: int64\n",
            "\n",
            "\n",
            "\n",
            "-Column=acidity\n",
            "3.0    1672\n",
            "NaN     271\n",
            "2.0      70\n",
            "1.0      35\n",
            "Name: acidity, dtype: int64\n",
            "\n",
            "\n",
            "\n"
          ]
        }
      ]
    },
    {
      "cell_type": "markdown",
      "source": [
        "I can tell that there is no impossible values in numeric columns"
      ],
      "metadata": {
        "id": "jR6Mf-xxfDG2"
      }
    },
    {
      "cell_type": "markdown",
      "source": [
        "# Ensure all columns data types are correct"
      ],
      "metadata": {
        "id": "e7M779LxbsbL"
      }
    },
    {
      "cell_type": "code",
      "source": [
        "df.info()"
      ],
      "metadata": {
        "colab": {
          "base_uri": "https://localhost:8080/"
        },
        "id": "5sPQfZtab52S",
        "outputId": "1ab4a02f-1a4a-4520-bed7-95af480a71f4"
      },
      "execution_count": null,
      "outputs": [
        {
          "output_type": "stream",
          "name": "stdout",
          "text": [
            "<class 'pandas.core.frame.DataFrame'>\n",
            "Int64Index: 2048 entries, 0 to 6100\n",
            "Data columns (total 10 columns):\n",
            " #   Column       Non-Null Count  Dtype  \n",
            "---  ------       --------------  -----  \n",
            " 0   winery       2048 non-null   object \n",
            " 1   wine         2048 non-null   object \n",
            " 2   year         2046 non-null   object \n",
            " 3   rating       2048 non-null   float64\n",
            " 4   num_reviews  2048 non-null   int64  \n",
            " 5   region       2048 non-null   object \n",
            " 6   price        2048 non-null   float64\n",
            " 7   type         1942 non-null   object \n",
            " 8   body         1777 non-null   float64\n",
            " 9   acidity      1777 non-null   float64\n",
            "dtypes: float64(4), int64(1), object(5)\n",
            "memory usage: 176.0+ KB\n"
          ]
        }
      ]
    },
    {
      "cell_type": "markdown",
      "source": [
        "I can see that the data type of \"year\" column is not correct. I will change it from object to inter."
      ],
      "metadata": {
        "id": "XwpcjoBHcKpw"
      }
    },
    {
      "cell_type": "code",
      "source": [
        "df.loc[df[\"year\"]==\"N.V.\", :]"
      ],
      "metadata": {
        "colab": {
          "base_uri": "https://localhost:8080/",
          "height": 424
        },
        "id": "bRZUCtIKc861",
        "outputId": "d90bd7b6-6279-492e-b0ac-9cbe7436146c"
      },
      "execution_count": null,
      "outputs": [
        {
          "output_type": "execute_result",
          "data": {
            "text/plain": [
              "                    winery                                               wine  \\\n",
              "20              Valdespino                                   Toneles Moscatel   \n",
              "133             Barbadillo                       Reliquia Palo Cortado Sherry   \n",
              "142                 Alvear                          Abuelo Diego Palo Cortado   \n",
              "143         Equipo Navazos                              La Bota 78 de Oloroso   \n",
              "267                Osborne                   Solera India Oloroso Rare Sherry   \n",
              "...                    ...                                                ...   \n",
              "1942    Williams & Humbert  Dos Cortados Palo Cortado Solera Especial Aged...   \n",
              "1971  Fernando de Castilla                               Antique Palo Cortado   \n",
              "1979    Williams & Humbert  Jalifa Amontillado Rare Old Dry Solera Especia...   \n",
              "2012                Lustau                          Candela Cream Dulce Sweet   \n",
              "2037                Lustau                          Candela Cream Dulce Sweet   \n",
              "\n",
              "      year  rating  num_reviews              region   price           type  \\\n",
              "20    N.V.     4.8          174  Jerez-Xeres-Sherry  253.00         Sherry   \n",
              "133   N.V.     4.7           58  Jerez Palo Cortado  380.00         Sherry   \n",
              "142   N.V.     4.7           42    Montilla-Moriles  114.28  Pedro Ximenez   \n",
              "143   N.V.     4.7           41          Manzanilla   95.57         Sherry   \n",
              "267   N.V.     4.6           74  Jerez-Xeres-Sherry  189.99         Sherry   \n",
              "...    ...     ...          ...                 ...     ...            ...   \n",
              "1942  N.V.     4.2          666  Jerez Palo Cortado   32.16         Sherry   \n",
              "1971  N.V.     4.2          519  Jerez Palo Cortado   36.90         Sherry   \n",
              "1979  N.V.     4.2          487   Jerez Amontillado   33.50         Sherry   \n",
              "2012  N.V.     4.2          405  Jerez-Xeres-Sherry    7.10         Sherry   \n",
              "2037  N.V.     4.2          405  Jerez-Xeres-Sherry    7.10         Sherry   \n",
              "\n",
              "      body  acidity  \n",
              "20     4.0      3.0  \n",
              "133    4.0      3.0  \n",
              "142    5.0      1.0  \n",
              "143    4.0      3.0  \n",
              "267    4.0      3.0  \n",
              "...    ...      ...  \n",
              "1942   4.0      3.0  \n",
              "1971   4.0      3.0  \n",
              "1979   4.0      3.0  \n",
              "2012   NaN      NaN  \n",
              "2037   4.0      3.0  \n",
              "\n",
              "[70 rows x 10 columns]"
            ],
            "text/html": [
              "\n",
              "  <div id=\"df-41f7c19d-430f-4163-a27a-10f16c33e9a1\">\n",
              "    <div class=\"colab-df-container\">\n",
              "      <div>\n",
              "<style scoped>\n",
              "    .dataframe tbody tr th:only-of-type {\n",
              "        vertical-align: middle;\n",
              "    }\n",
              "\n",
              "    .dataframe tbody tr th {\n",
              "        vertical-align: top;\n",
              "    }\n",
              "\n",
              "    .dataframe thead th {\n",
              "        text-align: right;\n",
              "    }\n",
              "</style>\n",
              "<table border=\"1\" class=\"dataframe\">\n",
              "  <thead>\n",
              "    <tr style=\"text-align: right;\">\n",
              "      <th></th>\n",
              "      <th>winery</th>\n",
              "      <th>wine</th>\n",
              "      <th>year</th>\n",
              "      <th>rating</th>\n",
              "      <th>num_reviews</th>\n",
              "      <th>region</th>\n",
              "      <th>price</th>\n",
              "      <th>type</th>\n",
              "      <th>body</th>\n",
              "      <th>acidity</th>\n",
              "    </tr>\n",
              "  </thead>\n",
              "  <tbody>\n",
              "    <tr>\n",
              "      <th>20</th>\n",
              "      <td>Valdespino</td>\n",
              "      <td>Toneles Moscatel</td>\n",
              "      <td>N.V.</td>\n",
              "      <td>4.8</td>\n",
              "      <td>174</td>\n",
              "      <td>Jerez-Xeres-Sherry</td>\n",
              "      <td>253.00</td>\n",
              "      <td>Sherry</td>\n",
              "      <td>4.0</td>\n",
              "      <td>3.0</td>\n",
              "    </tr>\n",
              "    <tr>\n",
              "      <th>133</th>\n",
              "      <td>Barbadillo</td>\n",
              "      <td>Reliquia Palo Cortado Sherry</td>\n",
              "      <td>N.V.</td>\n",
              "      <td>4.7</td>\n",
              "      <td>58</td>\n",
              "      <td>Jerez Palo Cortado</td>\n",
              "      <td>380.00</td>\n",
              "      <td>Sherry</td>\n",
              "      <td>4.0</td>\n",
              "      <td>3.0</td>\n",
              "    </tr>\n",
              "    <tr>\n",
              "      <th>142</th>\n",
              "      <td>Alvear</td>\n",
              "      <td>Abuelo Diego Palo Cortado</td>\n",
              "      <td>N.V.</td>\n",
              "      <td>4.7</td>\n",
              "      <td>42</td>\n",
              "      <td>Montilla-Moriles</td>\n",
              "      <td>114.28</td>\n",
              "      <td>Pedro Ximenez</td>\n",
              "      <td>5.0</td>\n",
              "      <td>1.0</td>\n",
              "    </tr>\n",
              "    <tr>\n",
              "      <th>143</th>\n",
              "      <td>Equipo Navazos</td>\n",
              "      <td>La Bota 78 de Oloroso</td>\n",
              "      <td>N.V.</td>\n",
              "      <td>4.7</td>\n",
              "      <td>41</td>\n",
              "      <td>Manzanilla</td>\n",
              "      <td>95.57</td>\n",
              "      <td>Sherry</td>\n",
              "      <td>4.0</td>\n",
              "      <td>3.0</td>\n",
              "    </tr>\n",
              "    <tr>\n",
              "      <th>267</th>\n",
              "      <td>Osborne</td>\n",
              "      <td>Solera India Oloroso Rare Sherry</td>\n",
              "      <td>N.V.</td>\n",
              "      <td>4.6</td>\n",
              "      <td>74</td>\n",
              "      <td>Jerez-Xeres-Sherry</td>\n",
              "      <td>189.99</td>\n",
              "      <td>Sherry</td>\n",
              "      <td>4.0</td>\n",
              "      <td>3.0</td>\n",
              "    </tr>\n",
              "    <tr>\n",
              "      <th>...</th>\n",
              "      <td>...</td>\n",
              "      <td>...</td>\n",
              "      <td>...</td>\n",
              "      <td>...</td>\n",
              "      <td>...</td>\n",
              "      <td>...</td>\n",
              "      <td>...</td>\n",
              "      <td>...</td>\n",
              "      <td>...</td>\n",
              "      <td>...</td>\n",
              "    </tr>\n",
              "    <tr>\n",
              "      <th>1942</th>\n",
              "      <td>Williams &amp; Humbert</td>\n",
              "      <td>Dos Cortados Palo Cortado Solera Especial Aged...</td>\n",
              "      <td>N.V.</td>\n",
              "      <td>4.2</td>\n",
              "      <td>666</td>\n",
              "      <td>Jerez Palo Cortado</td>\n",
              "      <td>32.16</td>\n",
              "      <td>Sherry</td>\n",
              "      <td>4.0</td>\n",
              "      <td>3.0</td>\n",
              "    </tr>\n",
              "    <tr>\n",
              "      <th>1971</th>\n",
              "      <td>Fernando de Castilla</td>\n",
              "      <td>Antique Palo Cortado</td>\n",
              "      <td>N.V.</td>\n",
              "      <td>4.2</td>\n",
              "      <td>519</td>\n",
              "      <td>Jerez Palo Cortado</td>\n",
              "      <td>36.90</td>\n",
              "      <td>Sherry</td>\n",
              "      <td>4.0</td>\n",
              "      <td>3.0</td>\n",
              "    </tr>\n",
              "    <tr>\n",
              "      <th>1979</th>\n",
              "      <td>Williams &amp; Humbert</td>\n",
              "      <td>Jalifa Amontillado Rare Old Dry Solera Especia...</td>\n",
              "      <td>N.V.</td>\n",
              "      <td>4.2</td>\n",
              "      <td>487</td>\n",
              "      <td>Jerez Amontillado</td>\n",
              "      <td>33.50</td>\n",
              "      <td>Sherry</td>\n",
              "      <td>4.0</td>\n",
              "      <td>3.0</td>\n",
              "    </tr>\n",
              "    <tr>\n",
              "      <th>2012</th>\n",
              "      <td>Lustau</td>\n",
              "      <td>Candela Cream Dulce Sweet</td>\n",
              "      <td>N.V.</td>\n",
              "      <td>4.2</td>\n",
              "      <td>405</td>\n",
              "      <td>Jerez-Xeres-Sherry</td>\n",
              "      <td>7.10</td>\n",
              "      <td>Sherry</td>\n",
              "      <td>NaN</td>\n",
              "      <td>NaN</td>\n",
              "    </tr>\n",
              "    <tr>\n",
              "      <th>2037</th>\n",
              "      <td>Lustau</td>\n",
              "      <td>Candela Cream Dulce Sweet</td>\n",
              "      <td>N.V.</td>\n",
              "      <td>4.2</td>\n",
              "      <td>405</td>\n",
              "      <td>Jerez-Xeres-Sherry</td>\n",
              "      <td>7.10</td>\n",
              "      <td>Sherry</td>\n",
              "      <td>4.0</td>\n",
              "      <td>3.0</td>\n",
              "    </tr>\n",
              "  </tbody>\n",
              "</table>\n",
              "<p>70 rows × 10 columns</p>\n",
              "</div>\n",
              "      <button class=\"colab-df-convert\" onclick=\"convertToInteractive('df-41f7c19d-430f-4163-a27a-10f16c33e9a1')\"\n",
              "              title=\"Convert this dataframe to an interactive table.\"\n",
              "              style=\"display:none;\">\n",
              "        \n",
              "  <svg xmlns=\"http://www.w3.org/2000/svg\" height=\"24px\"viewBox=\"0 0 24 24\"\n",
              "       width=\"24px\">\n",
              "    <path d=\"M0 0h24v24H0V0z\" fill=\"none\"/>\n",
              "    <path d=\"M18.56 5.44l.94 2.06.94-2.06 2.06-.94-2.06-.94-.94-2.06-.94 2.06-2.06.94zm-11 1L8.5 8.5l.94-2.06 2.06-.94-2.06-.94L8.5 2.5l-.94 2.06-2.06.94zm10 10l.94 2.06.94-2.06 2.06-.94-2.06-.94-.94-2.06-.94 2.06-2.06.94z\"/><path d=\"M17.41 7.96l-1.37-1.37c-.4-.4-.92-.59-1.43-.59-.52 0-1.04.2-1.43.59L10.3 9.45l-7.72 7.72c-.78.78-.78 2.05 0 2.83L4 21.41c.39.39.9.59 1.41.59.51 0 1.02-.2 1.41-.59l7.78-7.78 2.81-2.81c.8-.78.8-2.07 0-2.86zM5.41 20L4 18.59l7.72-7.72 1.47 1.35L5.41 20z\"/>\n",
              "  </svg>\n",
              "      </button>\n",
              "      \n",
              "  <style>\n",
              "    .colab-df-container {\n",
              "      display:flex;\n",
              "      flex-wrap:wrap;\n",
              "      gap: 12px;\n",
              "    }\n",
              "\n",
              "    .colab-df-convert {\n",
              "      background-color: #E8F0FE;\n",
              "      border: none;\n",
              "      border-radius: 50%;\n",
              "      cursor: pointer;\n",
              "      display: none;\n",
              "      fill: #1967D2;\n",
              "      height: 32px;\n",
              "      padding: 0 0 0 0;\n",
              "      width: 32px;\n",
              "    }\n",
              "\n",
              "    .colab-df-convert:hover {\n",
              "      background-color: #E2EBFA;\n",
              "      box-shadow: 0px 1px 2px rgba(60, 64, 67, 0.3), 0px 1px 3px 1px rgba(60, 64, 67, 0.15);\n",
              "      fill: #174EA6;\n",
              "    }\n",
              "\n",
              "    [theme=dark] .colab-df-convert {\n",
              "      background-color: #3B4455;\n",
              "      fill: #D2E3FC;\n",
              "    }\n",
              "\n",
              "    [theme=dark] .colab-df-convert:hover {\n",
              "      background-color: #434B5C;\n",
              "      box-shadow: 0px 1px 3px 1px rgba(0, 0, 0, 0.15);\n",
              "      filter: drop-shadow(0px 1px 2px rgba(0, 0, 0, 0.3));\n",
              "      fill: #FFFFFF;\n",
              "    }\n",
              "  </style>\n",
              "\n",
              "      <script>\n",
              "        const buttonEl =\n",
              "          document.querySelector('#df-41f7c19d-430f-4163-a27a-10f16c33e9a1 button.colab-df-convert');\n",
              "        buttonEl.style.display =\n",
              "          google.colab.kernel.accessAllowed ? 'block' : 'none';\n",
              "\n",
              "        async function convertToInteractive(key) {\n",
              "          const element = document.querySelector('#df-41f7c19d-430f-4163-a27a-10f16c33e9a1');\n",
              "          const dataTable =\n",
              "            await google.colab.kernel.invokeFunction('convertToInteractive',\n",
              "                                                     [key], {});\n",
              "          if (!dataTable) return;\n",
              "\n",
              "          const docLinkHtml = 'Like what you see? Visit the ' +\n",
              "            '<a target=\"_blank\" href=https://colab.research.google.com/notebooks/data_table.ipynb>data table notebook</a>'\n",
              "            + ' to learn more about interactive tables.';\n",
              "          element.innerHTML = '';\n",
              "          dataTable['output_type'] = 'display_data';\n",
              "          await google.colab.output.renderOutput(dataTable, element);\n",
              "          const docLink = document.createElement('div');\n",
              "          docLink.innerHTML = docLinkHtml;\n",
              "          element.appendChild(docLink);\n",
              "        }\n",
              "      </script>\n",
              "    </div>\n",
              "  </div>\n",
              "  "
            ]
          },
          "metadata": {},
          "execution_count": 273
        }
      ]
    },
    {
      "cell_type": "markdown",
      "source": [
        "I checked the data dictionary, it doesn't tell what \"N.V.\" means here.So I decided to drop these rows."
      ],
      "metadata": {
        "id": "msr1MGYwo3el"
      }
    },
    {
      "cell_type": "code",
      "source": [
        "df.drop(df[df[\"year\"]==\"N.V.\"].index, inplace=True)"
      ],
      "metadata": {
        "id": "W7IAiM62wSEd"
      },
      "execution_count": null,
      "outputs": []
    },
    {
      "cell_type": "code",
      "source": [
        "df[\"year\"] = df[\"year\"].astype(float)\n",
        "df.dtypes"
      ],
      "metadata": {
        "colab": {
          "base_uri": "https://localhost:8080/"
        },
        "id": "H_AkhKJfk_iL",
        "outputId": "4909b540-cba6-4e69-ada9-7bf25f18086e"
      },
      "execution_count": null,
      "outputs": [
        {
          "output_type": "execute_result",
          "data": {
            "text/plain": [
              "winery          object\n",
              "wine            object\n",
              "year           float64\n",
              "rating         float64\n",
              "num_reviews      int64\n",
              "region          object\n",
              "price          float64\n",
              "type            object\n",
              "body           float64\n",
              "acidity        float64\n",
              "dtype: object"
            ]
          },
          "metadata": {},
          "execution_count": 275
        }
      ]
    },
    {
      "cell_type": "code",
      "source": [
        "df.shape"
      ],
      "metadata": {
        "colab": {
          "base_uri": "https://localhost:8080/"
        },
        "id": "2hF5qVmjsHin",
        "outputId": "1cdf0e32-63ef-4d19-a2a9-a4875a0f041a"
      },
      "execution_count": null,
      "outputs": [
        {
          "output_type": "execute_result",
          "data": {
            "text/plain": [
              "(1978, 10)"
            ]
          },
          "metadata": {},
          "execution_count": 276
        }
      ]
    },
    {
      "cell_type": "markdown",
      "source": [
        "# Prepare the data appropriately for modeling"
      ],
      "metadata": {
        "id": "sGqVKSaMfmjV"
      }
    },
    {
      "cell_type": "markdown",
      "source": [
        "**Define X, y, train test split**"
      ],
      "metadata": {
        "id": "U2t6e3qHgNFL"
      }
    },
    {
      "cell_type": "code",
      "source": [
        "X=df.drop(columns =\"price\")\n",
        "y=df[\"price\"]\n",
        "X_train, X_test, y_train, y_test = train_test_split(X, y, random_state = 42)"
      ],
      "metadata": {
        "id": "_ATZLgo5ftVF"
      },
      "execution_count": null,
      "outputs": []
    },
    {
      "cell_type": "markdown",
      "source": [
        "**Identify Columns Features**"
      ],
      "metadata": {
        "id": "KDdkEXiSgSDG"
      }
    },
    {
      "cell_type": "markdown",
      "source": [
        "\n",
        "\n",
        "*   Numeric Features: year, rating, num_reviews, price, body, acidity\n",
        "*   Nominal Features: winery, wine, region, type\n",
        "*   Nominal Features: none\n",
        "\n",
        "\n",
        "\n"
      ],
      "metadata": {
        "id": "S41x85HZgpuw"
      }
    },
    {
      "cell_type": "markdown",
      "source": [
        "**Make column selectors**"
      ],
      "metadata": {
        "id": "ooG3y1iAhvqD"
      }
    },
    {
      "cell_type": "code",
      "source": [
        "num_selector = make_column_selector(dtype_include='number')\n",
        "cat_selector = make_column_selector(dtype_include='object')"
      ],
      "metadata": {
        "id": "SA33bveyhrHX"
      },
      "execution_count": null,
      "outputs": []
    },
    {
      "cell_type": "markdown",
      "source": [
        "**Instantiate transformers**"
      ],
      "metadata": {
        "id": "xvGP_UnuiKxC"
      }
    },
    {
      "cell_type": "code",
      "source": [
        "mean_imputer = SimpleImputer(strategy= 'mean')# To fill the missing values in \"body\" and \"acidity\". \n",
        "ohe_encoder = OneHotEncoder(sparse=False, handle_unknown='ignore')\n",
        "scaler = StandardScaler()"
      ],
      "metadata": {
        "id": "-3EfnuaviOWQ"
      },
      "execution_count": null,
      "outputs": []
    },
    {
      "cell_type": "markdown",
      "source": [
        "**Filling the missing values in \"type\" and \"year\" by using Fillna fuction**"
      ],
      "metadata": {
        "id": "h8F6gMHRid2_"
      }
    },
    {
      "cell_type": "code",
      "source": [
        "X_train[\"type\"].fillna('Unidentified', inplace=True)\n",
        "X_test[\"type\"].fillna('Unidentified', inplace=True)\n"
      ],
      "metadata": {
        "id": "2B9y27iSitS0"
      },
      "execution_count": null,
      "outputs": []
    },
    {
      "cell_type": "code",
      "source": [
        "X_train[\"year\"].fillna(2018, inplace=True)\n",
        "X_test[\"year\"].fillna(2018, inplace=True)\n"
      ],
      "metadata": {
        "id": "t2d10Hphj_kM"
      },
      "execution_count": null,
      "outputs": []
    },
    {
      "cell_type": "markdown",
      "source": [
        "**Create piplines**"
      ],
      "metadata": {
        "id": "TGgh547rnpqT"
      }
    },
    {
      "cell_type": "code",
      "source": [
        "num_pipe = make_pipeline(mean_imputer, scaler)"
      ],
      "metadata": {
        "id": "1A3mZJgXntcr"
      },
      "execution_count": null,
      "outputs": []
    },
    {
      "cell_type": "markdown",
      "source": [
        "**Create Tuples to Pair Pipelines with Columns**"
      ],
      "metadata": {
        "id": "QA2Wb31nn_Ht"
      }
    },
    {
      "cell_type": "code",
      "source": [
        "number_tuple = (num_pipe, num_selector)\n",
        "nom_tuple = (ohe_encoder, cat_selector)"
      ],
      "metadata": {
        "id": "9fVPogTjoESi"
      },
      "execution_count": null,
      "outputs": []
    },
    {
      "cell_type": "markdown",
      "source": [
        "**Instantiate the ColumnTransformer**"
      ],
      "metadata": {
        "id": "g6wITTzaojIF"
      }
    },
    {
      "cell_type": "code",
      "source": [
        "preprocessor = make_column_transformer(nom_tuple,  number_tuple,  remainder='drop')                                                                      "
      ],
      "metadata": {
        "id": "IJMaDH5-olU_"
      },
      "execution_count": null,
      "outputs": []
    },
    {
      "cell_type": "markdown",
      "source": [
        "# Try multiple models and tune the hyperparameters of the models to find out the best final model"
      ],
      "metadata": {
        "id": "QRLT6U-6pcbX"
      }
    },
    {
      "cell_type": "markdown",
      "source": [
        "Define a function that takes true and predicted values as arguments\n",
        "and prints all 4 metrics "
      ],
      "metadata": {
        "id": "TIr4jCDOrhrr"
      }
    },
    {
      "cell_type": "code",
      "source": [
        "def eval_regression(true, pred):\n",
        "  mae = mean_absolute_error(true, pred)\n",
        "  mse = mean_squared_error(true, pred)\n",
        "  rmse = np.sqrt(mse)\n",
        "  r2 = r2_score(true, pred)\n",
        "\n",
        "  print(f'MAE {mae},\\n MSE {mse},\\n RMSE: {rmse},\\n R^2: {r2} ')"
      ],
      "metadata": {
        "id": "iNz3PDzQp5oQ"
      },
      "execution_count": null,
      "outputs": []
    },
    {
      "cell_type": "markdown",
      "source": [
        "**Model 1: Baseline Model**"
      ],
      "metadata": {
        "id": "lH3cg1_GsdF6"
      }
    },
    {
      "cell_type": "code",
      "source": [
        "# instantiate a baseline model\n",
        "dummy_reg = DummyRegressor(strategy='mean')"
      ],
      "metadata": {
        "id": "Yc006v5Tr1Mz"
      },
      "execution_count": null,
      "outputs": []
    },
    {
      "cell_type": "code",
      "source": [
        "# create model pipeline\n",
        "base_pipe = make_pipeline(preprocessor, dummy_reg)\n",
        "\n",
        "base_pipe.fit(X_train, y_train)"
      ],
      "metadata": {
        "colab": {
          "base_uri": "https://localhost:8080/"
        },
        "id": "AIBh854HstQm",
        "outputId": "ef370c90-b0a7-456c-fabd-159709a600c3"
      },
      "execution_count": null,
      "outputs": [
        {
          "output_type": "execute_result",
          "data": {
            "text/plain": [
              "Pipeline(steps=[('columntransformer',\n",
              "                 ColumnTransformer(transformers=[('onehotencoder',\n",
              "                                                  OneHotEncoder(handle_unknown='ignore',\n",
              "                                                                sparse=False),\n",
              "                                                  <sklearn.compose._column_transformer.make_column_selector object at 0x7f7e9b5c3690>),\n",
              "                                                 ('pipeline',\n",
              "                                                  Pipeline(steps=[('simpleimputer',\n",
              "                                                                   SimpleImputer()),\n",
              "                                                                  ('standardscaler',\n",
              "                                                                   StandardScaler())]),\n",
              "                                                  <sklearn.compose._column_transformer.make_column_selector object at 0x7f7e9b5c30d0>)])),\n",
              "                ('dummyregressor', DummyRegressor())])"
            ]
          },
          "metadata": {},
          "execution_count": 287
        }
      ]
    },
    {
      "cell_type": "code",
      "source": [
        "# find MAE, MSE, RMSE and R2 on the baseline model for both the train and test data\n",
        "print('Train Evaluation')\n",
        "eval_regression(y_train, base_pipe.predict(X_train))\n",
        "\n",
        "print('\\nTest Evaluation')\n",
        "eval_regression(y_test, base_pipe.predict(X_test))"
      ],
      "metadata": {
        "colab": {
          "base_uri": "https://localhost:8080/"
        },
        "id": "rNh1LcnOs9V2",
        "outputId": "5213b9a0-ff2e-4383-adfe-492fcd4f7098"
      },
      "execution_count": null,
      "outputs": [
        {
          "output_type": "stream",
          "name": "stdout",
          "text": [
            "Train Evaluation\n",
            "MAE 136.81661664457778,\n",
            " MSE 69011.44063521981,\n",
            " RMSE: 262.70028670562925,\n",
            " R^2: 0.0 \n",
            "\n",
            "Test Evaluation\n",
            "MAE 140.56462624592072,\n",
            " MSE 98340.3743166096,\n",
            " RMSE: 313.59268855732205,\n",
            " R^2: -0.0003932989341515203 \n"
          ]
        }
      ]
    },
    {
      "cell_type": "markdown",
      "source": [
        "**Model 2:Linear Regression Model**"
      ],
      "metadata": {
        "id": "YVZzFjLXtL1y"
      }
    },
    {
      "cell_type": "code",
      "source": [
        "# instantiate a linear regression model\n",
        "lin_reg = lin_reg = LinearRegression()"
      ],
      "metadata": {
        "id": "TIxaIa5LtS08"
      },
      "execution_count": null,
      "outputs": []
    },
    {
      "cell_type": "code",
      "source": [
        "# create model pipeline\n",
        "lin_reg_pipe = make_pipeline(preprocessor, lin_reg)\n",
        "lin_reg_pipe.fit(X_train, y_train);"
      ],
      "metadata": {
        "id": "SQyWiYiltsc-"
      },
      "execution_count": null,
      "outputs": []
    },
    {
      "cell_type": "code",
      "source": [
        "# find MAE, MSE, RMSE and R2 on the linear regression model for both the train and test data\n",
        "print('Train Evaluation')\n",
        "eval_regression(y_train, lin_reg_pipe.predict(X_train))\n",
        "\n",
        "print('\\nTest Evaluation')\n",
        "eval_regression(y_test, lin_reg_pipe.predict(X_test))"
      ],
      "metadata": {
        "colab": {
          "base_uri": "https://localhost:8080/"
        },
        "id": "NPuSQIGwuO8I",
        "outputId": "df62e0a6-a002-4a83-db3c-ab3841c58843"
      },
      "execution_count": null,
      "outputs": [
        {
          "output_type": "stream",
          "name": "stdout",
          "text": [
            "Train Evaluation\n",
            "MAE 55.62212060463251,\n",
            " MSE 12325.322972071312,\n",
            " RMSE: 111.01947113939659,\n",
            " R^2: 0.8214017435569789 \n",
            "\n",
            "Test Evaluation\n",
            "MAE 48190910089146.32,\n",
            " MSE 1.955254032877776e+28,\n",
            " RMSE: 139830398443177.44,\n",
            " R^2: -1.9890335437481975e+23 \n"
          ]
        }
      ]
    },
    {
      "cell_type": "markdown",
      "source": [
        "**Model 3: DecisionTree Model**"
      ],
      "metadata": {
        "id": "tp1S8xdfukbz"
      }
    },
    {
      "cell_type": "code",
      "source": [
        "#use all of the default parameters, instantiate a decision tree model\n",
        "dec_tree = DecisionTreeRegressor(random_state = 42)"
      ],
      "metadata": {
        "id": "cRYOH2o-u7_c"
      },
      "execution_count": null,
      "outputs": []
    },
    {
      "cell_type": "code",
      "source": [
        "# create model pipeline\n",
        "dec_tree_pipe = make_pipeline(preprocessor, dec_tree)\n",
        "dec_tree_pipe.fit(X_train, y_train);"
      ],
      "metadata": {
        "id": "VQEfE_1txY-d"
      },
      "execution_count": null,
      "outputs": []
    },
    {
      "cell_type": "code",
      "source": [
        "# find MAE, MSE, RMSE and R2 on the decision tree model for both the train and test data\n",
        "print('Train Evaluation')\n",
        "eval_regression(y_train, dec_tree_pipe.predict(X_train))\n",
        "\n",
        "print('\\nTest Evaluation')\n",
        "eval_regression(y_test, dec_tree_pipe.predict(X_test))"
      ],
      "metadata": {
        "colab": {
          "base_uri": "https://localhost:8080/"
        },
        "id": "GjrX2XT2yP21",
        "outputId": "8bc8a2aa-774c-46d8-fa16-3431d6732829"
      },
      "execution_count": null,
      "outputs": [
        {
          "output_type": "stream",
          "name": "stdout",
          "text": [
            "Train Evaluation\n",
            "MAE 1.221769370322492e-16,\n",
            " MSE 6.561960975594336e-30,\n",
            " RMSE: 2.5616324825381053e-15,\n",
            " R^2: 1.0 \n",
            "\n",
            "Test Evaluation\n",
            "MAE 64.11083932343435,\n",
            " MSE 38699.33721390723,\n",
            " RMSE: 196.721471156321,\n",
            " R^2: 0.606320823049308 \n"
          ]
        }
      ]
    },
    {
      "cell_type": "markdown",
      "source": [
        "**Tune the decision tree model: finding the optimal max_depth**"
      ],
      "metadata": {
        "id": "7tQ_H427yl4R"
      }
    },
    {
      "cell_type": "code",
      "source": [
        "# find the depth of the default tree\n",
        "dec_tree.get_depth()"
      ],
      "metadata": {
        "colab": {
          "base_uri": "https://localhost:8080/"
        },
        "id": "JmsuvMgEy9Gb",
        "outputId": "e254b5ef-f344-4d06-f260-ec8ea5c66d0e"
      },
      "execution_count": null,
      "outputs": [
        {
          "output_type": "execute_result",
          "data": {
            "text/plain": [
              "72"
            ]
          },
          "metadata": {},
          "execution_count": 295
        }
      ]
    },
    {
      "cell_type": "code",
      "source": [
        "#Use a for loop help to try many values to find out the optimal max_depth.\n",
        "depths = list(range(2, 132))\n",
        "scores = pd.DataFrame(index=depths, columns=['Test Score','Train Score'])\n",
        "for depth in depths:\n",
        "    dec_tree = DecisionTreeRegressor(max_depth=depth, random_state=42)\n",
        "    dec_tree_pipe = make_pipeline(preprocessor, dec_tree)\n",
        "    dec_tree_pipe.fit(X_train, y_train)\n",
        "    train_score = dec_tree_pipe.score(X_train, y_train)\n",
        "    test_score = dec_tree_pipe.score(X_test, y_test)\n",
        "    scores.loc[depth, 'Train Score'] = train_score\n",
        "    scores.loc[depth, 'Test Score'] = test_score"
      ],
      "metadata": {
        "id": "gzzgYk3w0BV1"
      },
      "execution_count": null,
      "outputs": []
    },
    {
      "cell_type": "code",
      "source": [
        "#use sort_values to sort out the best score\n",
        "sorted_scores = scores.sort_values(by='Test Score', ascending=False)\n",
        "sorted_scores.head()"
      ],
      "metadata": {
        "colab": {
          "base_uri": "https://localhost:8080/",
          "height": 206
        },
        "id": "oEegLsNv0r3D",
        "outputId": "5ae2a638-24d3-4a92-aa87-66bd5fd2d1e4"
      },
      "execution_count": null,
      "outputs": [
        {
          "output_type": "execute_result",
          "data": {
            "text/plain": [
              "   Test Score Train Score\n",
              "42   0.666689    0.999306\n",
              "37   0.665015    0.998654\n",
              "35   0.664006    0.998397\n",
              "63   0.662086    0.999992\n",
              "68   0.661489         1.0"
            ],
            "text/html": [
              "\n",
              "  <div id=\"df-a64772ac-ff8a-432e-b1b8-9c227e89d6f3\">\n",
              "    <div class=\"colab-df-container\">\n",
              "      <div>\n",
              "<style scoped>\n",
              "    .dataframe tbody tr th:only-of-type {\n",
              "        vertical-align: middle;\n",
              "    }\n",
              "\n",
              "    .dataframe tbody tr th {\n",
              "        vertical-align: top;\n",
              "    }\n",
              "\n",
              "    .dataframe thead th {\n",
              "        text-align: right;\n",
              "    }\n",
              "</style>\n",
              "<table border=\"1\" class=\"dataframe\">\n",
              "  <thead>\n",
              "    <tr style=\"text-align: right;\">\n",
              "      <th></th>\n",
              "      <th>Test Score</th>\n",
              "      <th>Train Score</th>\n",
              "    </tr>\n",
              "  </thead>\n",
              "  <tbody>\n",
              "    <tr>\n",
              "      <th>42</th>\n",
              "      <td>0.666689</td>\n",
              "      <td>0.999306</td>\n",
              "    </tr>\n",
              "    <tr>\n",
              "      <th>37</th>\n",
              "      <td>0.665015</td>\n",
              "      <td>0.998654</td>\n",
              "    </tr>\n",
              "    <tr>\n",
              "      <th>35</th>\n",
              "      <td>0.664006</td>\n",
              "      <td>0.998397</td>\n",
              "    </tr>\n",
              "    <tr>\n",
              "      <th>63</th>\n",
              "      <td>0.662086</td>\n",
              "      <td>0.999992</td>\n",
              "    </tr>\n",
              "    <tr>\n",
              "      <th>68</th>\n",
              "      <td>0.661489</td>\n",
              "      <td>1.0</td>\n",
              "    </tr>\n",
              "  </tbody>\n",
              "</table>\n",
              "</div>\n",
              "      <button class=\"colab-df-convert\" onclick=\"convertToInteractive('df-a64772ac-ff8a-432e-b1b8-9c227e89d6f3')\"\n",
              "              title=\"Convert this dataframe to an interactive table.\"\n",
              "              style=\"display:none;\">\n",
              "        \n",
              "  <svg xmlns=\"http://www.w3.org/2000/svg\" height=\"24px\"viewBox=\"0 0 24 24\"\n",
              "       width=\"24px\">\n",
              "    <path d=\"M0 0h24v24H0V0z\" fill=\"none\"/>\n",
              "    <path d=\"M18.56 5.44l.94 2.06.94-2.06 2.06-.94-2.06-.94-.94-2.06-.94 2.06-2.06.94zm-11 1L8.5 8.5l.94-2.06 2.06-.94-2.06-.94L8.5 2.5l-.94 2.06-2.06.94zm10 10l.94 2.06.94-2.06 2.06-.94-2.06-.94-.94-2.06-.94 2.06-2.06.94z\"/><path d=\"M17.41 7.96l-1.37-1.37c-.4-.4-.92-.59-1.43-.59-.52 0-1.04.2-1.43.59L10.3 9.45l-7.72 7.72c-.78.78-.78 2.05 0 2.83L4 21.41c.39.39.9.59 1.41.59.51 0 1.02-.2 1.41-.59l7.78-7.78 2.81-2.81c.8-.78.8-2.07 0-2.86zM5.41 20L4 18.59l7.72-7.72 1.47 1.35L5.41 20z\"/>\n",
              "  </svg>\n",
              "      </button>\n",
              "      \n",
              "  <style>\n",
              "    .colab-df-container {\n",
              "      display:flex;\n",
              "      flex-wrap:wrap;\n",
              "      gap: 12px;\n",
              "    }\n",
              "\n",
              "    .colab-df-convert {\n",
              "      background-color: #E8F0FE;\n",
              "      border: none;\n",
              "      border-radius: 50%;\n",
              "      cursor: pointer;\n",
              "      display: none;\n",
              "      fill: #1967D2;\n",
              "      height: 32px;\n",
              "      padding: 0 0 0 0;\n",
              "      width: 32px;\n",
              "    }\n",
              "\n",
              "    .colab-df-convert:hover {\n",
              "      background-color: #E2EBFA;\n",
              "      box-shadow: 0px 1px 2px rgba(60, 64, 67, 0.3), 0px 1px 3px 1px rgba(60, 64, 67, 0.15);\n",
              "      fill: #174EA6;\n",
              "    }\n",
              "\n",
              "    [theme=dark] .colab-df-convert {\n",
              "      background-color: #3B4455;\n",
              "      fill: #D2E3FC;\n",
              "    }\n",
              "\n",
              "    [theme=dark] .colab-df-convert:hover {\n",
              "      background-color: #434B5C;\n",
              "      box-shadow: 0px 1px 3px 1px rgba(0, 0, 0, 0.15);\n",
              "      filter: drop-shadow(0px 1px 2px rgba(0, 0, 0, 0.3));\n",
              "      fill: #FFFFFF;\n",
              "    }\n",
              "  </style>\n",
              "\n",
              "      <script>\n",
              "        const buttonEl =\n",
              "          document.querySelector('#df-a64772ac-ff8a-432e-b1b8-9c227e89d6f3 button.colab-df-convert');\n",
              "        buttonEl.style.display =\n",
              "          google.colab.kernel.accessAllowed ? 'block' : 'none';\n",
              "\n",
              "        async function convertToInteractive(key) {\n",
              "          const element = document.querySelector('#df-a64772ac-ff8a-432e-b1b8-9c227e89d6f3');\n",
              "          const dataTable =\n",
              "            await google.colab.kernel.invokeFunction('convertToInteractive',\n",
              "                                                     [key], {});\n",
              "          if (!dataTable) return;\n",
              "\n",
              "          const docLinkHtml = 'Like what you see? Visit the ' +\n",
              "            '<a target=\"_blank\" href=https://colab.research.google.com/notebooks/data_table.ipynb>data table notebook</a>'\n",
              "            + ' to learn more about interactive tables.';\n",
              "          element.innerHTML = '';\n",
              "          dataTable['output_type'] = 'display_data';\n",
              "          await google.colab.output.renderOutput(dataTable, element);\n",
              "          const docLink = document.createElement('div');\n",
              "          docLink.innerHTML = docLinkHtml;\n",
              "          element.appendChild(docLink);\n",
              "        }\n",
              "      </script>\n",
              "    </div>\n",
              "  </div>\n",
              "  "
            ]
          },
          "metadata": {},
          "execution_count": 297
        }
      ]
    },
    {
      "cell_type": "markdown",
      "source": [
        "we can see that when the max_depth = 74, we have the best test score."
      ],
      "metadata": {
        "id": "M7V_KZvZ1EN9"
      }
    },
    {
      "cell_type": "code",
      "source": [
        "#instantiate a decision tree model with the max_depth = 74 and create the pipeline\n",
        "dec_tree_74 = DecisionTreeRegressor(max_depth=74, random_state=42)\n",
        "dec_tree_74_pipe = make_pipeline(preprocessor, dec_tree)\n",
        "dec_tree_74_pipe.fit(X_train, y_train)"
      ],
      "metadata": {
        "colab": {
          "base_uri": "https://localhost:8080/"
        },
        "id": "x9ytOBke1Pzu",
        "outputId": "a5e404b0-3116-40b9-a6cc-39de63ad041d"
      },
      "execution_count": null,
      "outputs": [
        {
          "output_type": "execute_result",
          "data": {
            "text/plain": [
              "Pipeline(steps=[('columntransformer',\n",
              "                 ColumnTransformer(transformers=[('onehotencoder',\n",
              "                                                  OneHotEncoder(handle_unknown='ignore',\n",
              "                                                                sparse=False),\n",
              "                                                  <sklearn.compose._column_transformer.make_column_selector object at 0x7f7e9b5c3690>),\n",
              "                                                 ('pipeline',\n",
              "                                                  Pipeline(steps=[('simpleimputer',\n",
              "                                                                   SimpleImputer()),\n",
              "                                                                  ('standardscaler',\n",
              "                                                                   StandardScaler())]),\n",
              "                                                  <sklearn.compose._column_transformer.make_column_selector object at 0x7f7e9b5c30d0>)])),\n",
              "                ('decisiontreeregressor',\n",
              "                 DecisionTreeRegressor(max_depth=131, random_state=42))])"
            ]
          },
          "metadata": {},
          "execution_count": 298
        }
      ]
    },
    {
      "cell_type": "code",
      "source": [
        "# find MAE, MSE, RMSE and R2 on the decision tree model with the best max_depth = 74 for both the train and test data\n",
        "print('Train Evaluation')\n",
        "eval_regression(y_train, dec_tree_74_pipe.predict(X_train))\n",
        "\n",
        "print('\\nTest Evaluation')\n",
        "eval_regression(y_test, dec_tree_74_pipe.predict(X_test))"
      ],
      "metadata": {
        "colab": {
          "base_uri": "https://localhost:8080/"
        },
        "id": "0D-XnvHY14DS",
        "outputId": "910e43fa-23eb-4256-ad58-84b4627c69d1"
      },
      "execution_count": null,
      "outputs": [
        {
          "output_type": "stream",
          "name": "stdout",
          "text": [
            "Train Evaluation\n",
            "MAE 1.221769370322492e-16,\n",
            " MSE 6.561960975594336e-30,\n",
            " RMSE: 2.5616324825381053e-15,\n",
            " R^2: 1.0 \n",
            "\n",
            "Test Evaluation\n",
            "MAE 64.11083932343435,\n",
            " MSE 38699.33721390723,\n",
            " RMSE: 196.721471156321,\n",
            " R^2: 0.606320823049308 \n"
          ]
        }
      ]
    },
    {
      "cell_type": "markdown",
      "source": [
        "**Model 4: Bagged Trees Model**"
      ],
      "metadata": {
        "id": "HTgPDTlo2sC2"
      }
    },
    {
      "cell_type": "code",
      "source": [
        "#use all of the default parameters, instantiate a bagged tree model\n",
        "bagreg = BaggingRegressor(random_state = 42)"
      ],
      "metadata": {
        "id": "VnYk5hQb2-J3"
      },
      "execution_count": null,
      "outputs": []
    },
    {
      "cell_type": "code",
      "source": [
        "# create model pipeline\n",
        "bagreg_pipe = make_pipeline(preprocessor, bagreg)\n",
        "bagreg_pipe.fit(X_train, y_train);"
      ],
      "metadata": {
        "id": "7QkViQ_T3kz3"
      },
      "execution_count": null,
      "outputs": []
    },
    {
      "cell_type": "code",
      "source": [
        "# find MAE, MSE, RMSE and R2 on the bagged tree model for both the train and test data\n",
        "print('Train Evaluation')\n",
        "eval_regression(y_train, bagreg_pipe.predict(X_train))\n",
        "\n",
        "print('\\nTest Evaluation')\n",
        "eval_regression(y_test, bagreg_pipe.predict(X_test))"
      ],
      "metadata": {
        "colab": {
          "base_uri": "https://localhost:8080/"
        },
        "id": "YedYWPNS37nC",
        "outputId": "462e2206-8efc-4079-c986-ca98279f2e1a"
      },
      "execution_count": null,
      "outputs": [
        {
          "output_type": "stream",
          "name": "stdout",
          "text": [
            "Train Evaluation\n",
            "MAE 18.291313427030346,\n",
            " MSE 2819.5565091036437,\n",
            " RMSE: 53.09949631685449,\n",
            " R^2: 0.9591436364296866 \n",
            "\n",
            "Test Evaluation\n",
            "MAE 57.92638929570505,\n",
            " MSE 38504.045324248604,\n",
            " RMSE: 196.2244768734232,\n",
            " R^2: 0.6083074811143027 \n"
          ]
        }
      ]
    },
    {
      "cell_type": "markdown",
      "source": [
        "**Tune the bagged tree model: finding the optimal n_estimators**"
      ],
      "metadata": {
        "id": "bHjCUxKY4kxe"
      }
    },
    {
      "cell_type": "code",
      "source": [
        "#using a for loop help to try many values to find out the optimal n_estimators\n",
        "estimators = [10, 30, 60, 80, 100, 120]\n",
        "scores = pd.DataFrame(index=estimators, columns=['Train Score', 'Test Score'])\n",
        "for num_estimators in estimators:\n",
        "   bagreg = BaggingRegressor(n_estimators=num_estimators, random_state=42)\n",
        "   bagreg_pipe = make_pipeline(preprocessor, bagreg)\n",
        "   bagreg_pipe.fit(X_train, y_train)\n",
        "   train_score = bagreg_pipe.score(X_train, y_train)\n",
        "   test_score = bagreg_pipe.score(X_test, y_test)\n",
        "   scores.loc[num_estimators, 'Train Score'] = train_score\n",
        "   scores.loc[num_estimators, 'Test Score'] = test_score"
      ],
      "metadata": {
        "id": "nSKdcgmJ5n6J"
      },
      "execution_count": null,
      "outputs": []
    },
    {
      "cell_type": "code",
      "source": [
        "#use sort_values to sort out the best score\n",
        "sorted_scores = scores.sort_values(by='Test Score', ascending=False)\n",
        "sorted_scores.head()"
      ],
      "metadata": {
        "colab": {
          "base_uri": "https://localhost:8080/",
          "height": 206
        },
        "id": "ZMfR_CDo6z3A",
        "outputId": "f297d1d3-2a24-4524-8e80-f711058656dd"
      },
      "execution_count": null,
      "outputs": [
        {
          "output_type": "execute_result",
          "data": {
            "text/plain": [
              "    Train Score Test Score\n",
              "100    0.963497   0.661828\n",
              "120    0.964016   0.661765\n",
              "80     0.963625   0.660033\n",
              "60      0.96029   0.651452\n",
              "30     0.961952   0.642305"
            ],
            "text/html": [
              "\n",
              "  <div id=\"df-79036110-f2c3-4a92-bdf3-c62a132cdaca\">\n",
              "    <div class=\"colab-df-container\">\n",
              "      <div>\n",
              "<style scoped>\n",
              "    .dataframe tbody tr th:only-of-type {\n",
              "        vertical-align: middle;\n",
              "    }\n",
              "\n",
              "    .dataframe tbody tr th {\n",
              "        vertical-align: top;\n",
              "    }\n",
              "\n",
              "    .dataframe thead th {\n",
              "        text-align: right;\n",
              "    }\n",
              "</style>\n",
              "<table border=\"1\" class=\"dataframe\">\n",
              "  <thead>\n",
              "    <tr style=\"text-align: right;\">\n",
              "      <th></th>\n",
              "      <th>Train Score</th>\n",
              "      <th>Test Score</th>\n",
              "    </tr>\n",
              "  </thead>\n",
              "  <tbody>\n",
              "    <tr>\n",
              "      <th>100</th>\n",
              "      <td>0.963497</td>\n",
              "      <td>0.661828</td>\n",
              "    </tr>\n",
              "    <tr>\n",
              "      <th>120</th>\n",
              "      <td>0.964016</td>\n",
              "      <td>0.661765</td>\n",
              "    </tr>\n",
              "    <tr>\n",
              "      <th>80</th>\n",
              "      <td>0.963625</td>\n",
              "      <td>0.660033</td>\n",
              "    </tr>\n",
              "    <tr>\n",
              "      <th>60</th>\n",
              "      <td>0.96029</td>\n",
              "      <td>0.651452</td>\n",
              "    </tr>\n",
              "    <tr>\n",
              "      <th>30</th>\n",
              "      <td>0.961952</td>\n",
              "      <td>0.642305</td>\n",
              "    </tr>\n",
              "  </tbody>\n",
              "</table>\n",
              "</div>\n",
              "      <button class=\"colab-df-convert\" onclick=\"convertToInteractive('df-79036110-f2c3-4a92-bdf3-c62a132cdaca')\"\n",
              "              title=\"Convert this dataframe to an interactive table.\"\n",
              "              style=\"display:none;\">\n",
              "        \n",
              "  <svg xmlns=\"http://www.w3.org/2000/svg\" height=\"24px\"viewBox=\"0 0 24 24\"\n",
              "       width=\"24px\">\n",
              "    <path d=\"M0 0h24v24H0V0z\" fill=\"none\"/>\n",
              "    <path d=\"M18.56 5.44l.94 2.06.94-2.06 2.06-.94-2.06-.94-.94-2.06-.94 2.06-2.06.94zm-11 1L8.5 8.5l.94-2.06 2.06-.94-2.06-.94L8.5 2.5l-.94 2.06-2.06.94zm10 10l.94 2.06.94-2.06 2.06-.94-2.06-.94-.94-2.06-.94 2.06-2.06.94z\"/><path d=\"M17.41 7.96l-1.37-1.37c-.4-.4-.92-.59-1.43-.59-.52 0-1.04.2-1.43.59L10.3 9.45l-7.72 7.72c-.78.78-.78 2.05 0 2.83L4 21.41c.39.39.9.59 1.41.59.51 0 1.02-.2 1.41-.59l7.78-7.78 2.81-2.81c.8-.78.8-2.07 0-2.86zM5.41 20L4 18.59l7.72-7.72 1.47 1.35L5.41 20z\"/>\n",
              "  </svg>\n",
              "      </button>\n",
              "      \n",
              "  <style>\n",
              "    .colab-df-container {\n",
              "      display:flex;\n",
              "      flex-wrap:wrap;\n",
              "      gap: 12px;\n",
              "    }\n",
              "\n",
              "    .colab-df-convert {\n",
              "      background-color: #E8F0FE;\n",
              "      border: none;\n",
              "      border-radius: 50%;\n",
              "      cursor: pointer;\n",
              "      display: none;\n",
              "      fill: #1967D2;\n",
              "      height: 32px;\n",
              "      padding: 0 0 0 0;\n",
              "      width: 32px;\n",
              "    }\n",
              "\n",
              "    .colab-df-convert:hover {\n",
              "      background-color: #E2EBFA;\n",
              "      box-shadow: 0px 1px 2px rgba(60, 64, 67, 0.3), 0px 1px 3px 1px rgba(60, 64, 67, 0.15);\n",
              "      fill: #174EA6;\n",
              "    }\n",
              "\n",
              "    [theme=dark] .colab-df-convert {\n",
              "      background-color: #3B4455;\n",
              "      fill: #D2E3FC;\n",
              "    }\n",
              "\n",
              "    [theme=dark] .colab-df-convert:hover {\n",
              "      background-color: #434B5C;\n",
              "      box-shadow: 0px 1px 3px 1px rgba(0, 0, 0, 0.15);\n",
              "      filter: drop-shadow(0px 1px 2px rgba(0, 0, 0, 0.3));\n",
              "      fill: #FFFFFF;\n",
              "    }\n",
              "  </style>\n",
              "\n",
              "      <script>\n",
              "        const buttonEl =\n",
              "          document.querySelector('#df-79036110-f2c3-4a92-bdf3-c62a132cdaca button.colab-df-convert');\n",
              "        buttonEl.style.display =\n",
              "          google.colab.kernel.accessAllowed ? 'block' : 'none';\n",
              "\n",
              "        async function convertToInteractive(key) {\n",
              "          const element = document.querySelector('#df-79036110-f2c3-4a92-bdf3-c62a132cdaca');\n",
              "          const dataTable =\n",
              "            await google.colab.kernel.invokeFunction('convertToInteractive',\n",
              "                                                     [key], {});\n",
              "          if (!dataTable) return;\n",
              "\n",
              "          const docLinkHtml = 'Like what you see? Visit the ' +\n",
              "            '<a target=\"_blank\" href=https://colab.research.google.com/notebooks/data_table.ipynb>data table notebook</a>'\n",
              "            + ' to learn more about interactive tables.';\n",
              "          element.innerHTML = '';\n",
              "          dataTable['output_type'] = 'display_data';\n",
              "          await google.colab.output.renderOutput(dataTable, element);\n",
              "          const docLink = document.createElement('div');\n",
              "          docLink.innerHTML = docLinkHtml;\n",
              "          element.appendChild(docLink);\n",
              "        }\n",
              "      </script>\n",
              "    </div>\n",
              "  </div>\n",
              "  "
            ]
          },
          "metadata": {},
          "execution_count": 304
        }
      ]
    },
    {
      "cell_type": "markdown",
      "source": [
        "we can see that when the n_estimator = 120, we have the best test score."
      ],
      "metadata": {
        "id": "HYv-pF-f7Dde"
      }
    },
    {
      "cell_type": "code",
      "source": [
        "#instantiate a bagged tree model with the n_estimator = 120 and create the pipeline\n",
        "bagreg = BaggingRegressor(n_estimators=120, random_state=42)\n",
        "bagreg_120_pipe = make_pipeline(preprocessor, bagreg)\n",
        "bagreg_120_pipe.fit(X_train, y_train)"
      ],
      "metadata": {
        "colab": {
          "base_uri": "https://localhost:8080/"
        },
        "id": "0Vs-LW6i7MKH",
        "outputId": "dac67dd9-ca15-42c5-acdd-201f11fc1eb3"
      },
      "execution_count": null,
      "outputs": [
        {
          "output_type": "execute_result",
          "data": {
            "text/plain": [
              "Pipeline(steps=[('columntransformer',\n",
              "                 ColumnTransformer(transformers=[('onehotencoder',\n",
              "                                                  OneHotEncoder(handle_unknown='ignore',\n",
              "                                                                sparse=False),\n",
              "                                                  <sklearn.compose._column_transformer.make_column_selector object at 0x7f7e9b5c3690>),\n",
              "                                                 ('pipeline',\n",
              "                                                  Pipeline(steps=[('simpleimputer',\n",
              "                                                                   SimpleImputer()),\n",
              "                                                                  ('standardscaler',\n",
              "                                                                   StandardScaler())]),\n",
              "                                                  <sklearn.compose._column_transformer.make_column_selector object at 0x7f7e9b5c30d0>)])),\n",
              "                ('baggingregressor',\n",
              "                 BaggingRegressor(n_estimators=120, random_state=42))])"
            ]
          },
          "metadata": {},
          "execution_count": 305
        }
      ]
    },
    {
      "cell_type": "code",
      "source": [
        "# find MAE, MSE, RMSE and R2 on the bagged tree model with the best n_estimators = 120 for both the train and test data\n",
        "print('Train Evaluation')\n",
        "eval_regression(y_train, bagreg_120_pipe.predict(X_train))\n",
        "\n",
        "print('\\nTest Evaluation')\n",
        "eval_regression(y_test, bagreg_120_pipe.predict(X_test))"
      ],
      "metadata": {
        "colab": {
          "base_uri": "https://localhost:8080/"
        },
        "id": "uc4Wi6vF75Xb",
        "outputId": "e1d9e499-b799-41fa-bd37-0b35cdfdf05f"
      },
      "execution_count": null,
      "outputs": [
        {
          "output_type": "stream",
          "name": "stdout",
          "text": [
            "Train Evaluation\n",
            "MAE 16.548544983186563,\n",
            " MSE 2483.325569742755,\n",
            " RMSE: 49.83297672969933,\n",
            " R^2: 0.9640157407687068 \n",
            "\n",
            "Test Evaluation\n",
            "MAE 53.59454360185303,\n",
            " MSE 33249.083876370685,\n",
            " RMSE: 182.3433132208875,\n",
            " R^2: 0.6617649573049995 \n"
          ]
        }
      ]
    },
    {
      "cell_type": "markdown",
      "source": [
        "**Model 5: Random Forest Model**"
      ],
      "metadata": {
        "id": "XaXe1dMC_rHO"
      }
    },
    {
      "cell_type": "code",
      "source": [
        "#use all of the default parameters, instantiate a random forest model\n",
        "rf = RandomForestRegressor(random_state = 42)"
      ],
      "metadata": {
        "id": "HXgW1ul3_14f"
      },
      "execution_count": null,
      "outputs": []
    },
    {
      "cell_type": "code",
      "source": [
        "# create model pipeline\n",
        "rf_pipe = make_pipeline(preprocessor, rf)\n",
        "rf_pipe.fit(X_train, y_train);"
      ],
      "metadata": {
        "id": "94OwxmweAK1l"
      },
      "execution_count": null,
      "outputs": []
    },
    {
      "cell_type": "code",
      "source": [
        "# find MAE, MSE, RMSE and R2 on the random forest model for both the train and test data\n",
        "print('Train Evaluation')\n",
        "eval_regression(y_train, rf_pipe.predict(X_train))\n",
        "\n",
        "print('\\nTest Evaluation')\n",
        "eval_regression(y_test, rf_pipe.predict(X_test))"
      ],
      "metadata": {
        "colab": {
          "base_uri": "https://localhost:8080/"
        },
        "id": "x1IGf6xTAWF4",
        "outputId": "bf9f9b5f-facf-41cc-a4b0-502c1166e807"
      },
      "execution_count": null,
      "outputs": [
        {
          "output_type": "stream",
          "name": "stdout",
          "text": [
            "Train Evaluation\n",
            "MAE 16.705355210102095,\n",
            " MSE 2547.0911871015537,\n",
            " RMSE: 50.46871493412086,\n",
            " R^2: 0.9630917545894317 \n",
            "\n",
            "Test Evaluation\n",
            "MAE 53.12674734011859,\n",
            " MSE 33170.251520156075,\n",
            " RMSE: 182.12702029121346,\n",
            " R^2: 0.6625669001636101 \n"
          ]
        }
      ]
    },
    {
      "cell_type": "markdown",
      "source": [
        "**Tune the random forest model: finding the optimal max_depth and n_estimators**"
      ],
      "metadata": {
        "id": "eFbx15WCA1th"
      }
    },
    {
      "cell_type": "code",
      "source": [
        "# to find out the depth of each tree in random forest was when the max_depth was unlimited.\n",
        "est_depths = [estimator.get_depth() for estimator in rf.estimators_]\n",
        "max(est_depths)"
      ],
      "metadata": {
        "colab": {
          "base_uri": "https://localhost:8080/"
        },
        "id": "p7v8Ngm5A_mK",
        "outputId": "d9b281e6-bf90-4dd6-9123-31d67787d447"
      },
      "execution_count": null,
      "outputs": [
        {
          "output_type": "execute_result",
          "data": {
            "text/plain": [
              "94"
            ]
          },
          "metadata": {},
          "execution_count": 310
        }
      ]
    },
    {
      "cell_type": "code",
      "source": [
        "#Use a for loop help to try many values to find out the optimal max_depth.\n",
        "depths = range(1, max(est_depths))\n",
        "scores = pd.DataFrame(index=depths, columns=['Test Score', 'Train Score'])\n",
        "for depth in depths:    \n",
        "   rf = RandomForestRegressor(max_depth=depth, random_state=42)\n",
        "   rf_pipe = make_pipeline(preprocessor, rf)\n",
        "   rf_pipe.fit(X_train, y_train)\n",
        "   train_score = rf_pipe.score(X_train, y_train)\n",
        "   test_score = rf_pipe.score(X_test, y_test)\n",
        "   scores.loc[depth, 'Train Score'] = train_score\n",
        "   scores.loc[depth, 'Test Score'] = test_score"
      ],
      "metadata": {
        "id": "NbaceZnUBuMS"
      },
      "execution_count": null,
      "outputs": []
    },
    {
      "cell_type": "code",
      "source": [
        "#use sort_values to sort out the best score\n",
        "sorted_scores = scores.sort_values(by='Test Score', ascending=False)\n",
        "sorted_scores.head()"
      ],
      "metadata": {
        "colab": {
          "base_uri": "https://localhost:8080/",
          "height": 206
        },
        "id": "RnRApAKxC20A",
        "outputId": "045f6658-b024-47d0-adf8-56478f87ebcc"
      },
      "execution_count": null,
      "outputs": [
        {
          "output_type": "execute_result",
          "data": {
            "text/plain": [
              "   Test Score Train Score\n",
              "54   0.665523    0.963715\n",
              "42   0.665137    0.963081\n",
              "73   0.663972    0.963374\n",
              "76   0.663501    0.963115\n",
              "67   0.663367    0.963758"
            ],
            "text/html": [
              "\n",
              "  <div id=\"df-87b19224-1a9b-4142-85d7-3d23aaf0d3c4\">\n",
              "    <div class=\"colab-df-container\">\n",
              "      <div>\n",
              "<style scoped>\n",
              "    .dataframe tbody tr th:only-of-type {\n",
              "        vertical-align: middle;\n",
              "    }\n",
              "\n",
              "    .dataframe tbody tr th {\n",
              "        vertical-align: top;\n",
              "    }\n",
              "\n",
              "    .dataframe thead th {\n",
              "        text-align: right;\n",
              "    }\n",
              "</style>\n",
              "<table border=\"1\" class=\"dataframe\">\n",
              "  <thead>\n",
              "    <tr style=\"text-align: right;\">\n",
              "      <th></th>\n",
              "      <th>Test Score</th>\n",
              "      <th>Train Score</th>\n",
              "    </tr>\n",
              "  </thead>\n",
              "  <tbody>\n",
              "    <tr>\n",
              "      <th>54</th>\n",
              "      <td>0.665523</td>\n",
              "      <td>0.963715</td>\n",
              "    </tr>\n",
              "    <tr>\n",
              "      <th>42</th>\n",
              "      <td>0.665137</td>\n",
              "      <td>0.963081</td>\n",
              "    </tr>\n",
              "    <tr>\n",
              "      <th>73</th>\n",
              "      <td>0.663972</td>\n",
              "      <td>0.963374</td>\n",
              "    </tr>\n",
              "    <tr>\n",
              "      <th>76</th>\n",
              "      <td>0.663501</td>\n",
              "      <td>0.963115</td>\n",
              "    </tr>\n",
              "    <tr>\n",
              "      <th>67</th>\n",
              "      <td>0.663367</td>\n",
              "      <td>0.963758</td>\n",
              "    </tr>\n",
              "  </tbody>\n",
              "</table>\n",
              "</div>\n",
              "      <button class=\"colab-df-convert\" onclick=\"convertToInteractive('df-87b19224-1a9b-4142-85d7-3d23aaf0d3c4')\"\n",
              "              title=\"Convert this dataframe to an interactive table.\"\n",
              "              style=\"display:none;\">\n",
              "        \n",
              "  <svg xmlns=\"http://www.w3.org/2000/svg\" height=\"24px\"viewBox=\"0 0 24 24\"\n",
              "       width=\"24px\">\n",
              "    <path d=\"M0 0h24v24H0V0z\" fill=\"none\"/>\n",
              "    <path d=\"M18.56 5.44l.94 2.06.94-2.06 2.06-.94-2.06-.94-.94-2.06-.94 2.06-2.06.94zm-11 1L8.5 8.5l.94-2.06 2.06-.94-2.06-.94L8.5 2.5l-.94 2.06-2.06.94zm10 10l.94 2.06.94-2.06 2.06-.94-2.06-.94-.94-2.06-.94 2.06-2.06.94z\"/><path d=\"M17.41 7.96l-1.37-1.37c-.4-.4-.92-.59-1.43-.59-.52 0-1.04.2-1.43.59L10.3 9.45l-7.72 7.72c-.78.78-.78 2.05 0 2.83L4 21.41c.39.39.9.59 1.41.59.51 0 1.02-.2 1.41-.59l7.78-7.78 2.81-2.81c.8-.78.8-2.07 0-2.86zM5.41 20L4 18.59l7.72-7.72 1.47 1.35L5.41 20z\"/>\n",
              "  </svg>\n",
              "      </button>\n",
              "      \n",
              "  <style>\n",
              "    .colab-df-container {\n",
              "      display:flex;\n",
              "      flex-wrap:wrap;\n",
              "      gap: 12px;\n",
              "    }\n",
              "\n",
              "    .colab-df-convert {\n",
              "      background-color: #E8F0FE;\n",
              "      border: none;\n",
              "      border-radius: 50%;\n",
              "      cursor: pointer;\n",
              "      display: none;\n",
              "      fill: #1967D2;\n",
              "      height: 32px;\n",
              "      padding: 0 0 0 0;\n",
              "      width: 32px;\n",
              "    }\n",
              "\n",
              "    .colab-df-convert:hover {\n",
              "      background-color: #E2EBFA;\n",
              "      box-shadow: 0px 1px 2px rgba(60, 64, 67, 0.3), 0px 1px 3px 1px rgba(60, 64, 67, 0.15);\n",
              "      fill: #174EA6;\n",
              "    }\n",
              "\n",
              "    [theme=dark] .colab-df-convert {\n",
              "      background-color: #3B4455;\n",
              "      fill: #D2E3FC;\n",
              "    }\n",
              "\n",
              "    [theme=dark] .colab-df-convert:hover {\n",
              "      background-color: #434B5C;\n",
              "      box-shadow: 0px 1px 3px 1px rgba(0, 0, 0, 0.15);\n",
              "      filter: drop-shadow(0px 1px 2px rgba(0, 0, 0, 0.3));\n",
              "      fill: #FFFFFF;\n",
              "    }\n",
              "  </style>\n",
              "\n",
              "      <script>\n",
              "        const buttonEl =\n",
              "          document.querySelector('#df-87b19224-1a9b-4142-85d7-3d23aaf0d3c4 button.colab-df-convert');\n",
              "        buttonEl.style.display =\n",
              "          google.colab.kernel.accessAllowed ? 'block' : 'none';\n",
              "\n",
              "        async function convertToInteractive(key) {\n",
              "          const element = document.querySelector('#df-87b19224-1a9b-4142-85d7-3d23aaf0d3c4');\n",
              "          const dataTable =\n",
              "            await google.colab.kernel.invokeFunction('convertToInteractive',\n",
              "                                                     [key], {});\n",
              "          if (!dataTable) return;\n",
              "\n",
              "          const docLinkHtml = 'Like what you see? Visit the ' +\n",
              "            '<a target=\"_blank\" href=https://colab.research.google.com/notebooks/data_table.ipynb>data table notebook</a>'\n",
              "            + ' to learn more about interactive tables.';\n",
              "          element.innerHTML = '';\n",
              "          dataTable['output_type'] = 'display_data';\n",
              "          await google.colab.output.renderOutput(dataTable, element);\n",
              "          const docLink = document.createElement('div');\n",
              "          docLink.innerHTML = docLinkHtml;\n",
              "          element.appendChild(docLink);\n",
              "        }\n",
              "      </script>\n",
              "    </div>\n",
              "  </div>\n",
              "  "
            ]
          },
          "metadata": {},
          "execution_count": 312
        }
      ]
    },
    {
      "cell_type": "markdown",
      "source": [
        "we can see that when the max_depth = 54, we have the best test score."
      ],
      "metadata": {
        "id": "c6lVzlrOGXeK"
      }
    },
    {
      "cell_type": "markdown",
      "source": [
        "**Keep tuning the best n_estimator based on the max_depth = 54.**"
      ],
      "metadata": {
        "id": "JFGXL0KfGtAs"
      }
    },
    {
      "cell_type": "code",
      "source": [
        "#using a for loop to find the optimal n_estimators\n",
        "n_ests = [10, 30, 60, 80, 100, 120]\n",
        "scores = pd.DataFrame(index=n_ests, columns=['Test Score', 'Train Score'])\n",
        "for n in n_ests:\n",
        "   rf_54 = RandomForestRegressor(max_depth=54, n_estimators=n, random_state = 42)\n",
        "   rf_54_pipe = make_pipeline(preprocessor, rf_54)\n",
        "   rf_54_pipe.fit(X_train, y_train)\n",
        "   scores.loc[n, 'Train Score'] = rf_54_pipe.score(X_train, y_train)\n",
        "   scores.loc[n, 'Test Score'] = rf_54_pipe.score(X_test, y_test)"
      ],
      "metadata": {
        "id": "IPa7VtGnGi80"
      },
      "execution_count": null,
      "outputs": []
    },
    {
      "cell_type": "code",
      "source": [
        "#use sort_values to sort out the best score\n",
        "sorted_scores = scores.sort_values(by='Test Score', ascending=False)\n",
        "sorted_scores.head()"
      ],
      "metadata": {
        "colab": {
          "base_uri": "https://localhost:8080/",
          "height": 206
        },
        "id": "vXDixkj0HryO",
        "outputId": "e5d367b5-c36b-4dd0-827d-0a3b36c2a414"
      },
      "execution_count": null,
      "outputs": [
        {
          "output_type": "execute_result",
          "data": {
            "text/plain": [
              "    Test Score Train Score\n",
              "80    0.666001     0.96393\n",
              "100   0.665523    0.963715\n",
              "120   0.662368    0.964142\n",
              "60    0.660707    0.960648\n",
              "30    0.648093    0.961896"
            ],
            "text/html": [
              "\n",
              "  <div id=\"df-09310b20-2d76-4db9-a628-70ac546f3284\">\n",
              "    <div class=\"colab-df-container\">\n",
              "      <div>\n",
              "<style scoped>\n",
              "    .dataframe tbody tr th:only-of-type {\n",
              "        vertical-align: middle;\n",
              "    }\n",
              "\n",
              "    .dataframe tbody tr th {\n",
              "        vertical-align: top;\n",
              "    }\n",
              "\n",
              "    .dataframe thead th {\n",
              "        text-align: right;\n",
              "    }\n",
              "</style>\n",
              "<table border=\"1\" class=\"dataframe\">\n",
              "  <thead>\n",
              "    <tr style=\"text-align: right;\">\n",
              "      <th></th>\n",
              "      <th>Test Score</th>\n",
              "      <th>Train Score</th>\n",
              "    </tr>\n",
              "  </thead>\n",
              "  <tbody>\n",
              "    <tr>\n",
              "      <th>80</th>\n",
              "      <td>0.666001</td>\n",
              "      <td>0.96393</td>\n",
              "    </tr>\n",
              "    <tr>\n",
              "      <th>100</th>\n",
              "      <td>0.665523</td>\n",
              "      <td>0.963715</td>\n",
              "    </tr>\n",
              "    <tr>\n",
              "      <th>120</th>\n",
              "      <td>0.662368</td>\n",
              "      <td>0.964142</td>\n",
              "    </tr>\n",
              "    <tr>\n",
              "      <th>60</th>\n",
              "      <td>0.660707</td>\n",
              "      <td>0.960648</td>\n",
              "    </tr>\n",
              "    <tr>\n",
              "      <th>30</th>\n",
              "      <td>0.648093</td>\n",
              "      <td>0.961896</td>\n",
              "    </tr>\n",
              "  </tbody>\n",
              "</table>\n",
              "</div>\n",
              "      <button class=\"colab-df-convert\" onclick=\"convertToInteractive('df-09310b20-2d76-4db9-a628-70ac546f3284')\"\n",
              "              title=\"Convert this dataframe to an interactive table.\"\n",
              "              style=\"display:none;\">\n",
              "        \n",
              "  <svg xmlns=\"http://www.w3.org/2000/svg\" height=\"24px\"viewBox=\"0 0 24 24\"\n",
              "       width=\"24px\">\n",
              "    <path d=\"M0 0h24v24H0V0z\" fill=\"none\"/>\n",
              "    <path d=\"M18.56 5.44l.94 2.06.94-2.06 2.06-.94-2.06-.94-.94-2.06-.94 2.06-2.06.94zm-11 1L8.5 8.5l.94-2.06 2.06-.94-2.06-.94L8.5 2.5l-.94 2.06-2.06.94zm10 10l.94 2.06.94-2.06 2.06-.94-2.06-.94-.94-2.06-.94 2.06-2.06.94z\"/><path d=\"M17.41 7.96l-1.37-1.37c-.4-.4-.92-.59-1.43-.59-.52 0-1.04.2-1.43.59L10.3 9.45l-7.72 7.72c-.78.78-.78 2.05 0 2.83L4 21.41c.39.39.9.59 1.41.59.51 0 1.02-.2 1.41-.59l7.78-7.78 2.81-2.81c.8-.78.8-2.07 0-2.86zM5.41 20L4 18.59l7.72-7.72 1.47 1.35L5.41 20z\"/>\n",
              "  </svg>\n",
              "      </button>\n",
              "      \n",
              "  <style>\n",
              "    .colab-df-container {\n",
              "      display:flex;\n",
              "      flex-wrap:wrap;\n",
              "      gap: 12px;\n",
              "    }\n",
              "\n",
              "    .colab-df-convert {\n",
              "      background-color: #E8F0FE;\n",
              "      border: none;\n",
              "      border-radius: 50%;\n",
              "      cursor: pointer;\n",
              "      display: none;\n",
              "      fill: #1967D2;\n",
              "      height: 32px;\n",
              "      padding: 0 0 0 0;\n",
              "      width: 32px;\n",
              "    }\n",
              "\n",
              "    .colab-df-convert:hover {\n",
              "      background-color: #E2EBFA;\n",
              "      box-shadow: 0px 1px 2px rgba(60, 64, 67, 0.3), 0px 1px 3px 1px rgba(60, 64, 67, 0.15);\n",
              "      fill: #174EA6;\n",
              "    }\n",
              "\n",
              "    [theme=dark] .colab-df-convert {\n",
              "      background-color: #3B4455;\n",
              "      fill: #D2E3FC;\n",
              "    }\n",
              "\n",
              "    [theme=dark] .colab-df-convert:hover {\n",
              "      background-color: #434B5C;\n",
              "      box-shadow: 0px 1px 3px 1px rgba(0, 0, 0, 0.15);\n",
              "      filter: drop-shadow(0px 1px 2px rgba(0, 0, 0, 0.3));\n",
              "      fill: #FFFFFF;\n",
              "    }\n",
              "  </style>\n",
              "\n",
              "      <script>\n",
              "        const buttonEl =\n",
              "          document.querySelector('#df-09310b20-2d76-4db9-a628-70ac546f3284 button.colab-df-convert');\n",
              "        buttonEl.style.display =\n",
              "          google.colab.kernel.accessAllowed ? 'block' : 'none';\n",
              "\n",
              "        async function convertToInteractive(key) {\n",
              "          const element = document.querySelector('#df-09310b20-2d76-4db9-a628-70ac546f3284');\n",
              "          const dataTable =\n",
              "            await google.colab.kernel.invokeFunction('convertToInteractive',\n",
              "                                                     [key], {});\n",
              "          if (!dataTable) return;\n",
              "\n",
              "          const docLinkHtml = 'Like what you see? Visit the ' +\n",
              "            '<a target=\"_blank\" href=https://colab.research.google.com/notebooks/data_table.ipynb>data table notebook</a>'\n",
              "            + ' to learn more about interactive tables.';\n",
              "          element.innerHTML = '';\n",
              "          dataTable['output_type'] = 'display_data';\n",
              "          await google.colab.output.renderOutput(dataTable, element);\n",
              "          const docLink = document.createElement('div');\n",
              "          docLink.innerHTML = docLinkHtml;\n",
              "          element.appendChild(docLink);\n",
              "        }\n",
              "      </script>\n",
              "    </div>\n",
              "  </div>\n",
              "  "
            ]
          },
          "metadata": {},
          "execution_count": 314
        }
      ]
    },
    {
      "cell_type": "markdown",
      "source": [
        "we can see that when the max_deth=54, the n_estimator=80, we have the best test score."
      ],
      "metadata": {
        "id": "9jsEKlngHxt5"
      }
    },
    {
      "cell_type": "code",
      "source": [
        "#instantiate a random forest model with the max_depth = 54 and the n_estimator=80\n",
        "rf_54_80 = RandomForestRegressor(max_depth=54, n_estimators=80, random_state = 42)"
      ],
      "metadata": {
        "id": "CKXw01_GH-5G"
      },
      "execution_count": null,
      "outputs": []
    },
    {
      "cell_type": "code",
      "source": [
        "#create pipeline\n",
        "rf_54_80_pipe = make_pipeline(preprocessor, rf_54_80)\n",
        "rf_54_80_pipe.fit(X_train, y_train)"
      ],
      "metadata": {
        "colab": {
          "base_uri": "https://localhost:8080/"
        },
        "id": "Z8JkRr8bIEX5",
        "outputId": "6aba4cd5-cdbf-4e86-989b-2178cba85ece"
      },
      "execution_count": null,
      "outputs": [
        {
          "output_type": "execute_result",
          "data": {
            "text/plain": [
              "Pipeline(steps=[('columntransformer',\n",
              "                 ColumnTransformer(transformers=[('onehotencoder',\n",
              "                                                  OneHotEncoder(handle_unknown='ignore',\n",
              "                                                                sparse=False),\n",
              "                                                  <sklearn.compose._column_transformer.make_column_selector object at 0x7f7e9b5c3690>),\n",
              "                                                 ('pipeline',\n",
              "                                                  Pipeline(steps=[('simpleimputer',\n",
              "                                                                   SimpleImputer()),\n",
              "                                                                  ('standardscaler',\n",
              "                                                                   StandardScaler())]),\n",
              "                                                  <sklearn.compose._column_transformer.make_column_selector object at 0x7f7e9b5c30d0>)])),\n",
              "                ('randomforestregressor',\n",
              "                 RandomForestRegressor(max_depth=54, n_estimators=80,\n",
              "                                       random_state=42))])"
            ]
          },
          "metadata": {},
          "execution_count": 316
        }
      ]
    },
    {
      "cell_type": "code",
      "source": [
        "# find MAE, MSE, RMSE and R2 on the random forest model when the max_depth = 54 and n_estimator = 80 for both the train and test data\n",
        "print('Train Evaluation')\n",
        "eval_regression(y_train, rf_54_80_pipe.predict(X_train))\n",
        "\n",
        "print('\\nTest Evaluation')\n",
        "eval_regression(y_test, rf_54_80_pipe.predict(X_test))"
      ],
      "metadata": {
        "colab": {
          "base_uri": "https://localhost:8080/"
        },
        "id": "5FwZOeZPI1Nl",
        "outputId": "47c4ee4d-f26b-45bb-ed87-354659989b6e"
      },
      "execution_count": null,
      "outputs": [
        {
          "output_type": "stream",
          "name": "stdout",
          "text": [
            "Train Evaluation\n",
            "MAE 16.80743830720469,\n",
            " MSE 2489.266798954593,\n",
            " RMSE: 49.892552539979285,\n",
            " R^2: 0.963929650271868 \n",
            "\n",
            "Test Evaluation\n",
            "MAE 53.38600129157633,\n",
            " MSE 32832.676109262764,\n",
            " RMSE: 181.1978921214669,\n",
            " R^2: 0.6660009747366369 \n"
          ]
        }
      ]
    },
    {
      "cell_type": "markdown",
      "source": [
        "**Summary**\n",
        "\n",
        "\n",
        "*   After trying all the models and hyperparameters tested. I can tell that the best final model is Random Forest Model with the max_depth = 54 and the n_estimator = 80.\n",
        "\n",
        "\n"
      ],
      "metadata": {
        "id": "QfXjqqIvJia5"
      }
    },
    {
      "cell_type": "markdown",
      "source": [
        "**Perform PCA on the final best model I just created.**"
      ],
      "metadata": {
        "id": "wz_Az5RmK3s8"
      }
    },
    {
      "cell_type": "code",
      "source": [
        "#I want the number of Principal Components that will retain 95% of the variance in the original features\n",
        "pca = PCA(n_components = .95)"
      ],
      "metadata": {
        "id": "NOOPuXccLjo0"
      },
      "execution_count": null,
      "outputs": []
    },
    {
      "cell_type": "code",
      "source": [
        "#create a pipeline with the preprocessor and the pca together\n",
        "pca_pipe = make_pipeline(preprocessor, pca)"
      ],
      "metadata": {
        "id": "gGLa-zHQTtQV"
      },
      "execution_count": null,
      "outputs": []
    },
    {
      "cell_type": "code",
      "source": [
        "#create anthother pipeline with the pca_pipe and rf_54_80 model together\n",
        "rf_pca_pipe = make_pipeline(pca_pipe, rf_54_80)"
      ],
      "metadata": {
        "id": "8g4ab_F6UKiz"
      },
      "execution_count": null,
      "outputs": []
    },
    {
      "cell_type": "code",
      "source": [
        "#fit the pipeline\n",
        "rf_pca_pipe.fit(X_train, y_train)"
      ],
      "metadata": {
        "colab": {
          "base_uri": "https://localhost:8080/"
        },
        "id": "0SV-qysIUxoV",
        "outputId": "c7fbaf91-03a8-453f-8d9b-834e7aeb987c"
      },
      "execution_count": null,
      "outputs": [
        {
          "output_type": "execute_result",
          "data": {
            "text/plain": [
              "Pipeline(steps=[('pipeline',\n",
              "                 Pipeline(steps=[('columntransformer',\n",
              "                                  ColumnTransformer(transformers=[('onehotencoder',\n",
              "                                                                   OneHotEncoder(handle_unknown='ignore',\n",
              "                                                                                 sparse=False),\n",
              "                                                                   <sklearn.compose._column_transformer.make_column_selector object at 0x7f7e9b5c3690>),\n",
              "                                                                  ('pipeline',\n",
              "                                                                   Pipeline(steps=[('simpleimputer',\n",
              "                                                                                    SimpleImputer()),\n",
              "                                                                                   ('standardscaler',\n",
              "                                                                                    StandardScaler())]),\n",
              "                                                                   <sklearn.compose._column_transformer.make_column_selector object at 0x7f7e9b5c30d0>)])),\n",
              "                                 ('pca', PCA(n_components=0.95))])),\n",
              "                ('randomforestregressor',\n",
              "                 RandomForestRegressor(max_depth=54, n_estimators=80,\n",
              "                                       random_state=42))])"
            ]
          },
          "metadata": {},
          "execution_count": 331
        }
      ]
    },
    {
      "cell_type": "code",
      "source": [
        "# find MAE, MSE, RMSE and R2 on the random forest model when the max_depth = 54 and n_estimator = 80 with the PCA for both the train and test data\n",
        "print('Train Evaluation')\n",
        "eval_regression(y_train, rf_pca_pipe.predict(X_train))\n",
        "\n",
        "print('\\nTest Evaluation')\n",
        "eval_regression(y_test, rf_pca_pipe.predict(X_test))"
      ],
      "metadata": {
        "colab": {
          "base_uri": "https://localhost:8080/"
        },
        "id": "F9Q6X4LfWOaB",
        "outputId": "a8c03caf-3c01-4657-a800-21d96700c27d"
      },
      "execution_count": null,
      "outputs": [
        {
          "output_type": "stream",
          "name": "stdout",
          "text": [
            "Train Evaluation\n",
            "MAE 18.970932575858317,\n",
            " MSE 2640.512215630401,\n",
            " RMSE: 51.385914564503,\n",
            " R^2: 0.9617380510923167 \n",
            "\n",
            "Test Evaluation\n",
            "MAE 55.90016801025883,\n",
            " MSE 31235.58260768514,\n",
            " RMSE: 176.73591204869808,\n",
            " R^2: 0.6822478280545388 \n"
          ]
        }
      ]
    },
    {
      "cell_type": "markdown",
      "source": [
        "**Key Finding**\n",
        "\n",
        "\n",
        "*   The Random Forest Model with the max_depth = 54 and n_estimator = 80 without the PCA which is \"rf_54_80_pipe\" model, the testing score (R2 score) was around 0.666.\n",
        "*   The Random Forest Model with the max_depth = 54 and n_estimator = 80 with the PCA which is \"rf_pca_pipe\" model, the testing score (R2 score) was around 0.682.\n",
        "\n",
        "\n",
        "*   Perform PCA on the model did improve the model's predicting ability.\n",
        "\n",
        "\n",
        "\n"
      ],
      "metadata": {
        "id": "DL0z810vXHY3"
      }
    }
  ]
}